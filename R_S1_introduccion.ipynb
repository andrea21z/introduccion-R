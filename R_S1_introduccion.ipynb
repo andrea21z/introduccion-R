{
 "cells": [
  {
   "cell_type": "markdown",
   "metadata": {
    "button": false,
    "new_sheet": false,
    "run_control": {
     "read_only": false
    }
   },
   "source": [
    "# R: Introducción y estructuras de datos"
   ]
  },
  {
   "cell_type": "markdown",
   "metadata": {},
   "source": [
    "**Profesores:**  \n",
    "Rodrigo Manzanas (rmanzanas@ifca.unican.es)  \n",
    "Catharina Graafland (catharina.graafland@unican.es)  "
   ]
  },
  {
   "cell_type": "markdown",
   "metadata": {
    "button": false,
    "new_sheet": false,
    "run_control": {
     "read_only": false
    }
   },
   "source": [
    "## ¿Qué es R?\n",
    "\n",
    "* En 1976, John Chambers, Rick Becker y Allan Wilks desarrollaron *S* como un conjunto de macros Fortran, que se convirtieron en el entorno de análisis estadístico de Bell Labs.\n",
    "* En 1988, se reescribió completamente S (S3) en código C. Diez años más tarde, en 1998, se lanzó la S4, que contenía un conjunto de características orientadas a objetos más avanzadas que las de S3. S4 (y su versión comercial S-Plus) siguen estando vigentes en la actualidad.\n",
    "* En pocas palabras, R es un dialecto libre del lenguaje S, desarrollado en 1993 por Robert Gentleman y Ross Ihaka del departamento de Estadística de la Universidad de Auckland.\n",
    "* Con más de 2 millones de usuarios a nivel mundial, R se ha convertido rápidamente en el lenguaje de programación líder en estadística y ciencia de datos. Cada año, el número de usuarios de R crece en un 40%, y cada vez más organizaciones lo están usando para sus actividades cotidianas. Sus características básicas son:\n",
    "  + software libre de código abierto -> desarrolladores de todo el mundo contribuyen con paquetes que permiten realizar análisis cada vez más específicos y sofisticados. No hay limitaciones.   \n",
    "  + está en constante evolución y se dispone de una amplia documentación. Hay mucha información disponible en foros como Stackoverflow.\n",
    "  + gran capacidad de gráficos para visualizar información compleja de una forma sencilla. \n",
    "  + muy flexible, puede trabajar con datos procedentes de todo tipo de archivos: .txt, .csv, JSON, etc.\n",
    "* Existen múltiples guías para el aprendizaje y uso de R. Algunas de las más populares son las siguientes:\n",
    "  + \"Introduccion a R\": http://cran.r-project.org/doc/contrib/R-intro-1.1.0-espanol.1.pdf\n",
    "  + \"R para principiantes\": https://cran.r-project.org/doc/contrib/rdebuts_es.pdf\n",
    "  + \"The R book\": ftp://ftp.tuebingen.mpg.de/pub/kyb/bresciani/Crawley%20-%20The%20R%20Book.pdf"
   ]
  },
  {
   "cell_type": "markdown",
   "metadata": {
    "button": false,
    "new_sheet": false,
    "run_control": {
     "read_only": false
    }
   },
   "source": [
    "## Primeros pasos con R\n",
    "\n",
    "* Instalación:\n",
    " + Desde la paǵina de CRAN (Comprehensive R Archive Network): https://cran.r-project.org/mirrors.html. CRAN es el repositorio oficial de R (y la mayoría de sus paquetes), el cual es coordinado por la \"R foundation\" y mantenido por la comunidad de usuarios de R en todo el mundo. En Ubuntu y otras distribuciones Linux suele bastar con ejecutar `sudo apt-get install r-base`\n",
    "   + Suele publicarse una nueva versión de R cada seis meses. Es conveniente utilizar siempre la última versión.\n",
    "* R es un lenguaje de programación orientado a objetos, muy similar en sintaxis a C y C++. Todo en R son objetos: un valor numérico es un objeto, un vector es un objeto, una función es un objeto, una base de datos es un objeto, un gráfico es un objeto... Entre otras cosas, esto significa que una misma función puede hacer cosas distintas según la clase del objeto que recibe como argumento, pudiendo incluso no hacer nada (o producir un error) si se le pasan argumentos de una clase inadecuada.\n",
    "* El nombre de un objeto de R puede ser cualquier cadena alfanumérica formada por letras (R distingue entre mayúsculas y minúsculas), dígitos del 0 al 9 (nunca en primera posición del nombre) y los signos \".\" y \"\\_\". Por ejemplo, *Var123* o *Var.123* son nombres válidos.\n",
    "\n",
    "### R desde terminal\n",
    "\n",
    "* Para abrir una sesión de R, simplemente ejecuta la orden `R` desde la terminal. Algunos comandos básicos son los siguientes:\n",
    "\n",
    "`# esto es un comentario\n",
    "getwd()  # muestra el directorio de trabajo actual\n",
    "setwd(\"/home/jovyan/panorama/R\")  # especifica un nuevo directorio de trabajo\n",
    "list.files()  # lista el contenido del directorio de trabajo \n",
    "ls()  # lista los objetos guardados en memoria en la sesión de trabajo actual\n",
    "quit()  # cierra la sesión actual`\n",
    "\n",
    "* Uso de R como calculadora:\n",
    "\n",
    "`2+2\n",
    "10/2\n",
    "sqrt(8)\n",
    "3^2\n",
    "log(7)\n",
    "x <- 5; y <- 6; x+y  # las expresiones \"<-\" y \"=\" son equivalentes`\n",
    "\n",
    "### R en Jupyter\n",
    "\n",
    "* Para poder usar R desde Jupyter necesitamos instalar primero *IRKernell* (kernel de R). [IRKernel](https://irkernel.github.io/) permite incorporar celdas que calculen utilizando R como lenguaje de programación. Para su instalación es [necesario](https://irkernel.github.io/requirements/) tener instalado R en la instancia de Jupyter. En ese caso, la instalación básica del kernel se realiza siguiendo las siguientes [instrucciones](https://irkernel.github.io/installation/#binary-panel):\n",
    "\n",
    " 1) Se instalan desde la consola de R los paquetes necesarios, incluido IRKernel:\n",
    " \n",
    "   `install.packages(c('repr', 'IRdisplay', 'evaluate', 'crayon', 'pbdZMQ', 'devtools', 'uuid', 'digest'))`   \n",
    "   `devtools::install_github('IRkernel/IRkernel')`\n",
    "   \n",
    " 2) A continuación debe hacerse visible el kernel desde Jupyter. Para ello, debemos ejecutar desde R:\n",
    " \n",
    "   `IRkernel::installspec()`   \n",
    "   \n",
    "Ahora se activará dentro del menú *Kernel* de Jupyter una nueva opción `R` para utilizar celdas con ese lenguaje.\n",
    "\n",
    "En ocasiones puede ocurrir que la instalación del kernel no se propague al notebook de modo que no permita seleccionar el Kernel de `R`. En ese caso debemos, por un lado, revisar el listado de kernels (desde la terminal de Jupyter)\n",
    "\n",
    "   `jupyter kernelspec list`\n",
    "   \n",
    "y a continuación, en caso de que esté disponible el kernel, forzar su instalación\n",
    "\n",
    "   `jupyter kernelspec install /path/jupyter/kernels/ir`\n",
    "\n",
    "En dicho momento se activará la opción de ese kernel en el notebook."
   ]
  },
  {
   "cell_type": "markdown",
   "metadata": {
    "button": false,
    "new_sheet": false,
    "run_control": {
     "read_only": false
    }
   },
   "source": [
    "## Estructuras de datos en R\n",
    "\n",
    "* Como ya hemos comentado, las entidades que R crea y manipula se denominan objetos, y pueden ser de distintos tipos.    \n",
    "  + Los atributos de un objeto suministran información específica sobre el propio objeto.\n",
    "  + Un objeto siempre lleva como attributo la longitud y la clase\n",
    "    + La función `class()` devuelve la clase del objeto.  \n",
    "    + La función `length()` devuelve la longitud del objeto.  \n",
    "    + La función `str()` da informacion sobre todo la estructura del objeto.  \n",
    "\n",
    "* R dispone las siguientes estructuras de datos (clases).\n",
    "  + vector\n",
    "  + matrix\n",
    "  + array\n",
    "  + factor\n",
    "  + list\n",
    "  + data.frame\n",
    "\n",
    "* Estas estructuras pueden estar formadas por un único o varios tipos de datos (clases atómicas).\n",
    "  + Enteros  - **integer** (2L, as.integer(3), etc.)\n",
    "  + Numérico - **numeric/double**: (números reales) (2, 2.0, pi, Inf, etc.) \n",
    "  + Complejo - **complex** (1 + 0i, 1 + 4i, etc.)\n",
    "    + Los operadores aritméticos elementales son los habituales: +, -, /, ^ ,%%,%/%...\n",
    "  + Lógicos - **logical** (TRUE, FALSE) \n",
    "    + Operadores lógicos: ==, =!, <=, >=, <, >, && ...\n",
    "  + Caracteres - **character** (e.g, \"Hola\", \"mundo\")\n",
    "    - Operador para caracteres: Concatenación con la función `paste()`"
   ]
  },
  {
   "cell_type": "markdown",
   "metadata": {},
   "source": [
    "Ejemplos del uso de operadores:"
   ]
  },
  {
   "cell_type": "code",
   "execution_count": 1,
   "metadata": {},
   "outputs": [
    {
     "data": {
      "text/html": [
       "1"
      ],
      "text/latex": [
       "1"
      ],
      "text/markdown": [
       "1"
      ],
      "text/plain": [
       "[1] 1"
      ]
     },
     "metadata": {},
     "output_type": "display_data"
    },
    {
     "data": {
      "text/html": [
       "2"
      ],
      "text/latex": [
       "2"
      ],
      "text/markdown": [
       "2"
      ],
      "text/plain": [
       "[1] 2"
      ]
     },
     "metadata": {},
     "output_type": "display_data"
    },
    {
     "data": {
      "text/html": [
       "8"
      ],
      "text/latex": [
       "8"
      ],
      "text/markdown": [
       "8"
      ],
      "text/plain": [
       "[1] 8"
      ]
     },
     "metadata": {},
     "output_type": "display_data"
    },
    {
     "data": {
      "text/html": [
       "1+5i"
      ],
      "text/latex": [
       "1+5i"
      ],
      "text/markdown": [
       "1+5i"
      ],
      "text/plain": [
       "[1] 1+5i"
      ]
     },
     "metadata": {},
     "output_type": "display_data"
    }
   ],
   "source": [
    "# Operadores numéricos\n",
    "# módulo\n",
    "5%%2\n",
    "# división entera\n",
    "5%/%2\n",
    "# potencias\n",
    "2^3\n",
    "# multiplicación entre numeros complejos\n",
    "1+2i*2+1i"
   ]
  },
  {
   "cell_type": "code",
   "execution_count": 2,
   "metadata": {},
   "outputs": [
    {
     "data": {
      "text/html": [
       "TRUE"
      ],
      "text/latex": [
       "TRUE"
      ],
      "text/markdown": [
       "TRUE"
      ],
      "text/plain": [
       "[1] TRUE"
      ]
     },
     "metadata": {},
     "output_type": "display_data"
    },
    {
     "data": {
      "text/html": [
       "FALSE"
      ],
      "text/latex": [
       "FALSE"
      ],
      "text/markdown": [
       "FALSE"
      ],
      "text/plain": [
       "[1] FALSE"
      ]
     },
     "metadata": {},
     "output_type": "display_data"
    },
    {
     "data": {
      "text/html": [
       "FALSE"
      ],
      "text/latex": [
       "FALSE"
      ],
      "text/markdown": [
       "FALSE"
      ],
      "text/plain": [
       "[1] FALSE"
      ]
     },
     "metadata": {},
     "output_type": "display_data"
    },
    {
     "data": {
      "text/html": [
       "TRUE"
      ],
      "text/latex": [
       "TRUE"
      ],
      "text/markdown": [
       "TRUE"
      ],
      "text/plain": [
       "[1] TRUE"
      ]
     },
     "metadata": {},
     "output_type": "display_data"
    },
    {
     "data": {
      "text/html": [
       "TRUE"
      ],
      "text/latex": [
       "TRUE"
      ],
      "text/markdown": [
       "TRUE"
      ],
      "text/plain": [
       "[1] TRUE"
      ]
     },
     "metadata": {},
     "output_type": "display_data"
    }
   ],
   "source": [
    "# operadores lógicos\n",
    "5 > 4\n",
    "4 == 3\n",
    "FALSE && TRUE\n",
    "FALSE || TRUE\n",
    "4 && 1 # TRUE: todos los números más Inf, salvo cero"
   ]
  },
  {
   "cell_type": "code",
   "execution_count": 3,
   "metadata": {},
   "outputs": [
    {
     "data": {
      "text/html": [
       "'Hoy es lunes'"
      ],
      "text/latex": [
       "'Hoy es lunes'"
      ],
      "text/markdown": [
       "'Hoy es lunes'"
      ],
      "text/plain": [
       "[1] \"Hoy es lunes\""
      ]
     },
     "metadata": {},
     "output_type": "display_data"
    }
   ],
   "source": [
    "# combinación de cadenas de caracteres\n",
    "paste(\"Hoy\",\"es\",\"lunes\")"
   ]
  },
  {
   "cell_type": "markdown",
   "metadata": {},
   "source": [
    "### Asignación de objetos"
   ]
  },
  {
   "cell_type": "code",
<<<<<<< HEAD
   "execution_count": 2,
=======
   "execution_count": 4,
>>>>>>> 365dafbf81fce0b7cc676fc57f0a21d2d5084f1e
   "metadata": {},
   "outputs": [
    {
     "data": {
      "text/html": [
       "3"
      ],
      "text/latex": [
       "3"
      ],
      "text/markdown": [
       "3"
      ],
      "text/plain": [
       "[1] 3"
      ]
     },
     "metadata": {},
     "output_type": "display_data"
    },
    {
     "data": {
      "text/html": [
       "3"
      ],
      "text/latex": [
       "3"
      ],
      "text/markdown": [
       "3"
      ],
      "text/plain": [
       "[1] 3"
      ]
     },
     "metadata": {},
     "output_type": "display_data"
    }
   ],
   "source": [
    "# asignación de un objeto\n",
    "objeto1 <- 3\n",
    "# assign()\n",
    "assign(\"objeto2\", 3)\n",
    "objeto1\n",
    "objeto2"
   ]
  },
  {
   "cell_type": "code",
<<<<<<< HEAD
   "execution_count": 3,
=======
   "execution_count": 5,
>>>>>>> 365dafbf81fce0b7cc676fc57f0a21d2d5084f1e
   "metadata": {},
   "outputs": [
    {
     "data": {
      "text/html": [
       "'character'"
      ],
      "text/latex": [
       "'character'"
      ],
      "text/markdown": [
       "'character'"
      ],
      "text/plain": [
       "[1] \"character\""
      ]
     },
     "metadata": {},
     "output_type": "display_data"
    },
    {
     "data": {
      "text/html": [
       "'double'"
      ],
      "text/latex": [
       "'double'"
      ],
      "text/markdown": [
       "'double'"
      ],
      "text/plain": [
       "[1] \"double\""
      ]
     },
     "metadata": {},
     "output_type": "display_data"
    },
    {
     "data": {
      "text/html": [
       "'integer'"
      ],
      "text/latex": [
       "'integer'"
      ],
      "text/markdown": [
       "'integer'"
      ],
      "text/plain": [
       "[1] \"integer\""
      ]
     },
     "metadata": {},
     "output_type": "display_data"
    },
    {
     "data": {
      "text/html": [
       "'complex'"
      ],
      "text/latex": [
       "'complex'"
      ],
      "text/markdown": [
       "'complex'"
      ],
      "text/plain": [
       "[1] \"complex\""
      ]
     },
     "metadata": {},
     "output_type": "display_data"
    },
    {
     "data": {
      "text/html": [
       "'logical'"
      ],
      "text/latex": [
       "'logical'"
      ],
      "text/markdown": [
       "'logical'"
      ],
      "text/plain": [
       "[1] \"logical\""
      ]
     },
     "metadata": {},
     "output_type": "display_data"
    }
   ],
   "source": [
    "# determinación del tipo (clase atómica) de un objeto singular: typeof()\n",
    "a <- \"Hola\"\n",
    "b <- 2\n",
    "c <- 2L\n",
    "d <- 2 + 1i\n",
    "e <- FALSE \n",
    "#\n",
    "typeof(a)\n",
    "typeof(b)\n",
    "typeof(c)\n",
    "typeof(d)\n",
    "typeof(e)"
   ]
  },
  {
   "cell_type": "markdown",
   "metadata": {
    "button": false,
    "new_sheet": false,
    "run_control": {
     "read_only": false
    }
   },
   "source": [
    "## Vectores \n",
    "La estructura más simple es el vector, que es una colección unidimensional ordenada. Un número, por ejemplo, se considera un vector numérico de longitud uno.\n",
    "\n",
    "Tipos de vectores:\n",
    "* numericos \n",
    "* enteros\n",
    "* caracteres \n",
    "* logicals\n",
    "\n",
    "Funciones frecuentemente utilizadas: `length()`, `rev()`, `sort()`"
   ]
  },
  {
   "cell_type": "markdown",
   "metadata": {
    "button": false,
    "new_sheet": false,
    "run_control": {
     "read_only": false
    }
   },
   "source": [
    "+ Vectores numéricos"
   ]
  },
  {
   "cell_type": "code",
<<<<<<< HEAD
   "execution_count": 4,
=======
   "execution_count": 6,
>>>>>>> 365dafbf81fce0b7cc676fc57f0a21d2d5084f1e
   "metadata": {},
   "outputs": [
    {
     "name": "stdout",
     "output_type": "stream",
     "text": [
      "[1] 1.1 2.2 3.3 4.4 5.5\n"
     ]
    },
    {
     "data": {
      "text/html": [
       "'numeric'"
      ],
      "text/latex": [
       "'numeric'"
      ],
      "text/markdown": [
       "'numeric'"
      ],
      "text/plain": [
       "[1] \"numeric\""
      ]
     },
     "metadata": {},
     "output_type": "display_data"
    }
   ],
   "source": [
    "# creación de un vector numerico: la función c()\n",
    "x <- c(1.1,2.2,3.3,4.4,5.5)\n",
    "print(x)\n",
    "class(x)"
   ]
  },
  {
   "cell_type": "code",
<<<<<<< HEAD
   "execution_count": 5,
=======
   "execution_count": 7,
>>>>>>> 365dafbf81fce0b7cc676fc57f0a21d2d5084f1e
   "metadata": {},
   "outputs": [
    {
     "name": "stdout",
     "output_type": "stream",
     "text": [
      "[1] 0 0 0 0 0\n"
     ]
    },
    {
     "data": {
      "text/html": [
       "'numeric'"
      ],
      "text/latex": [
       "'numeric'"
      ],
      "text/markdown": [
       "'numeric'"
      ],
      "text/plain": [
       "[1] \"numeric\""
      ]
     },
     "metadata": {},
     "output_type": "display_data"
    },
    {
     "name": "stdout",
     "output_type": "stream",
     "text": [
      "[1] 0 0 0 0 0\n"
     ]
    },
    {
     "data": {
      "text/html": [
       "'numeric'"
      ],
      "text/latex": [
       "'numeric'"
      ],
      "text/markdown": [
       "'numeric'"
      ],
      "text/plain": [
       "[1] \"numeric\""
      ]
     },
     "metadata": {},
     "output_type": "display_data"
    }
   ],
   "source": [
    "# creación de un vector de ceros mediante la función numeric\n",
    "x <- numeric(length = 5)\n",
    "print(x)\n",
    "class(x)\n",
    "y <- rep(0, length = 5)\n",
    "print(y)\n",
    "class(y)"
   ]
  },
  {
   "cell_type": "markdown",
   "metadata": {},
   "source": [
    "### Operaciones aritméticas básicas con vectores"
   ]
  },
  {
   "cell_type": "code",
<<<<<<< HEAD
   "execution_count": 6,
=======
   "execution_count": 8,
>>>>>>> 365dafbf81fce0b7cc676fc57f0a21d2d5084f1e
   "metadata": {},
   "outputs": [
    {
     "name": "stdout",
     "output_type": "stream",
     "text": [
      "[1] 1.0000000 0.5000000 0.3333333 0.2500000 0.2000000 0.2000000\n",
      "[1] 2 3 4 5 6 6\n",
      "[1]  2  4  6  8 10 10\n",
      "[1]  1  4  9 16 25 25\n"
     ]
    },
    {
     "data": {
      "text/html": [
       "<ol class=list-inline>\n",
       "\t<li>0</li>\n",
       "\t<li>0.693147180559945</li>\n",
       "\t<li>1.09861228866811</li>\n",
       "\t<li>1.38629436111989</li>\n",
       "\t<li>1.6094379124341</li>\n",
       "\t<li>1.6094379124341</li>\n",
       "</ol>\n"
      ],
      "text/latex": [
       "\\begin{enumerate*}\n",
       "\\item 0\n",
       "\\item 0.693147180559945\n",
       "\\item 1.09861228866811\n",
       "\\item 1.38629436111989\n",
       "\\item 1.6094379124341\n",
       "\\item 1.6094379124341\n",
       "\\end{enumerate*}\n"
      ],
      "text/markdown": [
       "1. 0\n",
       "2. 0.693147180559945\n",
       "3. 1.09861228866811\n",
       "4. 1.38629436111989\n",
       "5. 1.6094379124341\n",
       "6. 1.6094379124341\n",
       "\n",
       "\n"
      ],
      "text/plain": [
       "[1] 0.0000000 0.6931472 1.0986123 1.3862944 1.6094379 1.6094379"
      ]
     },
     "metadata": {},
     "output_type": "display_data"
    }
   ],
   "source": [
    "# Los operadores aritméticos básicos se aplican a cada elemento\n",
    "x <- c(1,2,3,4,5,5)\n",
    "print(1/x) # división\n",
    "print(x + 1) # suma\n",
    "print(2 * x) # multiplicación\n",
    "print(x^2) # elevar a una potencia\n",
    "\n",
    "# Otras funciones: log, exp, sin, cos, tan, sqrt\n",
    "log(x)"
   ]
  },
  {
   "cell_type": "code",
<<<<<<< HEAD
   "execution_count": 7,
=======
   "execution_count": 9,
>>>>>>> 365dafbf81fce0b7cc676fc57f0a21d2d5084f1e
   "metadata": {},
   "outputs": [
    {
     "name": "stdout",
     "output_type": "stream",
     "text": [
      "[1] 5\n",
      "[1] 1\n",
      "[1] 20\n"
     ]
    }
   ],
   "source": [
    "# max, min, sum \n",
    "x <- c(1,2,3,4,5,5)\n",
    "print(max(x))\n",
    "print(min(x))\n",
    "print(sum(x))"
   ]
  },
  {
   "cell_type": "markdown",
   "metadata": {},
   "source": [
    "#### Operaciones aritméticas entre dos vectores:  \n",
    "El resultado será otro vector con longitud = longitud del vector más largo. El vector más corto será reciclado:"
   ]
  },
  {
   "cell_type": "code",
<<<<<<< HEAD
   "execution_count": 8,
=======
   "execution_count": 10,
>>>>>>> 365dafbf81fce0b7cc676fc57f0a21d2d5084f1e
   "metadata": {},
   "outputs": [
    {
     "name": "stderr",
     "output_type": "stream",
     "text": [
      "Warning message in x + y:\n",
      "“longer object length is not a multiple of shorter object length”"
     ]
    },
    {
     "name": "stdout",
     "output_type": "stream",
     "text": [
      "[1] 2 4 6 5 7\n"
     ]
    },
    {
     "name": "stderr",
     "output_type": "stream",
     "text": [
      "Warning message in x - y:\n",
      "“longer object length is not a multiple of shorter object length”"
     ]
    },
    {
     "name": "stdout",
     "output_type": "stream",
     "text": [
      "[1] 0 0 0 3 3\n"
     ]
    },
    {
     "name": "stderr",
     "output_type": "stream",
     "text": [
      "Warning message in x * y:\n",
      "“longer object length is not a multiple of shorter object length”"
     ]
    },
    {
     "name": "stdout",
     "output_type": "stream",
     "text": [
      "[1]  1  4  9  4 10\n"
     ]
    },
    {
     "name": "stderr",
     "output_type": "stream",
     "text": [
      "Warning message in x^y:\n",
      "“longer object length is not a multiple of shorter object length”"
     ]
    },
    {
     "name": "stdout",
     "output_type": "stream",
     "text": [
      "[1]  1  4 27  4 25\n"
     ]
    }
   ],
   "source": [
    "x <- c(1,2,3,4,5)\n",
    "y <- c(1,2,3)\n",
    "\n",
    "print(x + y)\n",
    "print(x - y)\n",
    "print(x*y)\n",
    "print(x^y)"
   ]
  },
  {
   "cell_type": "markdown",
   "metadata": {},
   "source": [
    "\n",
    "Si los objetos `x1` y `x2` son vectores de la misma longitud, el operador `%*%` devuelve el producto interno como un objeto de clase `matrix`"
   ]
  },
  {
   "cell_type": "code",
<<<<<<< HEAD
   "execution_count": 9,
=======
   "execution_count": 11,
>>>>>>> 365dafbf81fce0b7cc676fc57f0a21d2d5084f1e
   "metadata": {},
   "outputs": [
    {
     "data": {
      "text/html": [
       "<table>\n",
       "<tbody>\n",
       "\t<tr><td>32</td></tr>\n",
       "</tbody>\n",
       "</table>\n"
      ],
      "text/latex": [
       "\\begin{tabular}{l}\n",
       "\t 32\\\\\n",
       "\\end{tabular}\n"
      ],
      "text/markdown": [
       "\n",
       "| 32 | \n",
       "\n",
       "\n"
      ],
      "text/plain": [
       "     [,1]\n",
       "[1,] 32  "
      ]
     },
     "metadata": {},
     "output_type": "display_data"
    },
    {
     "data": {
      "text/html": [
       "'matrix'"
      ],
      "text/latex": [
       "'matrix'"
      ],
      "text/markdown": [
       "'matrix'"
      ],
      "text/plain": [
       "[1] \"matrix\""
      ]
     },
     "metadata": {},
     "output_type": "display_data"
    }
   ],
   "source": [
    "x1 <- c(1,2,3)\n",
    "x2 <- c(4,5,6)\n",
    "mat.int <- x1 %*% x2\n",
    "mat.int\n",
    "class(mat.int)"
   ]
  },
  {
   "cell_type": "markdown",
   "metadata": {},
   "source": [
    "El producto exterior lo calculamos con la función `outer()` (devuelve un objeto de la clase \"matrix\")\n"
   ]
  },
  {
   "cell_type": "code",
<<<<<<< HEAD
   "execution_count": 10,
=======
   "execution_count": 12,
>>>>>>> 365dafbf81fce0b7cc676fc57f0a21d2d5084f1e
   "metadata": {},
   "outputs": [
    {
     "data": {
      "text/html": [
       "<table>\n",
       "<tbody>\n",
       "\t<tr><td> 4</td><td> 5</td><td> 6</td></tr>\n",
       "\t<tr><td> 8</td><td>10</td><td>12</td></tr>\n",
       "\t<tr><td>12</td><td>15</td><td>18</td></tr>\n",
       "</tbody>\n",
       "</table>\n"
      ],
      "text/latex": [
       "\\begin{tabular}{lll}\n",
       "\t  4 &  5 &  6\\\\\n",
       "\t  8 & 10 & 12\\\\\n",
       "\t 12 & 15 & 18\\\\\n",
       "\\end{tabular}\n"
      ],
      "text/markdown": [
       "\n",
       "|  4 |  5 |  6 | \n",
       "|  8 | 10 | 12 | \n",
       "| 12 | 15 | 18 | \n",
       "\n",
       "\n"
      ],
      "text/plain": [
       "     [,1] [,2] [,3]\n",
       "[1,]  4    5    6  \n",
       "[2,]  8   10   12  \n",
       "[3,] 12   15   18  "
      ]
     },
     "metadata": {},
     "output_type": "display_data"
    },
    {
     "data": {
      "text/html": [
       "'matrix'"
      ],
      "text/latex": [
       "'matrix'"
      ],
      "text/markdown": [
       "'matrix'"
      ],
      "text/plain": [
       "[1] \"matrix\""
      ]
     },
     "metadata": {},
     "output_type": "display_data"
    }
   ],
   "source": [
    "mat.ext <- outer(x1,x2)\n",
    "mat.ext\n",
    "class(mat.ext)"
   ]
  },
  {
   "cell_type": "markdown",
   "metadata": {},
   "source": [
    "* **Vectores de enteros / secuencias**"
   ]
  },
  {
   "cell_type": "code",
<<<<<<< HEAD
   "execution_count": 11,
=======
   "execution_count": 13,
>>>>>>> 365dafbf81fce0b7cc676fc57f0a21d2d5084f1e
   "metadata": {},
   "outputs": [
    {
     "name": "stdout",
     "output_type": "stream",
     "text": [
      " [1]  1  2  3  4  5  6  7  8  9 10\n",
      "[1]  0  2  4  6  8 10\n",
      "[1] 10  8  6  4  2  0\n"
     ]
    }
   ],
   "source": [
    "# Una secuencia es un vector de enteros\n",
    "seq1 <- 1:10 \n",
    "seq2 <- seq(0, 10, by = 2) \n",
    "seq3 <- seq(10, 0, by = -2) \n",
    "print(seq1)\n",
    "print(seq2)\n",
    "print(seq3)"
   ]
  },
  {
   "cell_type": "code",
<<<<<<< HEAD
   "execution_count": 12,
=======
   "execution_count": 14,
>>>>>>> 365dafbf81fce0b7cc676fc57f0a21d2d5084f1e
   "metadata": {},
   "outputs": [
    {
     "name": "stdout",
     "output_type": "stream",
     "text": [
      " [1]  1  2  3  4  5  6  7  8  9 10 11 12\n",
      " [1]  1  2  3  4  5  6  7  8  9 10 10  8  6  4  2  0\n"
     ]
    }
   ],
   "source": [
    "# Añadir elementos mediante la funcion c()\n",
    "print(c(seq1,11,12))\n",
    "print(c(seq1,seq3))"
   ]
  },
  {
   "cell_type": "markdown",
   "metadata": {},
   "source": [
    "\n",
    "---\n",
    "__Ejercicio.__  \n",
    "Crea con las funciones `rep()` and `seq()` el seguiente vector: 11,11,11,1,2,3,4,5,7,9,11"
   ]
  },
  {
   "cell_type": "code",
<<<<<<< HEAD
   "execution_count": 19,
=======
   "execution_count": 17,
>>>>>>> 365dafbf81fce0b7cc676fc57f0a21d2d5084f1e
   "metadata": {},
   "outputs": [
    {
     "name": "stdout",
     "output_type": "stream",
     "text": [
<<<<<<< HEAD
      " [1] 11 11 11  1  2  3  4  5  5  7  9 11\n"
=======
      " [1] 11 11 11  1  2  3  4  5  7  9 11\n"
>>>>>>> 365dafbf81fce0b7cc676fc57f0a21d2d5084f1e
     ]
    }
   ],
   "source": [
    "# Solución\n",
<<<<<<< HEAD
    "a<-rep(11,3)\n",
    "b<-1:5\n",
    "c<-seq(5,11,by=2)\n",
    "d<-c(a,b,c)\n",
    "print(d)"
=======
    "x1 <- rep(11,3)\n",
    "x2 <- 1:5\n",
    "x3 <- seq(7,11, by = 2)\n",
    "tot <- c(x1,x2,x3)\n",
    "print(tot)"
>>>>>>> 365dafbf81fce0b7cc676fc57f0a21d2d5084f1e
   ]
  },
  {
   "cell_type": "markdown",
   "metadata": {},
   "source": [
    "---\n",
    "\n",
    "* **Vectores lógicos, vectores de caracteres...**\n",
    "    "
   ]
  },
  {
   "cell_type": "code",
   "execution_count": 18,
   "metadata": {},
   "outputs": [],
   "source": [
    "logi <- c(FALSE, TRUE)\n",
    "char <- c(\"Hola\",\"que\",\"tal\")"
   ]
  },
  {
   "cell_type": "markdown",
   "metadata": {},
   "source": [
    " ¡Un vector sólamente puede contener un tipo atómico!  \n",
    " Cuando se combinen dos tipos de atomos en un único vector, `R` automaticamente convertirá uno de ellos al tipo del otro.\n"
   ]
  },
  {
   "cell_type": "code",
   "execution_count": 19,
   "metadata": {},
   "outputs": [
    {
     "name": "stdout",
     "output_type": "stream",
     "text": [
      "[1] \"2\"    \"Hola\"\n",
      "[1] \"FALSE\" \"Hola\" \n",
      "[1] 0 2\n"
     ]
    }
   ],
   "source": [
    "# ¿Qué tipo de vector saldrá?\n",
    "print(c(2,\"Hola\"))\n",
    "print(c(FALSE,\"Hola\"))\n",
    "print(c(FALSE,2))"
   ]
  },
  {
   "cell_type": "markdown",
   "metadata": {},
   "source": [
    "Se puede comprobar la clase del vector con las funciones:\n",
    "`is.character()`, `is.numeric()`, `is.integer()`...  \n",
    "Se puede convertir vectores de un tipo a vectores de otro tipo usando las funciones:\n",
    "`as.character()`, `as.integer()`, ...\n"
   ]
  },
  {
   "cell_type": "code",
   "execution_count": 20,
   "metadata": {},
   "outputs": [
    {
     "name": "stdout",
     "output_type": "stream",
     "text": [
      "[1] 1.1 2.2 3.3\n",
      "[1] 1 2 3\n",
      "[1] \"1\" \"2\" \"3\"\n"
     ]
    },
    {
     "data": {
      "text/html": [
       "TRUE"
      ],
      "text/latex": [
       "TRUE"
      ],
      "text/markdown": [
       "TRUE"
      ],
      "text/plain": [
       "[1] TRUE"
      ]
     },
     "metadata": {},
     "output_type": "display_data"
    }
   ],
   "source": [
    "# Ejemplo.\n",
    "r <- c(1.1,2.2,3.3)\n",
    "print(r)\n",
    "r <- as.integer(r)\n",
    "print(r)\n",
    "r <- as.character(r)\n",
    "print(r)\n",
    "is.character(r)"
   ]
  },
  {
   "cell_type": "markdown",
   "metadata": {},
   "source": [
    "---\n",
    "\n",
    "__Ejercicio.__  \n",
    "Crea un vector 'v' con una secuencia de enteros desde el 3 hasta el 10.\n",
    "Convierte 'v' a un vector de tipo caracter.\n",
    "Comprueba la clase de 'v'."
   ]
  },
  {
   "cell_type": "code",
<<<<<<< HEAD
   "execution_count": 23,
   "metadata": {},
   "outputs": [
    {
     "name": "stdout",
     "output_type": "stream",
     "text": [
      "[1] \"3\"  \"4\"  \"5\"  \"6\"  \"7\"  \"8\"  \"9\"  \"10\"\n",
      "[1] \"character\"\n"
     ]
=======
   "execution_count": 26,
   "metadata": {},
   "outputs": [
    {
     "data": {
      "text/html": [
       "<ol class=list-inline>\n",
       "\t<li>'3'</li>\n",
       "\t<li>'4'</li>\n",
       "\t<li>'5'</li>\n",
       "\t<li>'6'</li>\n",
       "\t<li>'7'</li>\n",
       "\t<li>'8'</li>\n",
       "\t<li>'9'</li>\n",
       "\t<li>'10'</li>\n",
       "</ol>\n"
      ],
      "text/latex": [
       "\\begin{enumerate*}\n",
       "\\item '3'\n",
       "\\item '4'\n",
       "\\item '5'\n",
       "\\item '6'\n",
       "\\item '7'\n",
       "\\item '8'\n",
       "\\item '9'\n",
       "\\item '10'\n",
       "\\end{enumerate*}\n"
      ],
      "text/markdown": [
       "1. '3'\n",
       "2. '4'\n",
       "3. '5'\n",
       "4. '6'\n",
       "5. '7'\n",
       "6. '8'\n",
       "7. '9'\n",
       "8. '10'\n",
       "\n",
       "\n"
      ],
      "text/plain": [
       "[1] \"3\"  \"4\"  \"5\"  \"6\"  \"7\"  \"8\"  \"9\"  \"10\""
      ]
     },
     "metadata": {},
     "output_type": "display_data"
    },
    {
     "data": {
      "text/html": [
       "'character'"
      ],
      "text/latex": [
       "'character'"
      ],
      "text/markdown": [
       "'character'"
      ],
      "text/plain": [
       "[1] \"character\""
      ]
     },
     "metadata": {},
     "output_type": "display_data"
    },
    {
     "data": {
      "text/html": [
       "TRUE"
      ],
      "text/latex": [
       "TRUE"
      ],
      "text/markdown": [
       "TRUE"
      ],
      "text/plain": [
       "[1] TRUE"
      ]
     },
     "metadata": {},
     "output_type": "display_data"
>>>>>>> 365dafbf81fce0b7cc676fc57f0a21d2d5084f1e
    }
   ],
   "source": [
    "# Solución\n",
<<<<<<< HEAD
    "v<-3:10\n",
    "v <- as.character(v)\n",
    "print(v)\n",
    "print(class(v))"
=======
    "v <- 3:10\n",
    "y <- as.character(v)\n",
    "y\n",
    "class(y)\n",
    "is.character(y)"
>>>>>>> 365dafbf81fce0b7cc676fc57f0a21d2d5084f1e
   ]
  },
  {
   "cell_type": "markdown",
   "metadata": {},
   "source": [
    "---\n",
    "\n",
    "* **Vectores lógicos**   \n",
    "    - Los vectores lógicos habitualmente resultan de operaciones lógicas.  \n",
    "    - Te indican cuáles son los valores que cumplen la expresion lógica.  \n",
    "    - Los vectores lógicos son útiles para seleccionar subvectores. "
   ]
  },
  {
   "cell_type": "code",
<<<<<<< HEAD
   "execution_count": 24,
=======
   "execution_count": 27,
>>>>>>> 365dafbf81fce0b7cc676fc57f0a21d2d5084f1e
   "metadata": {},
   "outputs": [
    {
     "name": "stdout",
     "output_type": "stream",
     "text": [
      " [1]  1  2  3  4  5  6  7  8  9 10\n",
      " [1] FALSE FALSE FALSE FALSE FALSE  TRUE  TRUE  TRUE  TRUE  TRUE\n",
      " [1] FALSE  TRUE FALSE  TRUE FALSE  TRUE FALSE  TRUE FALSE  TRUE\n",
      "[1]  2  4  6  8 10\n"
     ]
    }
   ],
   "source": [
    "x <- 1:10\n",
    "print(x)\n",
    "\n",
    "# construcción de un vector \"logical\" que indica qué elementos de x son mayores que 5 / son par\n",
    "y <- x > 5\n",
    "print(y)\n",
    "\n",
    "z <- x %% 2 == 0\n",
    "print(z)\n",
    "\n",
    "# extraemos los valores pares en un nuevo objeto\n",
    "x2 <- x[z]\n",
    "print(x2)"
   ]
  },
  {
   "cell_type": "markdown",
   "metadata": {
    "button": false,
    "new_sheet": false,
    "run_control": {
     "read_only": false
    }
   },
   "source": [
    "__Otras formas de selección y modificación de subvectores__  \n",
    "Puede seleccionar un subvector de un vector con un vector de índices entre corchetes [...]"
   ]
  },
  {
   "cell_type": "code",
<<<<<<< HEAD
   "execution_count": 27,
=======
   "execution_count": 28,
>>>>>>> 365dafbf81fce0b7cc676fc57f0a21d2d5084f1e
   "metadata": {},
   "outputs": [
    {
     "name": "stdout",
     "output_type": "stream",
     "text": [
      "[1] 10 11\n",
      "[1] 10 11\n",
      "[1] 12 13 14 15\n"
     ]
    }
   ],
   "source": [
    "x <- 10:15\n",
    "# selección por vector de índices: un vector de numeros naturales positivos.\n",
    "print(x[1:2])\n",
    "print(x[c(1,2)])\n",
    "print(x[-c(1,2)]) # excluir los dos primeros elementos\n"
   ]
  },
  {
   "cell_type": "code",
<<<<<<< HEAD
   "execution_count": 28,
=======
   "execution_count": 29,
>>>>>>> 365dafbf81fce0b7cc676fc57f0a21d2d5084f1e
   "metadata": {},
   "outputs": [
    {
     "name": "stdout",
     "output_type": "stream",
     "text": [
      "[1] FALSE FALSE FALSE  TRUE  TRUE  TRUE\n",
      "[1] 13 14 15\n"
     ]
    }
   ],
   "source": [
    "x <- 10:15\n",
    "# selección por vector lógico\n",
    "print(x>12)\n",
    "print(x[x>12])"
   ]
  },
  {
   "cell_type": "markdown",
   "metadata": {},
   "source": [
    "---\n",
    "\n",
    "__Ejercicio.__  \n",
    "Crea un vector con algunos de los nombres de tus amigos.  \n",
    "Obtén la longitud del vector anterior.  \n",
    "Crea un subvector con los amigos 2 y 3.  \n",
    "Ordena los nombres de tus amigos alfabéticamente.  \n",
    "Dale la vuelta al vector.\n"
   ]
  },
  {
   "cell_type": "code",
<<<<<<< HEAD
   "execution_count": 33,
   "metadata": {},
   "outputs": [
    {
     "name": "stdout",
     "output_type": "stream",
     "text": [
      "[1] 3\n",
      "[1] \"Laura\"  \"Danilo\"\n",
      "[1] \"Andrea\" \"Danilo\" \"Laura\" \n",
      "[1] \"Danilo\" \"Laura\"  \"Andrea\"\n"
     ]
=======
   "execution_count": 30,
   "metadata": {},
   "outputs": [
    {
     "data": {
      "text/html": [
       "3"
      ],
      "text/latex": [
       "3"
      ],
      "text/markdown": [
       "3"
      ],
      "text/plain": [
       "[1] 3"
      ]
     },
     "metadata": {},
     "output_type": "display_data"
    },
    {
     "data": {
      "text/html": [
       "<ol class=list-inline>\n",
       "\t<li>'bRodrigo2'</li>\n",
       "\t<li>'cRodrigo3'</li>\n",
       "</ol>\n"
      ],
      "text/latex": [
       "\\begin{enumerate*}\n",
       "\\item 'bRodrigo2'\n",
       "\\item 'cRodrigo3'\n",
       "\\end{enumerate*}\n"
      ],
      "text/markdown": [
       "1. 'bRodrigo2'\n",
       "2. 'cRodrigo3'\n",
       "\n",
       "\n"
      ],
      "text/plain": [
       "[1] \"bRodrigo2\" \"cRodrigo3\""
      ]
     },
     "metadata": {},
     "output_type": "display_data"
>>>>>>> 365dafbf81fce0b7cc676fc57f0a21d2d5084f1e
    }
   ],
   "source": [
    "# Solución\n",
<<<<<<< HEAD
    "x<-c(\"Andrea\", \"Laura\", \"Danilo\")\n",
    "print(length(x))\n",
    "print(x[2:3])\n",
    "print(sort(x)) #ordenar alfabeticamente\n",
    "print(rev(x)) #dar la vuelta al vector"
=======
    "friends <- c(\"aRodrigo1\",\"bRodrigo2\",\"cRodrigo3\")\n",
    "length(friends)\n",
    "friends[c(2,3)]\n",
    "sorted <- sort(friends)\n",
    "reversed <- rev(sorted)\n",
    "\n"
>>>>>>> 365dafbf81fce0b7cc676fc57f0a21d2d5084f1e
   ]
  },
  {
   "cell_type": "markdown",
   "metadata": {},
   "source": [
    "---\n",
    "\n",
    "* **Valores faltantes (missing values)**:\n",
    "    + Indicados con NA (Not Available) o NaN (Not A Number).  \n",
    "    + NaN caracteriza un valor que sale de una indeterminación matemática, por ejemplo 0/0  \n",
    "    + Los NA se pueden detectar con la función `is.na()`"
   ]
  },
  {
   "cell_type": "code",
<<<<<<< HEAD
   "execution_count": 38,
=======
   "execution_count": 35,
>>>>>>> 365dafbf81fce0b7cc676fc57f0a21d2d5084f1e
   "metadata": {},
   "outputs": [
    {
     "data": {
      "text/html": [
       "0.8"
      ],
      "text/latex": [
       "0.8"
      ],
      "text/markdown": [
       "0.8"
      ],
      "text/plain": [
       "[1] 0.8"
      ]
     },
     "metadata": {},
     "output_type": "display_data"
    },
    {
     "data": {
      "text/html": [
       "<ol class=list-inline>\n",
<<<<<<< HEAD
=======
       "\t<li>FALSE</li>\n",
       "\t<li>FALSE</li>\n",
       "\t<li>FALSE</li>\n",
       "\t<li>FALSE</li>\n",
       "\t<li>TRUE</li>\n",
       "\t<li>FALSE</li>\n",
       "</ol>\n"
      ],
      "text/latex": [
       "\\begin{enumerate*}\n",
       "\\item FALSE\n",
       "\\item FALSE\n",
       "\\item FALSE\n",
       "\\item FALSE\n",
       "\\item TRUE\n",
       "\\item FALSE\n",
       "\\end{enumerate*}\n"
      ],
      "text/markdown": [
       "1. FALSE\n",
       "2. FALSE\n",
       "3. FALSE\n",
       "4. FALSE\n",
       "5. TRUE\n",
       "6. FALSE\n",
       "\n",
       "\n"
      ],
      "text/plain": [
       "[1] FALSE FALSE FALSE FALSE  TRUE FALSE"
      ]
     },
     "metadata": {},
     "output_type": "display_data"
    },
    {
     "data": {
      "text/html": [
       "<ol class=list-inline>\n",
>>>>>>> 365dafbf81fce0b7cc676fc57f0a21d2d5084f1e
       "\t<li>-1</li>\n",
       "\t<li>-2</li>\n",
       "\t<li>1</li>\n",
       "\t<li>2</li>\n",
       "\t<li>4</li>\n",
       "</ol>\n"
      ],
      "text/latex": [
       "\\begin{enumerate*}\n",
       "\\item -1\n",
       "\\item -2\n",
       "\\item 1\n",
       "\\item 2\n",
       "\\item 4\n",
       "\\end{enumerate*}\n"
      ],
      "text/markdown": [
       "1. -1\n",
       "2. -2\n",
       "3. 1\n",
       "4. 2\n",
       "5. 4\n",
       "\n",
       "\n"
      ],
      "text/plain": [
       "[1] -1 -2  1  2  4"
      ]
     },
     "metadata": {},
     "output_type": "display_data"
    }
   ],
   "source": [
    "x <- c(-1,-2, 1, 2, NA, 4)\n",
<<<<<<< HEAD
    "mean (x, na.rm=TRUE) #para no tener en cuenta los NA\n",
    "# elimina los missing values \n",
    "x <- x[(!is.na(x))]\n",
    "x"
=======
    "mean(x, na.rm = TRUE)\n",
    "is.na(x)\n",
    "# elimina los missing values \n",
    "x <- x[(!is.na(x))]\n",
    "x\n",
    "\n"
>>>>>>> 365dafbf81fce0b7cc676fc57f0a21d2d5084f1e
   ]
  },
  {
   "cell_type": "markdown",
   "metadata": {},
   "source": [
    "---\n",
    "\n",
    "__Ejercicio.__\n",
    "Excluye los valores faltantes y define un vector nuevo que sólo contenga valores positivos. "
   ]
  },
  {
   "cell_type": "code",
<<<<<<< HEAD
   "execution_count": 43,
   "metadata": {},
   "outputs": [
    {
     "data": {
      "text/html": [
       "<ol class=list-inline>\n",
       "\t<li>1</li>\n",
       "\t<li>2</li>\n",
       "\t<li>4</li>\n",
       "\t<li>5</li>\n",
       "</ol>\n"
      ],
      "text/latex": [
       "\\begin{enumerate*}\n",
       "\\item 1\n",
       "\\item 2\n",
       "\\item 4\n",
       "\\item 5\n",
       "\\end{enumerate*}\n"
      ],
      "text/markdown": [
       "1. 1\n",
       "2. 2\n",
       "3. 4\n",
       "4. 5\n",
       "\n",
       "\n"
      ],
      "text/plain": [
       "[1] 1 2 4 5"
      ]
     },
     "metadata": {},
     "output_type": "display_data"
=======
   "execution_count": 39,
   "metadata": {},
   "outputs": [
    {
     "name": "stdout",
     "output_type": "stream",
     "text": [
      "[1] 1 2 4 5\n",
      "[1] 1 2 4 5\n"
     ]
>>>>>>> 365dafbf81fce0b7cc676fc57f0a21d2d5084f1e
    }
   ],
   "source": [
    "x <- c(-5,-4,-3,-2,-1, NA, 1, 2, NA, 4,5)\n",
<<<<<<< HEAD
    "x <- x[(!is.na(x)) & x>0]\n",
    "#x<- x[x>0]\n",
    "# Solución\n",
    "x\n"
=======
    "# Solución\n",
    "x <- x[(!is.na(x))& x>0]\n",
    "print(x)\n",
    "x <- x[x>0]\n",
    "print(x)"
>>>>>>> 365dafbf81fce0b7cc676fc57f0a21d2d5084f1e
   ]
  },
  {
   "cell_type": "markdown",
   "metadata": {
    "button": false,
    "new_sheet": false,
    "run_control": {
     "read_only": false
    }
   },
   "source": [
    "---\n",
    "\n",
    "## Matrices"
   ]
  },
  {
   "cell_type": "markdown",
   "metadata": {},
   "source": [
    "* Las matrices son generalizaciones bidimensionales de los vectores. \n",
    "* Se pueden crear con la función `matrix()`\n",
    "* Se caracterizan por filas y columnas.  \n",
    "* Se imprimen por pantalla de modo especial.  \n",
    "* Llevan por defecto un atributo: `dim`, al cual se puede acceder con las funciones `attributes()` y `dim()`\n",
    "* Se pueden añadir otros atributos: `names`, `row.names`, `col.names`... \n",
    "\n",
    "Funciones utilizadas frecuentemente:\n",
    "`t()`, `diag()`, `det()`, `inv()`"
   ]
  },
  {
   "cell_type": "markdown",
   "metadata": {},
   "source": [
    "---\n",
    "\n",
    "**Ejercicio**. utiliza las funciones `t()`, `diag()`,  `det()`, `inv()` con la matriz que se proporciona a continuación (objeto `mat`). ¿Qué hace cada una de estas funciones?"
   ]
  },
  {
   "cell_type": "code",
   "execution_count": 48,
   "metadata": {},
   "outputs": [
    {
     "name": "stdout",
     "output_type": "stream",
     "text": [
      "     [,1] [,2] [,3]\n",
      "[1,]    1    2    3\n",
      "[2,]    4    5    6\n",
      "[3,]    7    8    9\n",
      "[1] 1 5 9\n",
      "[1] 0\n"
     ]
    },
    {
     "ename": "ERROR",
     "evalue": "Error in inv(mat): could not find function \"inv\"\n",
     "output_type": "error",
     "traceback": [
      "Error in inv(mat): could not find function \"inv\"\nTraceback:\n",
      "1. print(inv(mat))"
     ]
    }
   ],
   "source": [
    "# Solución\n",
    "mat <- matrix(1:9, ncol = 3)\n",
<<<<<<< HEAD
    "print(t(mat)) #transpone indices\n",
    "print(diag(mat)) #diagonal\n",
    "print(det(mat))  #determinante\n",
    "print(inv(mat))  #inversa\n"
=======
    "t(mat)\n",
    "diag(mat)"
>>>>>>> 365dafbf81fce0b7cc676fc57f0a21d2d5084f1e
   ]
  },
  {
   "cell_type": "markdown",
   "metadata": {},
   "source": [
    "---\n",
    "\n",
    "Crear una matriz vacia:  "
   ]
  },
  {
   "cell_type": "code",
<<<<<<< HEAD
   "execution_count": 49,
=======
   "execution_count": 40,
>>>>>>> 365dafbf81fce0b7cc676fc57f0a21d2d5084f1e
   "metadata": {},
   "outputs": [
    {
     "name": "stdout",
     "output_type": "stream",
     "text": [
      "     [,1] [,2] [,3]\n",
      "[1,]   NA   NA   NA\n",
      "[2,]   NA   NA   NA\n"
     ]
    },
    {
     "data": {
      "text/html": [
       "<ol class=list-inline>\n",
       "\t<li>2</li>\n",
       "\t<li>3</li>\n",
       "</ol>\n"
      ],
      "text/latex": [
       "\\begin{enumerate*}\n",
       "\\item 2\n",
       "\\item 3\n",
       "\\end{enumerate*}\n"
      ],
      "text/markdown": [
       "1. 2\n",
       "2. 3\n",
       "\n",
       "\n"
      ],
      "text/plain": [
       "[1] 2 3"
      ]
     },
     "metadata": {},
     "output_type": "display_data"
    }
   ],
   "source": [
    "# Crear una matriz vacía de 2x3 \n",
    "m1 <- matrix(nrow = 2, ncol = 3)\n",
    "print(m1)\n",
    "dim(m1)"
   ]
  },
  {
   "cell_type": "markdown",
   "metadata": {},
   "source": [
    "Crear una matriz numérica"
   ]
  },
  {
   "cell_type": "code",
<<<<<<< HEAD
   "execution_count": 50,
=======
   "execution_count": 41,
>>>>>>> 365dafbf81fce0b7cc676fc57f0a21d2d5084f1e
   "metadata": {},
   "outputs": [
    {
     "name": "stdout",
     "output_type": "stream",
     "text": [
      "     [,1] [,2] [,3]\n",
      "[1,]    1    3    5\n",
      "[2,]    2    4    6\n",
      " int [1:2, 1:3] 1 2 3 4 5 6\n"
     ]
    }
   ],
   "source": [
    "m2 <- matrix(1:6, nrow=2, ncol =3)\n",
    "print(m2)\n",
    "str(m2)  #nos da informacion dimensiones y componentes"
   ]
  },
  {
   "cell_type": "markdown",
   "metadata": {},
   "source": [
    "Crear una matriz a partir de un vector"
   ]
  },
  {
   "cell_type": "code",
<<<<<<< HEAD
   "execution_count": 51,
=======
   "execution_count": 42,
>>>>>>> 365dafbf81fce0b7cc676fc57f0a21d2d5084f1e
   "metadata": {},
   "outputs": [
    {
     "name": "stdout",
     "output_type": "stream",
     "text": [
      "     [,1] [,2] [,3] [,4] [,5]\n",
      "[1,]    1    3    5    7    9\n",
      "[2,]    2    4    6    8   10\n"
     ]
    }
   ],
   "source": [
    "m3 <- 1:10\n",
    "dim(m3) <- c(2,5) # establecer dimensiones: dos filas, 5 columnas\n",
    "print(m3)"
   ]
  },
  {
   "cell_type": "markdown",
   "metadata": {},
   "source": [
    "Crear una matriz por concatenación de vectores de igual longitud.\n",
    "* por columnas: `cbind()`\n",
    "* por filas: `rbind()`"
   ]
  },
  {
   "cell_type": "code",
<<<<<<< HEAD
   "execution_count": 52,
=======
   "execution_count": 43,
>>>>>>> 365dafbf81fce0b7cc676fc57f0a21d2d5084f1e
   "metadata": {},
   "outputs": [
    {
     "name": "stdout",
     "output_type": "stream",
     "text": [
      "     x  y\n",
      "[1,] 1 10\n",
      "[2,] 2 11\n",
      "[3,] 3 12\n",
      "  [,1] [,2] [,3]\n",
      "x    1    2    3\n",
      "y   10   11   12\n"
     ]
    }
   ],
   "source": [
    "# cbind(arg 1, arg 2, arg 3, ...)\n",
    "x <- 1:3\n",
    "y <- 10:12\n",
    "z1 <- cbind(x,y)\n",
    "print(z1)\n",
    "# or\n",
    "z2 <- rbind(x,y)\n",
    "print(z2)"
   ]
  },
  {
   "cell_type": "markdown",
   "metadata": {},
   "source": [
    "### Operadores aritméticos básicos con matrices.  \n",
    "* Se aplican a cada elemento"
   ]
  },
  {
   "cell_type": "code",
<<<<<<< HEAD
   "execution_count": 53,
=======
   "execution_count": 44,
>>>>>>> 365dafbf81fce0b7cc676fc57f0a21d2d5084f1e
   "metadata": {},
   "outputs": [
    {
     "data": {
      "text/html": [
       "<table>\n",
       "<tbody>\n",
       "\t<tr><td>1</td><td>2</td></tr>\n",
       "\t<tr><td>3</td><td>4</td></tr>\n",
       "</tbody>\n",
       "</table>\n"
      ],
      "text/latex": [
       "\\begin{tabular}{ll}\n",
       "\t 1 & 2\\\\\n",
       "\t 3 & 4\\\\\n",
       "\\end{tabular}\n"
      ],
      "text/markdown": [
       "\n",
       "| 1 | 2 | \n",
       "| 3 | 4 | \n",
       "\n",
       "\n"
      ],
      "text/plain": [
       "     [,1] [,2]\n",
       "[1,] 1    2   \n",
       "[2,] 3    4   "
      ]
     },
     "metadata": {},
     "output_type": "display_data"
    }
   ],
   "source": [
    "M <- matrix(c(1,2,3,4), nrow = 2, byrow = TRUE)\n",
    "M"
   ]
  },
  {
   "cell_type": "code",
<<<<<<< HEAD
   "execution_count": 54,
=======
   "execution_count": 45,
>>>>>>> 365dafbf81fce0b7cc676fc57f0a21d2d5084f1e
   "metadata": {},
   "outputs": [
    {
     "data": {
      "text/html": [
       "<table>\n",
       "<tbody>\n",
       "\t<tr><td>3</td><td>4</td></tr>\n",
       "\t<tr><td>5</td><td>6</td></tr>\n",
       "</tbody>\n",
       "</table>\n"
      ],
      "text/latex": [
       "\\begin{tabular}{ll}\n",
       "\t 3 & 4\\\\\n",
       "\t 5 & 6\\\\\n",
       "\\end{tabular}\n"
      ],
      "text/markdown": [
       "\n",
       "| 3 | 4 | \n",
       "| 5 | 6 | \n",
       "\n",
       "\n"
      ],
      "text/plain": [
       "     [,1] [,2]\n",
       "[1,] 3    4   \n",
       "[2,] 5    6   "
      ]
     },
     "metadata": {},
     "output_type": "display_data"
    }
   ],
   "source": [
    "M+2"
   ]
  },
  {
   "cell_type": "markdown",
   "metadata": {},
   "source": [
    "Si a una matriz se le suma un vector cuya longitud sea igual al número de filas de la matriz, se obtiene como resultado una nueva matriz cuyas columnas son la suma de las columnas de la matriz original más dicho vector."
   ]
  },
  {
   "cell_type": "code",
<<<<<<< HEAD
   "execution_count": 55,
=======
   "execution_count": 46,
>>>>>>> 365dafbf81fce0b7cc676fc57f0a21d2d5084f1e
   "metadata": {},
   "outputs": [
    {
     "data": {
      "text/html": [
       "<table>\n",
       "<tbody>\n",
       "\t<tr><td>4</td><td>5</td></tr>\n",
       "\t<tr><td>7</td><td>8</td></tr>\n",
       "</tbody>\n",
       "</table>\n"
      ],
      "text/latex": [
       "\\begin{tabular}{ll}\n",
       "\t 4 & 5\\\\\n",
       "\t 7 & 8\\\\\n",
       "\\end{tabular}\n"
      ],
      "text/markdown": [
       "\n",
       "| 4 | 5 | \n",
       "| 7 | 8 | \n",
       "\n",
       "\n"
      ],
      "text/plain": [
       "     [,1] [,2]\n",
       "[1,] 4    5   \n",
       "[2,] 7    8   "
      ]
     },
     "metadata": {},
     "output_type": "display_data"
    }
   ],
   "source": [
    "v <- c(3,4)\n",
    "M+v"
   ]
  },
  {
   "cell_type": "markdown",
   "metadata": {},
   "source": [
    "---\n",
    "\n",
    "__Ejercicio.__\n",
    "Descubra lo que ocurre con la diferencia, la multiplicación y la división de una matriz y un vector."
   ]
  },
  {
   "cell_type": "code",
   "execution_count": 56,
   "metadata": {},
   "outputs": [
    {
     "data": {
      "text/html": [
       "<table>\n",
       "<tbody>\n",
       "\t<tr><td> 3</td><td> 6</td></tr>\n",
       "\t<tr><td>12</td><td>16</td></tr>\n",
       "</tbody>\n",
       "</table>\n"
      ],
      "text/latex": [
       "\\begin{tabular}{ll}\n",
       "\t  3 &  6\\\\\n",
       "\t 12 & 16\\\\\n",
       "\\end{tabular}\n"
      ],
      "text/markdown": [
       "\n",
       "|  3 |  6 | \n",
       "| 12 | 16 | \n",
       "\n",
       "\n"
      ],
      "text/plain": [
       "     [,1] [,2]\n",
       "[1,]  3    6  \n",
       "[2,] 12   16  "
      ]
     },
     "metadata": {},
     "output_type": "display_data"
    }
   ],
   "source": [
    "M*v"
   ]
  },
  {
   "cell_type": "markdown",
   "metadata": {},
   "source": [
    "La suma o resta de matrices de la misma dimensión se realiza con los operadores `+` y `-`.   \n",
    "El producto de matrices (siempre que sean compatibles) se realiza con el símbolo `%*%`."
   ]
  },
  {
   "cell_type": "code",
<<<<<<< HEAD
   "execution_count": 57,
=======
   "execution_count": 47,
>>>>>>> 365dafbf81fce0b7cc676fc57f0a21d2d5084f1e
   "metadata": {},
   "outputs": [
    {
     "data": {
      "text/html": [
       "<table>\n",
       "<tbody>\n",
       "\t<tr><td>2</td><td>4</td></tr>\n",
       "\t<tr><td>6</td><td>8</td></tr>\n",
       "</tbody>\n",
       "</table>\n"
      ],
      "text/latex": [
       "\\begin{tabular}{ll}\n",
       "\t 2 & 4\\\\\n",
       "\t 6 & 8\\\\\n",
       "\\end{tabular}\n"
      ],
      "text/markdown": [
       "\n",
       "| 2 | 4 | \n",
       "| 6 | 8 | \n",
       "\n",
       "\n"
      ],
      "text/plain": [
       "     [,1] [,2]\n",
       "[1,] 2    4   \n",
       "[2,] 6    8   "
      ]
     },
     "metadata": {},
     "output_type": "display_data"
    }
   ],
   "source": [
    "M+M"
   ]
  },
  {
   "cell_type": "code",
<<<<<<< HEAD
   "execution_count": 58,
=======
   "execution_count": 48,
>>>>>>> 365dafbf81fce0b7cc676fc57f0a21d2d5084f1e
   "metadata": {},
   "outputs": [
    {
     "data": {
      "text/html": [
       "<table>\n",
       "<tbody>\n",
       "\t<tr><td>0</td><td>0</td></tr>\n",
       "\t<tr><td>0</td><td>0</td></tr>\n",
       "</tbody>\n",
       "</table>\n"
      ],
      "text/latex": [
       "\\begin{tabular}{ll}\n",
       "\t 0 & 0\\\\\n",
       "\t 0 & 0\\\\\n",
       "\\end{tabular}\n"
      ],
      "text/markdown": [
       "\n",
       "| 0 | 0 | \n",
       "| 0 | 0 | \n",
       "\n",
       "\n"
      ],
      "text/plain": [
       "     [,1] [,2]\n",
       "[1,] 0    0   \n",
       "[2,] 0    0   "
      ]
     },
     "metadata": {},
     "output_type": "display_data"
    }
   ],
   "source": [
    "M-M"
   ]
  },
  {
   "cell_type": "markdown",
   "metadata": {},
   "source": [
    "Se debe tener cuidado con la multiplicación de matrices:"
   ]
  },
  {
   "cell_type": "code",
<<<<<<< HEAD
   "execution_count": 59,
=======
   "execution_count": 49,
>>>>>>> 365dafbf81fce0b7cc676fc57f0a21d2d5084f1e
   "metadata": {},
   "outputs": [
    {
     "name": "stdout",
     "output_type": "stream",
     "text": [
      "     [,1] [,2]\n",
      "[1,]    1    4\n",
      "[2,]    9   16\n",
      "     [,1] [,2]\n",
      "[1,]    7   10\n",
      "[2,]   15   22\n"
     ]
    }
   ],
   "source": [
    "print(M*M)    # multiplicación por cada elemento\n",
    "print(M%*%M)  # multiplicación de matrices"
   ]
  },
  {
   "cell_type": "markdown",
   "metadata": {},
   "source": [
    "---\n",
    "\n",
    "Seleccionar elementos por índices"
   ]
  },
  {
   "cell_type": "code",
<<<<<<< HEAD
   "execution_count": 60,
=======
   "execution_count": 50,
>>>>>>> 365dafbf81fce0b7cc676fc57f0a21d2d5084f1e
   "metadata": {},
   "outputs": [
    {
     "name": "stdout",
     "output_type": "stream",
     "text": [
      "     [,1] [,2] [,3]\n",
      "[1,]    1    2    3\n",
      "[2,]    4    5    6\n",
      "[3,]    7    8    9\n"
     ]
    },
    {
     "data": {
      "text/html": [
       "6"
      ],
      "text/latex": [
       "6"
      ],
      "text/markdown": [
       "6"
      ],
      "text/plain": [
       "[1] 6"
      ]
     },
     "metadata": {},
     "output_type": "display_data"
    },
    {
     "data": {
      "text/html": [
       "<ol class=list-inline>\n",
       "\t<li>4</li>\n",
       "\t<li>5</li>\n",
       "\t<li>6</li>\n",
       "</ol>\n"
      ],
      "text/latex": [
       "\\begin{enumerate*}\n",
       "\\item 4\n",
       "\\item 5\n",
       "\\item 6\n",
       "\\end{enumerate*}\n"
      ],
      "text/markdown": [
       "1. 4\n",
       "2. 5\n",
       "3. 6\n",
       "\n",
       "\n"
      ],
      "text/plain": [
       "[1] 4 5 6"
      ]
     },
     "metadata": {},
     "output_type": "display_data"
    },
    {
     "data": {
      "text/html": [
       "<ol class=list-inline>\n",
       "\t<li>3</li>\n",
       "\t<li>6</li>\n",
       "\t<li>9</li>\n",
       "</ol>\n"
      ],
      "text/latex": [
       "\\begin{enumerate*}\n",
       "\\item 3\n",
       "\\item 6\n",
       "\\item 9\n",
       "\\end{enumerate*}\n"
      ],
      "text/markdown": [
       "1. 3\n",
       "2. 6\n",
       "3. 9\n",
       "\n",
       "\n"
      ],
      "text/plain": [
       "[1] 3 6 9"
      ]
     },
     "metadata": {},
     "output_type": "display_data"
    },
    {
     "data": {
      "text/html": [
       "<ol class=list-inline>\n",
       "\t<li>2</li>\n",
       "\t<li>3</li>\n",
       "</ol>\n"
      ],
      "text/latex": [
       "\\begin{enumerate*}\n",
       "\\item 2\n",
       "\\item 3\n",
       "\\end{enumerate*}\n"
      ],
      "text/markdown": [
       "1. 2\n",
       "2. 3\n",
       "\n",
       "\n"
      ],
      "text/plain": [
       "[1] 2 3"
      ]
     },
     "metadata": {},
     "output_type": "display_data"
    }
   ],
   "source": [
    "m <- matrix(1:9, nrow = 3, ncol = 3, byrow = TRUE)\n",
    "print(m)\n",
    "#selección del valor de la fila 2, columna 3\n",
    "m[2,3]\n",
    "#selección de la fila 2 completa\n",
    "m[2,] \n",
    "#selección la columna 3 completa\n",
    "m[,3]\n",
    "#selección del segundo y tercer valor de la fila 1\n",
    "m[1,2:3] "
   ]
  },
  {
   "cell_type": "markdown",
   "metadata": {},
   "source": [
    "---\n",
    "\n",
    "__Ejercicio.__  \n",
    "Crea un vector con 12 enteros.  \n",
    "Convierta el vector a una matriz B de 4 * 3 utilizando la `matrix()`.  \n",
    "Cambie los nombres de las columnas a x, y, z y los nombres de las filas a a, b, c, d.  \n",
    "Extraer una submatriz de B llamado subB. Debe ser una matriz de 3 × 3 que incluya las últimas tres filas de la matriz B y sus columnas correspondientes.\n"
   ]
  },
  {
   "cell_type": "code",
<<<<<<< HEAD
   "execution_count": 66,
   "metadata": {},
   "outputs": [
    {
     "data": {
      "text/html": [
       "<table>\n",
       "<thead><tr><th></th><th scope=col>x</th><th scope=col>y</th><th scope=col>z</th></tr></thead>\n",
       "<tbody>\n",
       "\t<tr><th scope=row>b</th><td>2 </td><td>6 </td><td>10</td></tr>\n",
       "\t<tr><th scope=row>c</th><td>3 </td><td>7 </td><td>11</td></tr>\n",
       "\t<tr><th scope=row>d</th><td>4 </td><td>8 </td><td>12</td></tr>\n",
       "</tbody>\n",
       "</table>\n"
      ],
      "text/latex": [
       "\\begin{tabular}{r|lll}\n",
       "  & x & y & z\\\\\n",
       "\\hline\n",
       "\tb & 2  & 6  & 10\\\\\n",
       "\tc & 3  & 7  & 11\\\\\n",
       "\td & 4  & 8  & 12\\\\\n",
       "\\end{tabular}\n"
      ],
      "text/markdown": [
       "\n",
       "| <!--/--> | x | y | z | \n",
       "|---|---|---|\n",
       "| b | 2  | 6  | 10 | \n",
       "| c | 3  | 7  | 11 | \n",
       "| d | 4  | 8  | 12 | \n",
       "\n",
       "\n"
      ],
      "text/plain": [
       "  x y z \n",
       "b 2 6 10\n",
       "c 3 7 11\n",
       "d 4 8 12"
      ]
     },
     "metadata": {},
     "output_type": "display_data"
=======
   "execution_count": 52,
   "metadata": {},
   "outputs": [
    {
     "name": "stdout",
     "output_type": "stream",
     "text": [
      "     [,1] [,2] [,3]\n",
      "[1,]    1    5    9\n",
      "[2,]    2    6   10\n",
      "[3,]    3    7   11\n",
      "[4,]    4    8   12\n",
      "  x y  z\n",
      "a 1 5  9\n",
      "b 2 6 10\n",
      "c 3 7 11\n",
      "d 4 8 12\n",
      "  x y  z\n",
      "b 2 6 10\n",
      "c 3 7 11\n",
      "d 4 8 12\n"
     ]
>>>>>>> 365dafbf81fce0b7cc676fc57f0a21d2d5084f1e
    }
   ],
   "source": [
    "# Solución\n",
<<<<<<< HEAD
    "x<-1:12\n",
    "B <- matrix(x, nrow = 4, ncol = 3)\n",
    "colnames(B)<-c(\"x\", \"y\",\"z\")  #nombre columnas\n",
    "rownames(B)<-c(\"a\",\"b\",\"c\",\"d\")  #nombre filas\n",
    "subB<-B[2:4,]   #seleccionar submatriz\n",
    "subB"
=======
    "v <- 1:12\n",
    "B <- matrix(v,nrow = 4, ncol = 3)\n",
    "print(B)\n",
    "colnames(B) <- c(\"x\",\"y\",\"z\")\n",
    "rownames(B) <- c(\"a\",\"b\",\"c\",\"d\")\n",
    "print(B)\n",
    "subB <- B[2:4,]\n",
    "print(subB)"
>>>>>>> 365dafbf81fce0b7cc676fc57f0a21d2d5084f1e
   ]
  },
  {
   "cell_type": "markdown",
   "metadata": {},
   "source": [
    "---\n",
    "\n",
    "**Selecionar elementos**: selecionar por vectores lógicos o con la función `which()`"
   ]
  },
  {
   "cell_type": "code",
<<<<<<< HEAD
   "execution_count": 67,
=======
   "execution_count": 53,
>>>>>>> 365dafbf81fce0b7cc676fc57f0a21d2d5084f1e
   "metadata": {},
   "outputs": [
    {
     "name": "stdout",
     "output_type": "stream",
     "text": [
      "     [,1] [,2] [,3]\n",
      "[1,]    1    2    3\n",
      "[2,]    4    5    6\n",
      "[3,]    7    8    9\n",
      "     [,1] [,2] [,3]\n",
      "[1,]    1    0    3\n",
      "[2,]    0    5    0\n",
      "[3,]    7    0    9\n"
     ]
    }
   ],
   "source": [
    "m <- matrix(1:9, nrow = 3, ncol = 3, byrow = TRUE)\n",
    "print(m)\n",
    "m[m%%2 == 0] <- 0\n",
    "print(m)"
   ]
  },
  {
   "cell_type": "code",
<<<<<<< HEAD
   "execution_count": 68,
=======
   "execution_count": 54,
>>>>>>> 365dafbf81fce0b7cc676fc57f0a21d2d5084f1e
   "metadata": {},
   "outputs": [
    {
     "name": "stdout",
     "output_type": "stream",
     "text": [
      "     [,1] [,2] [,3]\n",
      "[1,]    1    2    3\n",
      "[2,]    4    5    6\n",
      "[3,]    7    8    9\n",
      "     row col\n",
      "[1,]   2   1\n",
      "[2,]   1   2\n",
      "[3,]   3   2\n",
      "[4,]   2   3\n",
      "     [,1] [,2] [,3]\n",
      "[1,]    1    0    3\n",
      "[2,]    0    5    0\n",
      "[3,]    7    0    9\n"
     ]
    }
   ],
   "source": [
    "m <- matrix(1:9, nrow = 3, ncol = 3, byrow = TRUE)\n",
    "print(m)\n",
    "ind <- which(m%%2 == 0, arr.ind = TRUE) # devuelve los índices de los elementos par\n",
    "print(ind)\n",
    "m[ind] <- 0 # convierte los elementos de los índices indicados a 0\n",
    "print(m)"
   ]
  },
  {
   "cell_type": "markdown",
   "metadata": {
    "button": false,
    "new_sheet": false,
    "run_control": {
     "read_only": false
    }
   },
   "source": [
    "## Arrays\n",
    "Una variable indexada (array) es una colección de datos, por ejemplo numéricos, indexada por varios ı́ndices.\n",
    "Los arrays son generalizaciones multi-dimensionales de los vectores."
   ]
  },
  {
   "cell_type": "markdown",
   "metadata": {},
   "source": [
    "Creación: la funcion `array()`"
   ]
  },
  {
   "cell_type": "code",
<<<<<<< HEAD
   "execution_count": 69,
=======
   "execution_count": 55,
>>>>>>> 365dafbf81fce0b7cc676fc57f0a21d2d5084f1e
   "metadata": {},
   "outputs": [
    {
     "name": "stdout",
     "output_type": "stream",
     "text": [
      ", , 1\n",
      "\n",
      "     [,1] [,2] [,3]\n",
      "[1,]    1    3    5\n",
      "[2,]    2    4    6\n",
      "\n",
      ", , 2\n",
      "\n",
      "     [,1] [,2] [,3]\n",
      "[1,]    7    9   11\n",
      "[2,]    8   10   12\n",
      "\n",
      ", , 3\n",
      "\n",
      "     [,1] [,2] [,3]\n",
      "[1,]   13   15   17\n",
      "[2,]   14   16   18\n",
      "\n",
      ", , 4\n",
      "\n",
      "     [,1] [,2] [,3]\n",
      "[1,]   19   21   23\n",
      "[2,]   20   22   24\n",
      "\n"
     ]
    }
   ],
   "source": [
    "a <- array(1:24, dim = c(2,3,4))\n",
    "print(a)"
   ]
  },
  {
   "cell_type": "markdown",
   "metadata": {},
   "source": [
    "Creación utilizando la funcion `dim()`"
   ]
  },
  {
   "cell_type": "code",
<<<<<<< HEAD
   "execution_count": 70,
=======
   "execution_count": 56,
>>>>>>> 365dafbf81fce0b7cc676fc57f0a21d2d5084f1e
   "metadata": {},
   "outputs": [
    {
     "name": "stdout",
     "output_type": "stream",
     "text": [
      ", , 1\n",
      "\n",
      "     [,1] [,2] [,3]\n",
      "[1,]    1    3    5\n",
      "[2,]    2    4    6\n",
      "\n",
      ", , 2\n",
      "\n",
      "     [,1] [,2] [,3]\n",
      "[1,]    7    9   11\n",
      "[2,]    8   10   12\n",
      "\n",
      ", , 3\n",
      "\n",
      "     [,1] [,2] [,3]\n",
      "[1,]   13   15   17\n",
      "[2,]   14   16   18\n",
      "\n",
      ", , 4\n",
      "\n",
      "     [,1] [,2] [,3]\n",
      "[1,]   19   21   23\n",
      "[2,]   20   22   24\n",
      "\n"
     ]
    },
    {
     "data": {
      "text/html": [
       "<ol class=list-inline>\n",
       "\t<li>2</li>\n",
       "\t<li>3</li>\n",
       "\t<li>4</li>\n",
       "</ol>\n"
      ],
      "text/latex": [
       "\\begin{enumerate*}\n",
       "\\item 2\n",
       "\\item 3\n",
       "\\item 4\n",
       "\\end{enumerate*}\n"
      ],
      "text/markdown": [
       "1. 2\n",
       "2. 3\n",
       "3. 4\n",
       "\n",
       "\n"
      ],
      "text/plain": [
       "[1] 2 3 4"
      ]
     },
     "metadata": {},
     "output_type": "display_data"
    },
    {
     "data": {
      "text/html": [
       "'array'"
      ],
      "text/latex": [
       "'array'"
      ],
      "text/markdown": [
       "'array'"
      ],
      "text/plain": [
       "[1] \"array\""
      ]
     },
     "metadata": {},
     "output_type": "display_data"
    }
   ],
   "source": [
    "x <- c(1:24)\n",
    "dim(x) <- c(2,3,4) \n",
    "print(x)\n",
    "dim(x)\n",
    "class(x)"
   ]
  },
  {
   "cell_type": "markdown",
   "metadata": {},
   "source": [
    "Selección de los elementos por índices"
   ]
  },
  {
   "cell_type": "code",
<<<<<<< HEAD
   "execution_count": 73,
=======
   "execution_count": 58,
>>>>>>> 365dafbf81fce0b7cc676fc57f0a21d2d5084f1e
   "metadata": {},
   "outputs": [
    {
     "data": {
      "text/html": [
       "1"
      ],
      "text/latex": [
       "1"
      ],
      "text/markdown": [
       "1"
      ],
      "text/plain": [
       "[1] 1"
      ]
     },
     "metadata": {},
     "output_type": "display_data"
    },
    {
     "data": {
      "text/html": [
       "<table>\n",
       "<tbody>\n",
       "\t<tr><td>1</td><td>3</td><td>5</td></tr>\n",
       "\t<tr><td>2</td><td>4</td><td>6</td></tr>\n",
       "</tbody>\n",
       "</table>\n"
      ],
      "text/latex": [
       "\\begin{tabular}{lll}\n",
       "\t 1 & 3 & 5\\\\\n",
       "\t 2 & 4 & 6\\\\\n",
       "\\end{tabular}\n"
      ],
      "text/markdown": [
       "\n",
       "| 1 | 3 | 5 | \n",
       "| 2 | 4 | 6 | \n",
       "\n",
       "\n"
      ],
      "text/plain": [
       "     [,1] [,2] [,3]\n",
       "[1,] 1    3    5   \n",
       "[2,] 2    4    6   "
      ]
     },
     "metadata": {},
     "output_type": "display_data"
    },
    {
     "data": {
      "text/html": [
       "<ol class=list-inline>\n",
       "\t<li>3</li>\n",
       "\t<li>4</li>\n",
       "</ol>\n"
      ],
      "text/latex": [
       "\\begin{enumerate*}\n",
       "\\item 3\n",
       "\\item 4\n",
       "\\end{enumerate*}\n"
      ],
      "text/markdown": [
       "1. 3\n",
       "2. 4\n",
       "\n",
       "\n"
      ],
      "text/plain": [
       "[1] 3 4"
      ]
     },
     "metadata": {},
     "output_type": "display_data"
    }
   ],
   "source": [
    "x[1,1,1]\n",
    "x[,,1]\n",
    "x[,2,1]"
   ]
  },
  {
   "cell_type": "markdown",
   "metadata": {},
   "source": [
    "### Factores\n",
    "Un factor es un vector utilizado para especificar una clasificación discreta de los elementos de otro vector de igual longitud.\n",
    "* Un factor lleva dos atributos: levels y class, a los cuales se puede acceder mediante `levels()` y `class()`"
   ]
  },
  {
   "cell_type": "markdown",
   "metadata": {},
   "source": [
    "Creación de un factor: la funcion `factor()`"
   ]
  },
  {
   "cell_type": "code",
<<<<<<< HEAD
   "execution_count": 74,
=======
   "execution_count": 60,
>>>>>>> 365dafbf81fce0b7cc676fc57f0a21d2d5084f1e
   "metadata": {},
   "outputs": [
    {
     "name": "stdout",
     "output_type": "stream",
     "text": [
<<<<<<< HEAD
=======
      "[1] \"San\" \"Tor\" \"Ovi\" \"Ovi\" \"San\" \"Ovi\" \"San\" \"Tor\" \"Ovi\"\n",
>>>>>>> 365dafbf81fce0b7cc676fc57f0a21d2d5084f1e
      "[1] San Tor Ovi Ovi San Ovi San Tor Ovi\n",
      "Levels: Ovi San Tor\n"
     ]
    }
   ],
   "source": [
    "ciudades <- c(\"San\",\"Tor\",\"Ovi\",\"Ovi\",\"San\",\"Ovi\",\"San\",\"Tor\",\"Ovi\")\n",
    "print(ciudades)\n",
    "ciudadesf <- factor(ciudades)\n",
    "print(ciudadesf)"
   ]
  },
  {
   "cell_type": "code",
<<<<<<< HEAD
   "execution_count": 75,
=======
   "execution_count": 61,
>>>>>>> 365dafbf81fce0b7cc676fc57f0a21d2d5084f1e
   "metadata": {},
   "outputs": [
    {
     "data": {
      "text/html": [
       "<dl>\n",
       "\t<dt>$levels</dt>\n",
       "\t\t<dd><ol class=list-inline>\n",
       "\t<li>'Ovi'</li>\n",
       "\t<li>'San'</li>\n",
       "\t<li>'Tor'</li>\n",
       "</ol>\n",
       "</dd>\n",
       "\t<dt>$class</dt>\n",
       "\t\t<dd>'factor'</dd>\n",
       "</dl>\n"
      ],
      "text/latex": [
       "\\begin{description}\n",
       "\\item[\\$levels] \\begin{enumerate*}\n",
       "\\item 'Ovi'\n",
       "\\item 'San'\n",
       "\\item 'Tor'\n",
       "\\end{enumerate*}\n",
       "\n",
       "\\item[\\$class] 'factor'\n",
       "\\end{description}\n"
      ],
      "text/markdown": [
       "$levels\n",
       ":   1. 'Ovi'\n",
       "2. 'San'\n",
       "3. 'Tor'\n",
       "\n",
       "\n",
       "\n",
       "$class\n",
       ":   'factor'\n",
       "\n",
       "\n"
      ],
      "text/plain": [
       "$levels\n",
       "[1] \"Ovi\" \"San\" \"Tor\"\n",
       "\n",
       "$class\n",
       "[1] \"factor\"\n"
      ]
     },
     "metadata": {},
     "output_type": "display_data"
    },
    {
     "data": {
      "text/html": [
       "<ol class=list-inline>\n",
       "\t<li>'Ovi'</li>\n",
       "\t<li>'San'</li>\n",
       "\t<li>'Tor'</li>\n",
       "</ol>\n"
      ],
      "text/latex": [
       "\\begin{enumerate*}\n",
       "\\item 'Ovi'\n",
       "\\item 'San'\n",
       "\\item 'Tor'\n",
       "\\end{enumerate*}\n"
      ],
      "text/markdown": [
       "1. 'Ovi'\n",
       "2. 'San'\n",
       "3. 'Tor'\n",
       "\n",
       "\n"
      ],
      "text/plain": [
       "[1] \"Ovi\" \"San\" \"Tor\""
      ]
     },
     "metadata": {},
     "output_type": "display_data"
    }
   ],
   "source": [
    "attributes(ciudadesf)\n",
    "levels(ciudadesf)"
   ]
  },
  {
   "cell_type": "code",
<<<<<<< HEAD
   "execution_count": 76,
=======
   "execution_count": 62,
>>>>>>> 365dafbf81fce0b7cc676fc57f0a21d2d5084f1e
   "metadata": {},
   "outputs": [
    {
     "data": {
      "text/plain": [
       "ciudadesf\n",
       "Ovi San Tor \n",
       "  4   3   2 "
      ]
     },
     "metadata": {},
     "output_type": "display_data"
    },
    {
     "data": {
      "image/png": "iVBORw0KGgoAAAANSUhEUgAAA0gAAANICAMAAADKOT/pAAACx1BMVEUAAAABAQECAgIDAwME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",
      "text/plain": [
       "plot without title"
      ]
     },
     "metadata": {},
     "output_type": "display_data"
    }
   ],
   "source": [
    "table(ciudadesf)\n",
    "plot(ciudadesf)"
   ]
  },
  {
   "cell_type": "markdown",
   "metadata": {},
   "source": [
    "---\n",
    "\n",
    "__Ejercicio.__  \n",
    "Crea a un vector 'Vec' que contenga 10 números enteros entre el 1 y el 5.  \n",
    "Convierta 'Vec' a un factor 'Vecf'.  \n",
    "Acceda a los distintos niveles.  \n",
    "Haz una tabla de frequencias."
   ]
  },
  {
   "cell_type": "code",
   "execution_count": 97,
   "metadata": {},
   "outputs": [
    {
     "data": {
      "text/html": [
       "<ol class=list-inline>\n",
       "\t<li>2</li>\n",
       "\t<li>4</li>\n",
       "\t<li>3</li>\n",
       "\t<li>7</li>\n",
       "\t<li>5</li>\n",
       "\t<li>3</li>\n",
       "\t<li>9</li>\n",
       "\t<li>7</li>\n",
       "\t<li>4</li>\n",
       "\t<li>2</li>\n",
       "</ol>\n",
       "\n",
       "<details>\n",
       "\t<summary style=display:list-item;cursor:pointer>\n",
       "\t\t<strong>Levels</strong>:\n",
       "\t</summary>\n",
       "\t<ol class=list-inline>\n",
       "\t\t<li>'2'</li>\n",
       "\t\t<li>'3'</li>\n",
       "\t\t<li>'4'</li>\n",
       "\t\t<li>'5'</li>\n",
       "\t\t<li>'7'</li>\n",
       "\t\t<li>'9'</li>\n",
       "\t</ol>\n",
       "</details>"
      ],
      "text/latex": [
       "\\begin{enumerate*}\n",
       "\\item 2\n",
       "\\item 4\n",
       "\\item 3\n",
       "\\item 7\n",
       "\\item 5\n",
       "\\item 3\n",
       "\\item 9\n",
       "\\item 7\n",
       "\\item 4\n",
       "\\item 2\n",
       "\\end{enumerate*}\n",
       "\n",
       "\\emph{Levels}: \\begin{enumerate*}\n",
       "\\item '2'\n",
       "\\item '3'\n",
       "\\item '4'\n",
       "\\item '5'\n",
       "\\item '7'\n",
       "\\item '9'\n",
       "\\end{enumerate*}\n"
      ],
      "text/markdown": [
       "1. 2\n",
       "2. 4\n",
       "3. 3\n",
       "4. 7\n",
       "5. 5\n",
       "6. 3\n",
       "7. 9\n",
       "8. 7\n",
       "9. 4\n",
       "10. 2\n",
       "\n",
       "\n",
       "\n",
       "**Levels**: 1. '2'\n",
       "2. '3'\n",
       "3. '4'\n",
       "4. '5'\n",
       "5. '7'\n",
       "6. '9'\n",
       "\n",
       "\n"
      ],
      "text/plain": [
       " [1] 2 4 3 7 5 3 9 7 4 2\n",
       "Levels: 2 3 4 5 7 9"
      ]
     },
     "metadata": {},
     "output_type": "display_data"
    },
    {
     "data": {
      "text/html": [
       "<ol class=list-inline>\n",
       "\t<li>'2'</li>\n",
       "\t<li>'3'</li>\n",
       "\t<li>'4'</li>\n",
       "\t<li>'5'</li>\n",
       "\t<li>'7'</li>\n",
       "\t<li>'9'</li>\n",
       "</ol>\n"
      ],
      "text/latex": [
       "\\begin{enumerate*}\n",
       "\\item '2'\n",
       "\\item '3'\n",
       "\\item '4'\n",
       "\\item '5'\n",
       "\\item '7'\n",
       "\\item '9'\n",
       "\\end{enumerate*}\n"
      ],
      "text/markdown": [
       "1. '2'\n",
       "2. '3'\n",
       "3. '4'\n",
       "4. '5'\n",
       "5. '7'\n",
       "6. '9'\n",
       "\n",
       "\n"
      ],
      "text/plain": [
       "[1] \"2\" \"3\" \"4\" \"5\" \"7\" \"9\""
      ]
     },
     "metadata": {},
     "output_type": "display_data"
    },
    {
     "data": {
      "text/plain": [
       "Vecf\n",
       "2 3 4 5 7 9 \n",
       "2 2 2 1 2 1 "
      ]
     },
     "metadata": {},
     "output_type": "display_data"
    }
   ],
   "source": [
    "Vec<-c(2,4,3,7,5,3,9,7,4,2)\n",
    "Vecf<-factor(Vec)\n",
    "Vecf\n",
    "levels(Vecf)\n",
    "table(Vecf)"
   ]
  },
  {
   "cell_type": "markdown",
   "metadata": {
    "button": false,
    "new_sheet": false,
    "run_control": {
     "read_only": false
    }
   },
   "source": [
    "### Listas\n",
    "Una lista es una colección ordenada de objetos, donde se pueden agrupar objetos de diferentes tipos (por ejemplo una combinación de vectores, matrices, factores, otras listas, data.frames, etc.).  \n",
    "La creación de una lista se hace mediante la función `list()`."
   ]
  },
  {
   "cell_type": "code",
<<<<<<< HEAD
   "execution_count": 78,
   "metadata": {},
   "outputs": [
    {
     "data": {
      "text/html": [
       "<ol>\n",
       "\t<li>'Pedro'</li>\n",
       "\t<li>'Pelayo'</li>\n",
       "\t<li>3</li>\n",
       "\t<li><ol class=list-inline>\n",
       "\t<li>4</li>\n",
       "\t<li>7</li>\n",
       "\t<li>9</li>\n",
       "</ol>\n",
       "</li>\n",
       "</ol>\n"
      ],
      "text/latex": [
       "\\begin{enumerate}\n",
       "\\item 'Pedro'\n",
       "\\item 'Pelayo'\n",
       "\\item 3\n",
       "\\item \\begin{enumerate*}\n",
       "\\item 4\n",
       "\\item 7\n",
       "\\item 9\n",
       "\\end{enumerate*}\n",
       "\n",
       "\\end{enumerate}\n"
      ],
      "text/markdown": [
       "1. 'Pedro'\n",
       "2. 'Pelayo'\n",
       "3. 3\n",
       "4. 1. 4\n",
       "2. 7\n",
       "3. 9\n",
       "\n",
       "\n",
       "\n",
       "\n",
       "\n"
      ],
      "text/plain": [
       "[[1]]\n",
       "[1] \"Pedro\"\n",
       "\n",
       "[[2]]\n",
       "[1] \"Pelayo\"\n",
       "\n",
       "[[3]]\n",
       "[1] 3\n",
       "\n",
       "[[4]]\n",
       "[1] 4 7 9\n"
      ]
     },
     "metadata": {},
     "output_type": "display_data"
    }
   ],
=======
   "execution_count": 63,
   "metadata": {},
   "outputs": [],
>>>>>>> 365dafbf81fce0b7cc676fc57f0a21d2d5084f1e
   "source": [
    "list1 <- list(\"Pedro\", \"Pelayo\", 3, c(4,7,9))\n",
    "list1"
   ]
  },
  {
   "cell_type": "markdown",
   "metadata": {},
   "source": [
    "Los elementos de la lista se pueden nombrar."
   ]
  },
  {
   "cell_type": "code",
<<<<<<< HEAD
   "execution_count": 80,
   "metadata": {},
   "outputs": [
    {
     "data": {
      "text/html": [
       "<dl>\n",
       "\t<dt>$nombre</dt>\n",
       "\t\t<dd>'Pedro'</dd>\n",
       "\t<dt>$apellido</dt>\n",
       "\t\t<dd>'Pelayo'</dd>\n",
       "\t<dt>$no.hijos</dt>\n",
       "\t\t<dd>3</dd>\n",
       "\t<dt>$edad.hijos</dt>\n",
       "\t\t<dd><ol class=list-inline>\n",
       "\t<li>4</li>\n",
       "\t<li>7</li>\n",
       "\t<li>9</li>\n",
       "</ol>\n",
       "</dd>\n",
       "</dl>\n"
      ],
      "text/latex": [
       "\\begin{description}\n",
       "\\item[\\$nombre] 'Pedro'\n",
       "\\item[\\$apellido] 'Pelayo'\n",
       "\\item[\\$no.hijos] 3\n",
       "\\item[\\$edad.hijos] \\begin{enumerate*}\n",
       "\\item 4\n",
       "\\item 7\n",
       "\\item 9\n",
       "\\end{enumerate*}\n",
       "\n",
       "\\end{description}\n"
      ],
      "text/markdown": [
       "$nombre\n",
       ":   'Pedro'\n",
       "$apellido\n",
       ":   'Pelayo'\n",
       "$no.hijos\n",
       ":   3\n",
       "$edad.hijos\n",
       ":   1. 4\n",
       "2. 7\n",
       "3. 9\n",
       "\n",
       "\n",
       "\n",
       "\n",
       "\n"
      ],
      "text/plain": [
       "$nombre\n",
       "[1] \"Pedro\"\n",
       "\n",
       "$apellido\n",
       "[1] \"Pelayo\"\n",
       "\n",
       "$no.hijos\n",
       "[1] 3\n",
       "\n",
       "$edad.hijos\n",
       "[1] 4 7 9\n"
      ]
     },
     "metadata": {},
     "output_type": "display_data"
    }
   ],
=======
   "execution_count": 64,
   "metadata": {},
   "outputs": [],
>>>>>>> 365dafbf81fce0b7cc676fc57f0a21d2d5084f1e
   "source": [
    "list2 <- list(nombre = \"Pedro\", apellido = \"Pelayo\", no.hijos = 3, edad.hijos = c(4,7,9))\n",
    "list2"
   ]
  },
  {
   "cell_type": "markdown",
   "metadata": {},
   "source": [
    "Selección de elementos de una lista.\n"
   ]
  },
  {
   "cell_type": "code",
<<<<<<< HEAD
   "execution_count": 81,
=======
   "execution_count": 65,
>>>>>>> 365dafbf81fce0b7cc676fc57f0a21d2d5084f1e
   "metadata": {},
   "outputs": [
    {
     "data": {
      "text/html": [
       "'Pedro'"
      ],
      "text/latex": [
       "'Pedro'"
      ],
      "text/markdown": [
       "'Pedro'"
      ],
      "text/plain": [
       "[1] \"Pedro\""
      ]
     },
     "metadata": {},
     "output_type": "display_data"
    },
    {
     "data": {
      "text/html": [
       "'Pedro'"
      ],
      "text/latex": [
       "'Pedro'"
      ],
      "text/markdown": [
       "'Pedro'"
      ],
      "text/plain": [
       "[1] \"Pedro\""
      ]
     },
     "metadata": {},
     "output_type": "display_data"
    },
    {
     "data": {
      "text/html": [
       "<ol class=list-inline>\n",
       "\t<li>4</li>\n",
       "\t<li>7</li>\n",
       "\t<li>9</li>\n",
       "</ol>\n"
      ],
      "text/latex": [
       "\\begin{enumerate*}\n",
       "\\item 4\n",
       "\\item 7\n",
       "\\item 9\n",
       "\\end{enumerate*}\n"
      ],
      "text/markdown": [
       "1. 4\n",
       "2. 7\n",
       "3. 9\n",
       "\n",
       "\n"
      ],
      "text/plain": [
       "[1] 4 7 9"
      ]
     },
     "metadata": {},
     "output_type": "display_data"
    },
    {
     "data": {
      "text/html": [
       "4"
      ],
      "text/latex": [
       "4"
      ],
      "text/markdown": [
       "4"
      ],
      "text/plain": [
       "[1] 4"
      ]
     },
     "metadata": {},
     "output_type": "display_data"
    }
   ],
   "source": [
    "list2[[1]]\n",
    "list2$nombre\n",
    "list2[[4]]\n",
    "list2[[4]][1]"
   ]
  },
  {
   "cell_type": "markdown",
   "metadata": {
    "button": false,
    "new_sheet": false,
    "run_control": {
     "read_only": false
    }
   },
   "source": [
    "### Data frames\n",
    "Un data frame se usa para guardar tablas de datos (creadas o importadas).  \n",
    "* Un data frame es una lista de vectores de longitudes iguales.\n",
    "  + lleva por defecto los atributos: `names`, `row.names`, `class`"
   ]
  },
  {
   "cell_type": "markdown",
   "metadata": {},
   "source": [
    "Creación: la función `data.frame()`"
   ]
  },
  {
   "cell_type": "code",
<<<<<<< HEAD
   "execution_count": 82,
=======
   "execution_count": 66,
>>>>>>> 365dafbf81fce0b7cc676fc57f0a21d2d5084f1e
   "metadata": {},
   "outputs": [
    {
     "data": {
      "text/html": [
       "<table>\n",
       "<thead><tr><th scope=col>edad</th><th scope=col>tiempo1</th><th scope=col>tiempo2</th><th scope=col>sexo</th></tr></thead>\n",
       "<tbody>\n",
       "\t<tr><td>22   </td><td>10.36</td><td>11.38</td><td>M    </td></tr>\n",
       "\t<tr><td>34   </td><td>14.21</td><td>15.20</td><td>H    </td></tr>\n",
       "\t<tr><td>29   </td><td>13.81</td><td>14.91</td><td>H    </td></tr>\n",
       "\t<tr><td>25   </td><td>11.89</td><td>12.90</td><td>M    </td></tr>\n",
       "\t<tr><td>30   </td><td>10.99</td><td>12.03</td><td>M    </td></tr>\n",
       "\t<tr><td>33   </td><td>12.03</td><td>12.58</td><td>H    </td></tr>\n",
       "\t<tr><td>31   </td><td>12.48</td><td>13.00</td><td>M    </td></tr>\n",
       "\t<tr><td>27   </td><td>13.37</td><td>13.01</td><td>M    </td></tr>\n",
       "\t<tr><td>25   </td><td>12.29</td><td>14.54</td><td>H    </td></tr>\n",
       "\t<tr><td>25   </td><td>11.92</td><td>15.27</td><td>H    </td></tr>\n",
       "</tbody>\n",
       "</table>\n"
      ],
      "text/latex": [
       "\\begin{tabular}{r|llll}\n",
       " edad & tiempo1 & tiempo2 & sexo\\\\\n",
       "\\hline\n",
       "\t 22    & 10.36 & 11.38 & M    \\\\\n",
       "\t 34    & 14.21 & 15.20 & H    \\\\\n",
       "\t 29    & 13.81 & 14.91 & H    \\\\\n",
       "\t 25    & 11.89 & 12.90 & M    \\\\\n",
       "\t 30    & 10.99 & 12.03 & M    \\\\\n",
       "\t 33    & 12.03 & 12.58 & H    \\\\\n",
       "\t 31    & 12.48 & 13.00 & M    \\\\\n",
       "\t 27    & 13.37 & 13.01 & M    \\\\\n",
       "\t 25    & 12.29 & 14.54 & H    \\\\\n",
       "\t 25    & 11.92 & 15.27 & H    \\\\\n",
       "\\end{tabular}\n"
      ],
      "text/markdown": [
       "\n",
       "edad | tiempo1 | tiempo2 | sexo | \n",
       "|---|---|---|---|---|---|---|---|---|---|\n",
       "| 22    | 10.36 | 11.38 | M     | \n",
       "| 34    | 14.21 | 15.20 | H     | \n",
       "| 29    | 13.81 | 14.91 | H     | \n",
       "| 25    | 11.89 | 12.90 | M     | \n",
       "| 30    | 10.99 | 12.03 | M     | \n",
       "| 33    | 12.03 | 12.58 | H     | \n",
       "| 31    | 12.48 | 13.00 | M     | \n",
       "| 27    | 13.37 | 13.01 | M     | \n",
       "| 25    | 12.29 | 14.54 | H     | \n",
       "| 25    | 11.92 | 15.27 | H     | \n",
       "\n",
       "\n"
      ],
      "text/plain": [
       "   edad tiempo1 tiempo2 sexo\n",
       "1  22   10.36   11.38   M   \n",
       "2  34   14.21   15.20   H   \n",
       "3  29   13.81   14.91   H   \n",
       "4  25   11.89   12.90   M   \n",
       "5  30   10.99   12.03   M   \n",
       "6  33   12.03   12.58   H   \n",
       "7  31   12.48   13.00   M   \n",
       "8  27   13.37   13.01   M   \n",
       "9  25   12.29   14.54   H   \n",
       "10 25   11.92   15.27   H   "
      ]
     },
     "metadata": {},
     "output_type": "display_data"
    }
   ],
   "source": [
    "edad <- c(22, 34, 29, 25, 30, 33, 31, 27, 25, 25)  # edad estudiantes\n",
    "tiempo1 <- c(10.36, 14.21, 13.81, 11.89, 10.99, 12.03, 12.48, 13.37, 12.29, 11.92)  # primera carrera de 100 m.\n",
    "tiempo2 <- c(11.38, 15.20, 14.91, 12.90, 12.03, 12.58, 13.00, 13.01, 14.54, 15.27)  # segunda carrera de 100 m.\n",
    "sexo <- factor(c(\"M\",\"H\",\"H\",\"M\",\"M\",\"H\",\"M\",\"M\",\"H\",\"H\"))\n",
    "df <- data.frame(edad,tiempo1,tiempo2,sexo)\n",
    "df"
   ]
  },
  {
   "cell_type": "code",
<<<<<<< HEAD
   "execution_count": 83,
=======
   "execution_count": 67,
>>>>>>> 365dafbf81fce0b7cc676fc57f0a21d2d5084f1e
   "metadata": {
    "scrolled": false
   },
   "outputs": [
    {
     "name": "stdout",
     "output_type": "stream",
     "text": [
      "'data.frame':\t10 obs. of  4 variables:\n",
      " $ edad   : num  22 34 29 25 30 33 31 27 25 25\n",
      " $ tiempo1: num  10.4 14.2 13.8 11.9 11 ...\n",
      " $ tiempo2: num  11.4 15.2 14.9 12.9 12 ...\n",
      " $ sexo   : Factor w/ 2 levels \"H\",\"M\": 2 1 1 2 2 1 2 2 1 1\n"
     ]
    }
   ],
   "source": [
    "# Estructura del data frame\n",
    "str(df)    "
   ]
  },
  {
   "cell_type": "markdown",
   "metadata": {},
   "source": [
    "Se puede acceder a las columnas por su nombre y hacer operaciones con ellas de manera fácil."
   ]
  },
  {
   "cell_type": "code",
<<<<<<< HEAD
   "execution_count": 84,
=======
   "execution_count": 68,
>>>>>>> 365dafbf81fce0b7cc676fc57f0a21d2d5084f1e
   "metadata": {},
   "outputs": [
    {
     "data": {
      "text/html": [
       "<table>\n",
       "<thead><tr><th scope=col>edad</th><th scope=col>tiempo1</th><th scope=col>tiempo2</th><th scope=col>sexo</th><th scope=col>totaltiempo</th></tr></thead>\n",
       "<tbody>\n",
       "\t<tr><td>22   </td><td>10.36</td><td>11.38</td><td>M    </td><td>21.74</td></tr>\n",
       "\t<tr><td>34   </td><td>14.21</td><td>15.20</td><td>H    </td><td>29.41</td></tr>\n",
       "\t<tr><td>29   </td><td>13.81</td><td>14.91</td><td>H    </td><td>28.72</td></tr>\n",
       "\t<tr><td>25   </td><td>11.89</td><td>12.90</td><td>M    </td><td>24.79</td></tr>\n",
       "\t<tr><td>30   </td><td>10.99</td><td>12.03</td><td>M    </td><td>23.02</td></tr>\n",
       "\t<tr><td>33   </td><td>12.03</td><td>12.58</td><td>H    </td><td>24.61</td></tr>\n",
       "\t<tr><td>31   </td><td>12.48</td><td>13.00</td><td>M    </td><td>25.48</td></tr>\n",
       "\t<tr><td>27   </td><td>13.37</td><td>13.01</td><td>M    </td><td>26.38</td></tr>\n",
       "\t<tr><td>25   </td><td>12.29</td><td>14.54</td><td>H    </td><td>26.83</td></tr>\n",
       "\t<tr><td>25   </td><td>11.92</td><td>15.27</td><td>H    </td><td>27.19</td></tr>\n",
       "</tbody>\n",
       "</table>\n"
      ],
      "text/latex": [
       "\\begin{tabular}{r|lllll}\n",
       " edad & tiempo1 & tiempo2 & sexo & totaltiempo\\\\\n",
       "\\hline\n",
       "\t 22    & 10.36 & 11.38 & M     & 21.74\\\\\n",
       "\t 34    & 14.21 & 15.20 & H     & 29.41\\\\\n",
       "\t 29    & 13.81 & 14.91 & H     & 28.72\\\\\n",
       "\t 25    & 11.89 & 12.90 & M     & 24.79\\\\\n",
       "\t 30    & 10.99 & 12.03 & M     & 23.02\\\\\n",
       "\t 33    & 12.03 & 12.58 & H     & 24.61\\\\\n",
       "\t 31    & 12.48 & 13.00 & M     & 25.48\\\\\n",
       "\t 27    & 13.37 & 13.01 & M     & 26.38\\\\\n",
       "\t 25    & 12.29 & 14.54 & H     & 26.83\\\\\n",
       "\t 25    & 11.92 & 15.27 & H     & 27.19\\\\\n",
       "\\end{tabular}\n"
      ],
      "text/markdown": [
       "\n",
       "edad | tiempo1 | tiempo2 | sexo | totaltiempo | \n",
       "|---|---|---|---|---|---|---|---|---|---|\n",
       "| 22    | 10.36 | 11.38 | M     | 21.74 | \n",
       "| 34    | 14.21 | 15.20 | H     | 29.41 | \n",
       "| 29    | 13.81 | 14.91 | H     | 28.72 | \n",
       "| 25    | 11.89 | 12.90 | M     | 24.79 | \n",
       "| 30    | 10.99 | 12.03 | M     | 23.02 | \n",
       "| 33    | 12.03 | 12.58 | H     | 24.61 | \n",
       "| 31    | 12.48 | 13.00 | M     | 25.48 | \n",
       "| 27    | 13.37 | 13.01 | M     | 26.38 | \n",
       "| 25    | 12.29 | 14.54 | H     | 26.83 | \n",
       "| 25    | 11.92 | 15.27 | H     | 27.19 | \n",
       "\n",
       "\n"
      ],
      "text/plain": [
       "   edad tiempo1 tiempo2 sexo totaltiempo\n",
       "1  22   10.36   11.38   M    21.74      \n",
       "2  34   14.21   15.20   H    29.41      \n",
       "3  29   13.81   14.91   H    28.72      \n",
       "4  25   11.89   12.90   M    24.79      \n",
       "5  30   10.99   12.03   M    23.02      \n",
       "6  33   12.03   12.58   H    24.61      \n",
       "7  31   12.48   13.00   M    25.48      \n",
       "8  27   13.37   13.01   M    26.38      \n",
       "9  25   12.29   14.54   H    26.83      \n",
       "10 25   11.92   15.27   H    27.19      "
      ]
     },
     "metadata": {},
     "output_type": "display_data"
    }
   ],
   "source": [
    "df$totaltiempo <- df$tiempo1 + df$tiempo2 #añadir columna\n",
    "df"
   ]
  },
  {
   "cell_type": "markdown",
   "metadata": {},
   "source": [
    "Existen funciones en R que operan directamente sobre data frames.  \n",
    "Las funciones utlizan los nombres, reconocen factores, etc."
   ]
  },
  {
   "cell_type": "code",
<<<<<<< HEAD
   "execution_count": 85,
=======
   "execution_count": 69,
>>>>>>> 365dafbf81fce0b7cc676fc57f0a21d2d5084f1e
   "metadata": {},
   "outputs": [
    {
     "data": {
      "image/png": "iVBORw0KGgoAAAANSUhEUgAAA0gAAANICAIAAAByhViMAAAACXBIWXMAABJ0AAASdAHeZh94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\nQmCC",
      "text/plain": [
       "plot without title"
      ]
     },
     "metadata": {},
     "output_type": "display_data"
    }
   ],
   "source": [
    "plot(df, col = c(\"red\",\"green\")[df$sexo]) # rojo = hombre, verde = mujer"
   ]
  },
  {
   "cell_type": "markdown",
   "metadata": {},
   "source": [
    "---\n",
    "\n",
    "__Ejercicio.__  \n",
    "Añade una nueva columna con la media de los dos tiempos. \n",
    "Añade una nueva columna que indique si los estudiantes han probado el test: Media < 13.  \n",
    "Dibuja la edad vs el tiempo."
   ]
  },
  {
   "cell_type": "code",
<<<<<<< HEAD
   "execution_count": 92,
=======
   "execution_count": 74,
>>>>>>> 365dafbf81fce0b7cc676fc57f0a21d2d5084f1e
   "metadata": {},
   "outputs": [
    {
     "data": {
      "text/html": [
<<<<<<< HEAD
       "<table>\n",
       "<thead><tr><th scope=col>edad</th><th scope=col>tiempo1</th><th scope=col>tiempo2</th><th scope=col>sexo</th><th scope=col>totaltiempo</th><th scope=col>mediatiempo</th><th scope=col>test</th></tr></thead>\n",
       "<tbody>\n",
       "\t<tr><td>22    </td><td>10.36 </td><td>11.38 </td><td>M     </td><td>21.74 </td><td>10.870</td><td> TRUE </td></tr>\n",
       "\t<tr><td>34    </td><td>14.21 </td><td>15.20 </td><td>H     </td><td>29.41 </td><td>14.705</td><td>FALSE </td></tr>\n",
       "\t<tr><td>29    </td><td>13.81 </td><td>14.91 </td><td>H     </td><td>28.72 </td><td>14.360</td><td>FALSE </td></tr>\n",
       "\t<tr><td>25    </td><td>11.89 </td><td>12.90 </td><td>M     </td><td>24.79 </td><td>12.395</td><td> TRUE </td></tr>\n",
       "\t<tr><td>30    </td><td>10.99 </td><td>12.03 </td><td>M     </td><td>23.02 </td><td>11.510</td><td> TRUE </td></tr>\n",
       "\t<tr><td>33    </td><td>12.03 </td><td>12.58 </td><td>H     </td><td>24.61 </td><td>12.305</td><td> TRUE </td></tr>\n",
       "\t<tr><td>31    </td><td>12.48 </td><td>13.00 </td><td>M     </td><td>25.48 </td><td>12.740</td><td> TRUE </td></tr>\n",
       "\t<tr><td>27    </td><td>13.37 </td><td>13.01 </td><td>M     </td><td>26.38 </td><td>13.190</td><td>FALSE </td></tr>\n",
       "\t<tr><td>25    </td><td>12.29 </td><td>14.54 </td><td>H     </td><td>26.83 </td><td>13.415</td><td>FALSE </td></tr>\n",
       "\t<tr><td>25    </td><td>11.92 </td><td>15.27 </td><td>H     </td><td>27.19 </td><td>13.595</td><td>FALSE </td></tr>\n",
       "</tbody>\n",
       "</table>\n"
      ],
      "text/latex": [
       "\\begin{tabular}{r|lllllll}\n",
       " edad & tiempo1 & tiempo2 & sexo & totaltiempo & mediatiempo & test\\\\\n",
       "\\hline\n",
       "\t 22     & 10.36  & 11.38  & M      & 21.74  & 10.870 &  TRUE \\\\\n",
       "\t 34     & 14.21  & 15.20  & H      & 29.41  & 14.705 & FALSE \\\\\n",
       "\t 29     & 13.81  & 14.91  & H      & 28.72  & 14.360 & FALSE \\\\\n",
       "\t 25     & 11.89  & 12.90  & M      & 24.79  & 12.395 &  TRUE \\\\\n",
       "\t 30     & 10.99  & 12.03  & M      & 23.02  & 11.510 &  TRUE \\\\\n",
       "\t 33     & 12.03  & 12.58  & H      & 24.61  & 12.305 &  TRUE \\\\\n",
       "\t 31     & 12.48  & 13.00  & M      & 25.48  & 12.740 &  TRUE \\\\\n",
       "\t 27     & 13.37  & 13.01  & M      & 26.38  & 13.190 & FALSE \\\\\n",
       "\t 25     & 12.29  & 14.54  & H      & 26.83  & 13.415 & FALSE \\\\\n",
       "\t 25     & 11.92  & 15.27  & H      & 27.19  & 13.595 & FALSE \\\\\n",
       "\\end{tabular}\n"
      ],
      "text/markdown": [
       "\n",
       "edad | tiempo1 | tiempo2 | sexo | totaltiempo | mediatiempo | test | \n",
       "|---|---|---|---|---|---|---|---|---|---|\n",
       "| 22     | 10.36  | 11.38  | M      | 21.74  | 10.870 |  TRUE  | \n",
       "| 34     | 14.21  | 15.20  | H      | 29.41  | 14.705 | FALSE  | \n",
       "| 29     | 13.81  | 14.91  | H      | 28.72  | 14.360 | FALSE  | \n",
       "| 25     | 11.89  | 12.90  | M      | 24.79  | 12.395 |  TRUE  | \n",
       "| 30     | 10.99  | 12.03  | M      | 23.02  | 11.510 |  TRUE  | \n",
       "| 33     | 12.03  | 12.58  | H      | 24.61  | 12.305 |  TRUE  | \n",
       "| 31     | 12.48  | 13.00  | M      | 25.48  | 12.740 |  TRUE  | \n",
       "| 27     | 13.37  | 13.01  | M      | 26.38  | 13.190 | FALSE  | \n",
       "| 25     | 12.29  | 14.54  | H      | 26.83  | 13.415 | FALSE  | \n",
       "| 25     | 11.92  | 15.27  | H      | 27.19  | 13.595 | FALSE  | \n",
=======
       "<ol class=list-inline>\n",
       "\t<li>10.87</li>\n",
       "\t<li>14.705</li>\n",
       "\t<li>14.36</li>\n",
       "\t<li>12.395</li>\n",
       "\t<li>11.51</li>\n",
       "\t<li>12.305</li>\n",
       "\t<li>12.74</li>\n",
       "\t<li>13.19</li>\n",
       "\t<li>13.415</li>\n",
       "\t<li>13.595</li>\n",
       "</ol>\n"
      ],
      "text/latex": [
       "\\begin{enumerate*}\n",
       "\\item 10.87\n",
       "\\item 14.705\n",
       "\\item 14.36\n",
       "\\item 12.395\n",
       "\\item 11.51\n",
       "\\item 12.305\n",
       "\\item 12.74\n",
       "\\item 13.19\n",
       "\\item 13.415\n",
       "\\item 13.595\n",
       "\\end{enumerate*}\n"
      ],
      "text/markdown": [
       "1. 10.87\n",
       "2. 14.705\n",
       "3. 14.36\n",
       "4. 12.395\n",
       "5. 11.51\n",
       "6. 12.305\n",
       "7. 12.74\n",
       "8. 13.19\n",
       "9. 13.415\n",
       "10. 13.595\n",
       "\n",
       "\n"
      ],
      "text/plain": [
       " [1] 10.870 14.705 14.360 12.395 11.510 12.305 12.740 13.190 13.415 13.595"
      ]
     },
     "metadata": {},
     "output_type": "display_data"
    },
    {
     "data": {
      "text/html": [
       "<ol class=list-inline>\n",
       "\t<li>TRUE</li>\n",
       "\t<li>FALSE</li>\n",
       "\t<li>FALSE</li>\n",
       "\t<li>TRUE</li>\n",
       "\t<li>TRUE</li>\n",
       "\t<li>TRUE</li>\n",
       "\t<li>TRUE</li>\n",
       "\t<li>FALSE</li>\n",
       "\t<li>FALSE</li>\n",
       "\t<li>FALSE</li>\n",
       "</ol>\n"
      ],
      "text/latex": [
       "\\begin{enumerate*}\n",
       "\\item TRUE\n",
       "\\item FALSE\n",
       "\\item FALSE\n",
       "\\item TRUE\n",
       "\\item TRUE\n",
       "\\item TRUE\n",
       "\\item TRUE\n",
       "\\item FALSE\n",
       "\\item FALSE\n",
       "\\item FALSE\n",
       "\\end{enumerate*}\n"
      ],
      "text/markdown": [
       "1. TRUE\n",
       "2. FALSE\n",
       "3. FALSE\n",
       "4. TRUE\n",
       "5. TRUE\n",
       "6. TRUE\n",
       "7. TRUE\n",
       "8. FALSE\n",
       "9. FALSE\n",
       "10. FALSE\n",
>>>>>>> 365dafbf81fce0b7cc676fc57f0a21d2d5084f1e
       "\n",
       "\n"
      ],
      "text/plain": [
<<<<<<< HEAD
       "   edad tiempo1 tiempo2 sexo totaltiempo mediatiempo test \n",
       "1  22   10.36   11.38   M    21.74       10.870       TRUE\n",
       "2  34   14.21   15.20   H    29.41       14.705      FALSE\n",
       "3  29   13.81   14.91   H    28.72       14.360      FALSE\n",
       "4  25   11.89   12.90   M    24.79       12.395       TRUE\n",
       "5  30   10.99   12.03   M    23.02       11.510       TRUE\n",
       "6  33   12.03   12.58   H    24.61       12.305       TRUE\n",
       "7  31   12.48   13.00   M    25.48       12.740       TRUE\n",
       "8  27   13.37   13.01   M    26.38       13.190      FALSE\n",
       "9  25   12.29   14.54   H    26.83       13.415      FALSE\n",
       "10 25   11.92   15.27   H    27.19       13.595      FALSE"
=======
       " [1]  TRUE FALSE FALSE  TRUE  TRUE  TRUE  TRUE FALSE FALSE FALSE"
>>>>>>> 365dafbf81fce0b7cc676fc57f0a21d2d5084f1e
      ]
     },
     "metadata": {},
     "output_type": "display_data"
    },
    {
     "data": {
<<<<<<< HEAD
      "image/png": "iVBORw0KGgoAAAANSUhEUgAAA0gAAANICAMAAADKOT/pAAAC91BMVEUAAAABAQECAgIDAwME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\nAv8PBs+83th8DBoAAAAASUVORK5CYII=",
=======
      "image/png": "iVBORw0KGgoAAAANSUhEUgAAA0gAAANICAMAAADKOT/pAAAC/VBMVEUAAAABAQECAgIDAwME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\nHlilAAAAAElFTkSuQmCC",
>>>>>>> 365dafbf81fce0b7cc676fc57f0a21d2d5084f1e
      "text/plain": [
       "plot without title"
      ]
     },
     "metadata": {},
     "output_type": "display_data"
    }
   ],
   "source": [
    "# Solución\n",
<<<<<<< HEAD
    "df$mediatiempo <- df$totaltiempo/2\n",
    "df$test <- df$mediatiempo<13\n",
    "df\n",
    "plot(df$edad,df$mediatiempo,xlab= \"edad\", ylab=\"tiempo\")\n"
=======
    "df$media <- (df$tiempo1 + df$tiempo2)/2\n",
    "df$test <- df$media < 13\n",
    "df$media\n",
    "df$test\n",
    "plot(df$edad,df$tiempo1, xlab = \"edad\", ylab = \"tiempo1\")"
>>>>>>> 365dafbf81fce0b7cc676fc57f0a21d2d5084f1e
   ]
  },
  {
   "cell_type": "markdown",
   "metadata": {},
   "source": [
    "---\n",
    "\n",
    "Las bases de datos o datasets (por ejemplo en formato excel o csv) se importan en R como data frames para análisis posteriores. \n",
    "La librería `base` de R proporciona una serie de datasets de ejemplo (e.g. swiss)"
   ]
  },
  {
   "cell_type": "code",
<<<<<<< HEAD
   "execution_count": 98,
=======
   "execution_count": 75,
>>>>>>> 365dafbf81fce0b7cc676fc57f0a21d2d5084f1e
   "metadata": {},
   "outputs": [
    {
     "name": "stdout",
     "output_type": "stream",
     "text": [
      "'data.frame':\t47 obs. of  6 variables:\n",
      " $ Fertility       : num  80.2 83.1 92.5 85.8 76.9 76.1 83.8 92.4 82.4 82.9 ...\n",
      " $ Agriculture     : num  17 45.1 39.7 36.5 43.5 35.3 70.2 67.8 53.3 45.2 ...\n",
      " $ Examination     : int  15 6 5 12 17 9 16 14 12 16 ...\n",
      " $ Education       : int  12 9 5 7 15 7 7 8 7 13 ...\n",
      " $ Catholic        : num  9.96 84.84 93.4 33.77 5.16 ...\n",
      " $ Infant.Mortality: num  22.2 22.2 20.2 20.3 20.6 26.6 23.6 24.9 21 24.4 ...\n"
     ]
    }
   ],
   "source": [
    "data(swiss)\n",
    "?swiss\n",
    "str(swiss)"
   ]
  },
  {
   "cell_type": "code",
   "execution_count": 100,
   "metadata": {},
   "outputs": [],
   "source": []
  },
  {
   "cell_type": "markdown",
   "metadata": {},
   "source": [
    "---\n",
    "\n",
    "__Ejercicio.__  \n",
    "Utiliza este data frame (`swiss`) para aplicar las diferentes operaciones que hemos visto. Por ejemplo:\n",
    "* Busca en la ayuda del data frame (`swiss`) el ejemplo en que se hace una regresión lineal. Copia ese ejemplo.\n",
    "* Trata de explicar la relacion existente entre la \"Education\" y \"Examination\" con un plot o una regresión lineal entre las dos variables.\n",
    "* Convierte la variable `catholic` del data frame `swiss` en una variable categórica (por ejemplo de tipo lógico con la condicion > 55 %). Posteriormente conviértela a factor. Haz una tabla de frequencias: ¿Como se ha dividido el país?\n",
    "* Haz un nuevo data.frame `swiss2` que sólo contenga las columnas \"Fertility\", \"Agriculture\" e \"Infant.Mortality\". \n",
    "* Dibuja un scatterplot de `swiss2`\n"
   ]
  },
  {
   "cell_type": "code",
   "execution_count": 101,
   "metadata": {},
   "outputs": [
    {
     "data": {
      "text/plain": [
       "\n",
       "Call:\n",
       "lm(formula = Fertility ~ ., data = swiss)\n",
       "\n",
       "Residuals:\n",
       "     Min       1Q   Median       3Q      Max \n",
       "-15.2743  -5.2617   0.5032   4.1198  15.3213 \n",
       "\n",
       "Coefficients:\n",
       "                 Estimate Std. Error t value Pr(>|t|)    \n",
       "(Intercept)      66.91518   10.70604   6.250 1.91e-07 ***\n",
       "Agriculture      -0.17211    0.07030  -2.448  0.01873 *  \n",
       "Examination      -0.25801    0.25388  -1.016  0.31546    \n",
       "Education        -0.87094    0.18303  -4.758 2.43e-05 ***\n",
       "Catholic          0.10412    0.03526   2.953  0.00519 ** \n",
       "Infant.Mortality  1.07705    0.38172   2.822  0.00734 ** \n",
       "---\n",
       "Signif. codes:  0 ‘***’ 0.001 ‘**’ 0.01 ‘*’ 0.05 ‘.’ 0.1 ‘ ’ 1\n",
       "\n",
       "Residual standard error: 7.165 on 41 degrees of freedom\n",
       "Multiple R-squared:  0.7067,\tAdjusted R-squared:  0.671 \n",
       "F-statistic: 19.76 on 5 and 41 DF,  p-value: 5.594e-10\n"
      ]
     },
     "metadata": {},
     "output_type": "display_data"
    },
    {
     "data": {
      "image/png": "iVBORw0KGgoAAAANSUhEUgAAA0gAAANICAIAAAByhViMAAAACXBIWXMAABJ0AAASdAHeZh94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\nOwAAAEkQ7AAAACTxLxySTVdLW7VdAAAAAElFTkSuQmCC",
      "text/plain": [
       "plot without title"
      ]
     },
     "metadata": {},
     "output_type": "display_data"
    }
   ],
   "source": [
    "#REGRESION LINEAL\n",
    "require(stats); require(graphics)\n",
    "pairs(swiss, panel = panel.smooth, main = \"swiss data\",\n",
    "      col = 3 + (swiss$Catholic > 50))\n",
    "summary(lm(Fertility ~ . , data = swiss))"
   ]
  },
  {
   "cell_type": "code",
   "execution_count": 102,
   "metadata": {},
   "outputs": [
    {
     "data": {
      "image/png": "iVBORw0KGgoAAAANSUhEUgAAA0gAAANICAMAAADKOT/pAAADAFBMVEUAAAABAQECAgIDAwME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\nHgAAAABJRU5ErkJggg==",
      "text/plain": [
       "plot without title"
      ]
     },
     "metadata": {},
     "output_type": "display_data"
    }
   ],
   "source": [
    "plot(swiss$Education,swiss$Examination)"
   ]
  },
  {
   "cell_type": "code",
   "execution_count": 104,
   "metadata": {},
   "outputs": [
    {
     "data": {
      "text/plain": [
       "catholic\n",
       "FALSE  TRUE \n",
       "   30    17 "
      ]
     },
     "metadata": {},
     "output_type": "display_data"
    }
   ],
   "source": [
    "catholic<-swiss$Catholic>55\n",
    "ch<-factor(catholic)\n",
    "table(catholic)"
   ]
  },
  {
   "cell_type": "code",
   "execution_count": 106,
   "metadata": {},
   "outputs": [
    {
     "name": "stdout",
     "output_type": "stream",
     "text": [
      "'data.frame':\t47 obs. of  3 variables:\n",
      " $ swiss.Fertility       : num  80.2 83.1 92.5 85.8 76.9 76.1 83.8 92.4 82.4 82.9 ...\n",
      " $ swiss.Agriculture     : num  17 45.1 39.7 36.5 43.5 35.3 70.2 67.8 53.3 45.2 ...\n",
      " $ swiss.Infant.Mortality: num  22.2 22.2 20.2 20.3 20.6 26.6 23.6 24.9 21 24.4 ...\n"
     ]
    },
    {
     "data": {
      "image/png": "iVBORw0KGgoAAAANSUhEUgAAA0gAAANICAMAAADKOT/pAAADAFBMVEUAAAABAQECAgIDAwME\nBAQFBQUGBgYHBwcICAgJCQkKCgoLCwsMDAwNDQ0ODg4PDw8QEBARERESEhITExMUFBQVFRUW\nFhYXFxcYGBgZGRkaGhobGxscHBwdHR0eHh4fHx8gICAhISEiIiIjIyMkJCQlJSUmJiYnJyco\nKCgpKSkqKiorKyssLCwtLS0uLi4vLy8wMDAxMTEyMjIzMzM0NDQ1NTU2NjY3Nzc4ODg5OTk6\nOjo7Ozs8PDw9PT0+Pj4/Pz9AQEBBQUFCQkJDQ0NERERFRUVGRkZHR0dISEhJSUlKSkpLS0tM\nTExNTU1OTk5PT09QUFBRUVFSUlJTU1NUVFRVVVVWVlZXV1dYWFhZWVlaWlpbW1tcXFxdXV1e\nXl5fX19gYGBhYWFiYmJjY2NkZGRlZWVmZmZnZ2doaGhpaWlqampra2tsbGxtbW1ubm5vb29w\ncHBxcXFycnJzc3N0dHR1dXV2dnZ3d3d4eHh5eXl6enp7e3t8fHx9fX1+fn5/f3+AgICBgYGC\ngoKDg4OEhISFhYWGhoaHh4eIiIiJiYmKioqLi4uMjIyNjY2Ojo6Pj4+QkJCRkZGSkpKTk5OU\nlJSVlZWWlpaXl5eYmJiZmZmampqbm5ucnJydnZ2enp6fn5+goKChoaGioqKjo6OkpKSlpaWm\npqanp6eoqKipqamqqqqrq6usrKytra2urq6vr6+wsLCxsbGysrKzs7O0tLS1tbW2tra3t7e4\nuLi5ubm6urq7u7u8vLy9vb2+vr6/v7/AwMDBwcHCwsLDw8PExMTFxcXGxsbHx8fIyMjJycnK\nysrLy8vMzMzNzc3Ozs7Pz8/Q0NDR0dHS0tLT09PU1NTV1dXW1tbX19fY2NjZ2dna2trb29vc\n3Nzd3d3e3t7f39/g4ODh4eHi4uLj4+Pk5OTl5eXm5ubn5+fo6Ojp6enq6urr6+vs7Ozt7e3u\n7u7v7+/w8PDx8fHy8vLz8/P09PT19fX29vb39/f4+Pj5+fn6+vr7+/v8/Pz9/f3+/v7////i\nsF19AAAACXBIWXMAABJ0AAASdAHeZh94AAAgAElEQVR4nOydBXgURxuA5yxyccOCJriHUIK7\nu1uxQqFokOJSirtDkSJFWqw/7g6lUCBAseLBHQLBQuzm39lLwl2yd7e7t3LZfO/zMOztzM5s\nknvvdmdn5kMYAAC7QXKfAAAoARAJAAQARAIAAQCRAEAAQCQAEAAQCQAEAEQCAAEAkQBAAEAk\nABAAEAkABABEAgABAJEAQABAJAAQABAJAAQARAIAAQCRAEAAQCQAEAAQCQAEAEQCAAEAkQBA\nAEAkABAAEAkABABEAgABAJEAQABAJAAQABAJAAQARAIAAQCRAEAAQCQAEAAQCQAEAEQCAAEA\nkQBAAEAkABAAEAkABABEAgABAJEAQABAJAAQABAJAAQARAIAAQCRAEAAQCQAEAAQCQAEAETi\nyflyfsG/sCt6poJP4FgOR8QUbMG+9PuOPn59E9gWPx5WoNBUTicPsANE4kdcjjmJl/1OsCka\n7bvEcN3vf+yP6J+nBfv6O7T9+Lz6IZbFP3jtxi8DN3M4eYAlIBI/9gdSyYDubIq+WkEljSay\nPuJI0ZktWNf/1ukph9O5ojZg3GQsh5MHWAIi8WNeTSpZXJ5t8ZcBp9keER0csaAF6/qPZ5tW\nIP/PiSyLxwWvwfcDT3E8eYAFIBI/JjeiktUlWJZ+GTaG9RFdfsKUSGxLb9NOTbyTewnb4id8\n/NSjOJ48wAYQiR/za1DJogrsCv8bPJP1EdtLxRGR2NZ/TJeA8c9NWBaP9DtOST2b08kDrACR\n+HE4G3W30asXq7Lns+1mf0SbrLly+eoLs63/kSoK47EtWBZfFUIlk+twOXmAHSASP+KDZyac\n9T7HpujnoF0cj6C+kViXrt8z7mHQbyyLn3O9hD9VGc7hVACWgEg8uVLRO/9qViU3I2eKdhyO\noERiXTqqiVfOsQa2xZcXyZu31ycOpwKwBEQCAAEAkQBAAEAkABAAEAkABABEAgABAJEAQABA\nJAAQABAJAAQARAIAAQCRAEAAQCTeXOFU+tFbLqUTrnGq/M5nLqU/3+FUOcAGEIkvd9FLLsUb\njeJS+rAbp3MpupxL6eVFOVUOsAFE4ssN9JRL8XrDuJTe58zpXAou5lJ6cUFOlQNsAJH4AiIB\nJoBIfAGRABNAJL6ASIAJIBJfQCTABBCJLyASYIJAIn38c5OSOW/+0z4k++agHgM5kPsbLqWb\na7iUHuhbg0vpGgHWf9qH5j/teSl+w7Lx50dhDBBIpE1qHwWjT7UEXF8naqcXUnGBW2mOxTlW\nbv2P5dTX/KctoZfmtywP6k3CGCCQSOuzCFOPYzK/mPnr3q3lOQ9paN3b/HWx+fKchzRkWS9M\nPSASC0Ak5QIiSQiIpFxAJAmRXqT3BrFbsIzjiZQoUIcAEyCShEgt0uqcyH3gJzsq+DK3ZQfe\nN9GOJtLb7q4o/za+R1/s1WiYtecUIJKESCzSFt20iI05u/GvIDYsa58urr1tlrta193vuxep\n94or0prCurwLErkc0ajQ9nOjtcf5NbdFU39gqPctywVAJAmRWKSqg6nkiDqadwWLsr7C+Izm\nvI1iTwKa7NoUUiYu1W5RRVrtMuHgDM/pHI64i/6j0o6teDVnyDyJSho1tlwCRJIQiUXK9juV\nvEe2PLBMp64kLWwrSuyEEgkYv3Lbm2q3qCIVnkwlK3w53ALucyHp3JK8motED6h0YybLJUAk\nCZH6G+lHTL6R3vOuoG9LkmZfZ6NYezr4ZalZqXaLKVKC9iiVXkfP2B9yF5HZwh34/cpfITKP\neXleyyVAJAmRWKStusnn/shhR4jXPU77cOJk90c2io0mocY+eae+jxf1GyloIZX86cHlJqlx\ngS1nRmj/4tdeWMNofC9ff8sFGEU63r18iQq9OMW9AZFYIHWv3do8yHMwp2UYUjFaE5TZw2a3\n3Q238BsR9fJ9SLVbVJGm+ayL/F+2QVwOedfDDRXawbO9W/ncC+pqWOkBZRJpoV/vJasX9fJe\nw6EhEIkF0j9HSv3m5srNFRue2y51KD9CVW6k3iuqSIlj3ZDzwFiOB9nxKODLziUnrOUziRRs\nXNfmVCEO7YBILFDuyIbnDGsbifwcKf5B6m5CWWESyc945Rnvw6EeEIkFyhWJCUd7ICsuTCKV\nnUdSw9QqHOoBkVgAIikXJpEisgfWbFQjW/BVDvWASCwAkZSL/6QImkumO+P2z5s8/3ACl3pA\nJBaASMpFhYyoTBfOvTKqZcOO8zgtAAoisQBEUi7qHlE0po+//9C36JalRw2f0xzqAZFYACIp\nF3W/tPvynMD4VDv8eyiHekAkFoBIyoVJJG/qX3xWnOjBoR4QiQUgknJhEumb1RgvDsOHrQzR\nSwOIxAIQSbkwiXTcO08u7xM4N5e5kSASC0Ak5cIkEn69c2cUxpwGJoFILEg/Im1uXnXwKzvr\nUIpIht+bVhseZasUo0g8AJFYkG5EGuXac2yJQDtNUopIA9z6/FQ4j61AiSCShKQXkZ6o92Ic\nF8JpkkJaFCLSbdUJjGMKj7ZRDESSkPQi0k5PMoV7XGX7alGISBvot+TwujaKgUgSIp1IH5/Y\nc/TfWnJ/HN7MvnNwQJESHnKfenHAlRzz/bc2ioFIEiKVSE+aqFCgHYu6f87V5RM+6rbavrNw\nOJEME92RU/8YjkdFZ+0Vg/e5bLZRDESSEIlESihX9uTNCXxXJyCcyeWcST3QztNwOJHmeK25\nszV7ONfDTgS6BGhH2ioFIkmIRCJdUJElQdt0sqOKTwc33rb3NBxOpIJzqGSbPp7rcR8ObIq0\nWQhEkhCJRPrTn6QTK4pSOXscTSSD8wEqvYMe2izJBxBJQiQS6SoiS+vWt2MdLkFwNJFw8XFU\nssaT0zrHrAGRJEQikQyN8q490M2VywRnMXA4kX53Hnd4jvdEcSoHkSREql676P6ZnCv+LU7d\n7HE4kfDaQpo8c8T5QgKRpCS9PJA1x7C0oEsxW8sWM+B4InFgeSGXIpy6/0EkCUmfIs11n7Jn\nrPNazselZ5EWuk3aM85lBYcjQCQJkVWkJ7/OPsnrwExLqGRiQc7HpSORXq+aedBsR+ACKpke\nxKEKEElC5BTpf67uHurGPCJhvkKk1+K4hvPjl/Qj0hHf7KVd6pqMHnqHLlLpaRVZN/3jhNpN\nV9i+sQKRJERGkV67qluOLaMay/3IRE8yOmZJbs4HphuRvmQdkIAjA0268wy+f1DpymxU8rl4\n0Ih+nl1sVgIiSYiMIu1Wkchc+c0iZX0cltO92hmbhw4M3PF4o98kzk06sEgHy+qDJqeswB9B\nh5AabzrYfWjWbY//zDSW2pqb8x3G/2rO2qoSRJIQGUVaiu5QaVOt6b6WuZfv7Kj/z9ahX/pp\nkfMITsuF0jiuSCe04bvnZ0oJdvSXlgxknfGNSYm4ATrkNJRczXb4nrwusshWnSCShMgo0nU0\nlbq+8zONi3CDvvmpw2IAxJdbHOOn0DiuSPVJgOr9KcF137v9Qn09FzcfpJv8M/cjk0kMWW3G\n4wORJETOzoZ8qlqd/Jz7muzZ4kvSSRXEatFxRcqziko+o3+SX/+mqdklR37myeQHdX/i+BHe\nNmNsgkgSIqdIj/Kr9ap6puH7LqrIu+PbjmK16LgiVRtKJefR1zW5L/zYca6ltX6mOvm7+++2\nWSeIJCGyPkdKPLHOPL55Qtny/9yfTkc1FgXHFekPl6UPjxZtyrL0w027bK18gi2IBDFkxcHB\nRjY8qo9QJh5jf1jiuCLheV5I1c7mClucYBIJYsiKhF0imcU5EIi390QawklwYJFw/F3z6Lqx\nNu+BbMEkEsSQFQk7RPq7BEKVrwl8PuLiyCKZ8/pbLcrGfTChGUwiQQxZkeAv0n3vbv+ebZT7\nndBnJCbpRiRD3eIHr0/V7rOrEiaRIIasSPAXaWoJA8Yxmf8Q+owsknD5VLTtUlZxOJESr59g\nvC+KRNeptDvbzgdmmESCGLIiwV+k7vSyapXGC3s+zLzqU6BguwIIeSyxrx5ZRHrRK1/hQcyd\nbHfKIOQygSHjoBMZy7ugGEMWe1Tlp9LMMr35ghiy4sBfpFkF4jGO9rW1uJoQfC5acslsne/j\nmCV29ozLIdLHgqFLFxYoxzRSPaFknQdxm10YvtQfoggqbW9fF6oqUyhNWdMFhzaPPYVn1x3B\nJRwFiMQC/iK9zNpw3/byRT/bLmk3K7NG4/16340Yt+hpV0VyiLQkO/WF8MJzK0PWVUR65vo3\nZMhqn3v1kf46LpFe08J0aTcxsEm2EWGTK/VNm2UREIkFdvTa/VfX1aP1I4HPh5GBTTBelafW\nKIwHNbKrIjlE6tOKpFXGMWQdcCF9aLNDGLI+Dg7Qhh6wr2UmkQq8xHdUL/GHfBzqAZFYYNdz\nJBGf+JgxswTG59W5FuO44mPsqkgOkSaTIdyJuZnmiD9THcbYUPs75gO5D25PBaNIZGYT9X8w\nh3pAJBY42MgGZu64D339Mp962JKK2V7aLm0FOUS6oR/15kVPv6dMeQO9f1pW39PuBWQtwCRS\nmT2GlT7H8YXiHOoBkVggoUiPe5auyWKCNBN7siOU6/vSBbvauSSpLL12O7IhFHScIeNmp5Ai\nBfK3vSFWw0wiHfVUBR/3Len6G4d6QCQWSCfS00wVZg325LkMfuylK9yjnyTzaljttsax0vI8\nR4q9uOeHGl3Pp959TV93Th/nWeK1yzho9f3lOBy5CgatCo10IoWXpS76j6hSvlMubZdo3dXn\nWUuM7KybSjZleiAb4VJ9TGPNrlR7m5P5eWudY8ivQpSRVjCNQkKkE6kSefBo8NpufBVVA3mg\nhh/FasyUPmHxGG/WvcayiVSJdCeMSb1WCz2X7z2KeCPWrwJEkhDpRGpB3sTRmqQ5oG1L3MX/\n5bfvqRBLykynkngXskqcPCIl6smYuWsoVUdJGFn75SZ61KakSL8KEElCpBEpZtOsHb+77jBE\ntc77hd6RQL+3NgSI0Vhq6gynkndqMlRApm+krGTswl+6VIH5ZvidwE+ql4t33Y+F/FXEbZm1\nxXg/CSJJiCQi3Q7yDXUPGaJzVRf817jnLb3c4XEd/x4E9iz0OYM/dQwiC4fIJNIPhSLx8wr1\nU+1N7Kl2Q9/ci0LkdyLYr+JxIa/SnoXoeL0gkoRIIlIF6g7gVanOT/ecSXm3BI+lkgGlRGjs\nK6/2HyF3HobvVYGuucgXktAivdl/mNXUxg81NDl0oWmfJN3fdT4R46Cfqc3+Qv0qGlZ5h99W\npgeAgEgSIoVI79Wkt3WD2e9xu6bdzBbiLc5AWOruosuyl2xdW7vPOEhTWJFWeLg4ZdrJqug/\nq49ZfIK2TdN+ZnOhfhUJejKu6IArGSMLIkmIFCK9RKR3d4eX2Srff7cq3TZC+La+clq7LPHL\nEG+z7wFBRYrQLUqMHelpf9jKk61Kt0vzlIknMVoSluAkvb4kiCQhklza5RtI3RE0rSdCzVYY\nXptKDNnNVvkQVKSfqpIG8iy3owoRKPOdARu6hJFNEElCJBHpqEv5nsV8bopQsxW60qvjhZqN\nHBBUpJ5tSVpuih1ViMB5t9Ceoe70FxyIJCHSdH/fGdZu7AuuB10b1G78G/5tLswRjfFt56Om\n+wQVaVnWKIwj6c5rqdjeo8sKW4PCH41sN9I4uQVEkhDHHf29XVf9h0KZ+N+BfC6Wf9LozE3N\nbswEFelLSN6JY7LW5xHfiS/9XNp29anJenoFiCQhDitSYqbxGMfXaMO/huiR5avPMn86I2yv\n3fvRFapN57OWP0/Oak9TXzi+rAdug0gS4rAi3ULkoeKaHIJW6nCrCHFifgmStuvBtjyIJCEO\nK9JjROa7LeEeJ9Ya6Vuk5XlJ2oT1TBQQSULsECnuzO7HAp+NKUXbfMaP8w8QtE65RUo8vzPS\ndilL3HFejPEhJ9a9GyCShPAX6XIhtV47QujzMak/u29J10oWZxckrA0fc5lrnTKL9KAMcld1\nY+4siFnaZ4ItyVa45CmkYf8rB5EkhLdIsflbRuHdei5RDTjycePsAxa7xL6U921WUcu0oog1\nZBapUtUn+FQmxtC3UQWytQh13WOjgge//sLhwwNEkhDeIkWoyeKh/RsLfULMvBteofps0x64\nyTlfUHdQrhzXQpFDpFtdvmm4g956QQf2nMm0+hbuFfIB41GZ7F45yBQQSUJ4i7THjXxbTC1r\nu2TE93XD73E8rVR8KlJw8qhMzU321CWTjBLdbYetM0MGka651Z7R04lu5wois3R/D0zOejq4\nXucTSdt0aOVX6IqQTYNIEsJbpCfqA9SNSvneNgtu1TQZUdHNvnfIvJzvMb7pZLIUT4MhVJLg\nxnFYgQwiNSMrM6xyJY+b4vTkUrRV8hqX93y/Gd5ak3R1WpycyQtkM547F0AkCeHf2TDMfeCM\n8gFPbJbLOpFK2tTiemJmdKbXUAyZ/XXPrCz3MJ7myTHEnQwi5SbPT43zGPFCpx9m1XFN/kxp\nVzsR41/cjU90BxR6hRP75RB0yU0QSUL4i2RYW+ebnrZXLH6E7lDpNi+uJ2bGEDJyPDHw9697\n4uvqqxVx3cSxHhlE+mYalVxHxg+cnQ1DO6UsY5eXjBt/hy7QLz6U9qoR7HVM0KYhhqyEiP5A\nNppeLOG3pCV0XvG7m/5buzwx5kcf02CQhl1j59wzLRO5fOl1W/XIINLUgFP4WY3yZvsu/vIb\nJVboTGrzPjpv/BZK2DR64XNhm4YYshIi/siGqjXe4Lv56b/pkkzIJZxLQJEUFru56rJavSFa\n5BSUXzvRRjUyiJTQTeWhCr1nuqufplAOt43458BrOLqYBrkNF2m8HsSQlRDxRbpfzDm3thZ5\nsPq787yr/8v1Pa9aXu07anXltyu61Rhv1/5lvRZZniNFbj9nduuzWf83Nkx1fxrXQp1Lpx57\n9Y8sg8VpGGLISogEY+3iD60yxvkpP4pKDmlEWRVybkmSVrcRrELuIUI039MzDjNR93fnV+Uk\n0wL/dBP08VEKEENWQqQctBpA+gbeIM4De9gwqQJJGw/6uif25oc0pRxCpLY/kDTPqqf3scGJ\nLFVyF9m/7gMTEENWQqQUqSJ59rNHK0qMvyPOlzC+4/ln8mvDz65I3TW1Sg4h0rzAlxgfVhdC\nKPhQUTJe6A8PcQJNqXLUpKlv2rcKMWTFQUqRtujGn1qZNZzbQee/r9v/AYtyXfQdv/NqnDI2\nb67X+qcHg1OH8HIIkWLLZerRWufR9vrdcI9prtNOLfH7yWLZdz83+Db14vusUYUOoxltEgm6\n5Xbu9YBILJB0PtLv+ZD/mC+cDtmiaTKsvDuLYA2GjV07/fb1k70Y6Vs+kHqVYIcQCcf90r7H\n0Kxk5GDoxF9zo8yTmQI107wNKji4sxPfwPFMl3bacs05T+QAkVgg8cQ+bhZh47gIQ8u6zJnH\nhg/da+E4D7Jw4yOUKhieY4hEmEjf03X43vRXcmtCv9/Mp8YPL0Z9EuzQ2B4+wgiTSM6JcwN+\n4PQ4FkRihcPOkDXyAJHPzy3MnbWDtbXrOXVjPjBsKJX8nro7zHFE2uIdRTmUd47Jrs1OZZr6\nlzLr06xOLvoMXjv4tcEoEsZRozLnqGfh18YIiMQCu0V6L+rqH29VZATNyjxMead0xzG+4Mo8\nAHyHbvCuaV6pH9A6jEhxL0uF/L65ek6TsYIfvaZh/Caf2by9ZuSGMsbpBOaFBZEwTjg0pReH\nekAkFtgp0l8hSFvfjtnTNqlUOwpH5mPsoDBO4ag/lPnA7aX1BRem7g1zEJEeN9OhAvWy+LW6\na7Lzb7o7c5LZYKIVnqdwbK9sPJ+8WRSJIyASC+wT6bZH94hjVYuI0qFtJLKwS5C2FuOwoull\nSEpPTGKLY4gUV7rcoQvhrqlmlpzWkJ9yQiXTfYZe6lxeWXh+ITGKtIVHPSASC+wTaUw5A8bR\nXKfXcSLuwIq/TV9f/nngeuMXzVntPoxPOh/kUJkDiLRv6IgFTmSCX83+5hmf/cYa8LM8Y833\nXvttO6vIMUzANAoJsU+ktnTAxhJzhTsfW/yqrdDYs6qxb2uspnxlDadlhuQXqZtzvZpqb7I1\npEGqrJ36wrU8K8QwHMQTEElC7BNpbGnqGynKbZ+QZ2SV5y7LMX6Sbabx1dlJ405yOlx2kXa5\nXsB4ASJf4VUHpc58OHvUn0KOcQCRJMQ+ke77tD+2q2wpzk+HeLPDm4xdGNTIZkFmZBdpKPka\ninfPtv14N3fRo3OASBLCTiTDv/uYh+mcq6jVtxZzmchU7PQkIg1swvNw2UUaRgeJKhnqri2T\n8l365czBV6I0BiJJCCuRHpZDLuqezFcdscJcjDw5wxjB5d7k/itNH1S9cKPe+pGZ+L7/5RDp\ny/LwKSmju/c5nyLjdiMMX7/E/wlWObvOYjw08fZ5XtMgk1CwSJ0Rx9EZluroRhIhamMlUqUq\nj/Bxvxl2N2aRqGYIaQemVXKXa8kmAUXemexZ61Sipr5+yoCFJ9xmZ8sg0psCWZoW06d0LYZr\nKpfXjEt6EX/3A36fvUt0wjod023m1VIIedsREFDBIs2sc8ta9laUTChj/uzzyXXQIhlrm21X\n+FE2Ij2nY8BO+caedqzTqmjE5z1+U5NeHW1ZtjO9LlWc/xiM3xUzexx7e/roXcljvE8URKhk\nBH7Qq1yTrazakVyk2NmBHiM/GoZkS/mQ+GvcpOSPvzmeSNXuf27kG7c9w5Cd575+lWYvsCNK\ns4JFssFWVKi/Ecav+vfqX5M3u6V8GZns5AMbkf5FZCSLwBFWTPmkIc8c5xQxvlqr7TSlnjP5\neLikIg3PK27hsPveP9y61i5LhHflST2dp7NpSGqRDA2y+DXM803sM3QjbeZal+UPjxYJzUm2\nB6fuC8f4Y07V6CG+HVrzm5pPyMgidbaWfQQxiGSykw9sRPrisppKW6a9w782pMMM3o8LTbiD\nyNSzHZ70C4M/Wb6uY00quYzIjZNxFjkDM4tRX03xOcrXov5br0s7HzYtUou0Tx9Z+JfXmVY8\nQQxXIlXIsLpzSHWR+uIqmnaO/IyA7NRvQNO57oeZHYbwWl8z/YuUsKi0r2tQn+c4kP4U74jI\nU8NEn6LGu5qUXJMtI+YiRQ0MdvKsuBYTbW63dh/ThFzzLU51j2TcWTlprdtSmqccT5XVPdIc\nlz7z6qce0oLx/3RVvwvKKcAaUgnuq6i0b0X6xT10n0q3koeW8VmGGPDrgj1nhi9iGm7WpyVJ\nawSQ1X5j1H8zlEiN6CJdGPvj/0wW/p9cHvcuHtWqV7+cDNEAcpGPp0+ood+omaVzpO1qaddS\ndR3jQrn65gr6rqqW6wp+hPQvUjhqsGRVuHO+2K6IDEsM9CCh1iLQEKMEKbkmW0bMRHqbXx++\nZn4ZNArjXqhDmUn7/+mO+my9l0ok484/aFXxLcT5AQu77u8tdYt/m2Y13XjfKdS3VbmuXJtk\nYLZ+xLpu2iP09nv1WSpdmo9sH3QvUMenoFfBpjlyMPSxL8odg3G0f6GxmMQls3r3mYTYIs3T\nVGrg1uBrp8myfPhdcV9fX8/jDIXrdqeSfeqoBdVK9WX4NOrXrFXgrJVOHt+GfcF4mjePQfbp\nXyTfIPIBtK72lY1oJVlms6+K+sCZjo4YJUjJNdkyYibSIEQmrcWHqe9RwpUg3aAL6Ku4VL12\n9M4v/v5k1Mw4xHkisR0PZI0XXkvzc22SAcPasoG1kpcZrV3xCb6ccxi9/WTOiPVFuibimGot\n0h71Lk/VPzeUKTrD528c1ag4m6DIIot0T7ce40i/ZV93uP8cH/udevAzptLHtP12zw2wOMTp\nsHbV+GKezmfp5fXfqS5wP530L1Jm96Tx8W80nam3uvY62kJ9ALnHGd/6KbkmW0bMRMqW8xlh\nElqF+yOy7q0VkfBgRJb9KJTF4qRlS9ghkjHK67wSXJu0xZMwlS9qlfKg5TV92fqnP0PJyFa+\nAZ2eJvZU+2iK2FxllSCySH/QgSa6t/+6Z6ufi7u7pR7s/WVdg6bEWcjEeJaLp1PWgziUdDzx\nWl4//Yu0TOXceB79k5fNjXHTcjh3Pxzv3iTprf819+uWka/d3z/idynbP1MibSPZVkS6paqH\n8UXEZUqBETtEMgR1i8OP8w7h3KbNis9uMVmk4Y3qEpVuzmTlgDtbT7L7BBFZpPVZSfp9B5Nd\n7w7s4T1s4dmuQ9St4fCgRziue24ez73Tv0j4VHs/hIrtw3gsup/oPRJ3KYpPoiXJj1BTck22\naLaign2MbMWPUNBeI9cpkY6SbCsi4eqax3gYq/sEc+wZa3cmU9YwfWV7nr2zokTHePyxUhsh\nqhJZpAfOqzC+6bNS0EpjqrqWyRpwmseRChAJ48SzI93V5/EptPoMOohXqV6OJ51RyWMRknLN\ntrD5pV00ypayzUKkjWiKIWcV7udp16DVt6un7WFza2IfF/3z1M8czHibwRWxOxuWaEvXcmkh\n8Cp1hr3TfuMYvsaIIkQiB6IxOMGn6xSnTzgSba5Oli03GdRDclNvmd0j5VSReCj4bRwrkeIy\nFTuC1nI/SQdf/ITmzcKhK4SZhCt69/fVKSNtxYGVjnQv0rns9MCEDWg8xq0K1CaTh3N015Pp\nJ+St/zXXpFzcRXKrZCbSUNSJ+rRPqOfzPFmkxWg+TiOScSemruuqePN4t6UHkYRD9tHfkpLu\nRUoorf523tLBXj7UxdxylZ4sqdTBHZFxi+St/zXXpNwjFIxTiRRdGDVcNrssGpLyjbQfFZi1\nM7VIxp0Y31Uh22Eo05IeRYqbnFNbjM/iA/KKdLycU+ZBbMZfCEW6Fwl/GFHIQ1+gK7k0e4Ro\nCX5FetKfS7/1v+Z+3WIQCb8dms9JH0ZijCaJZOjs5jE+tUjGnRRVEJ/Rq+lRpMEBvxwaqeWz\nUIScIl107nlgdVBL6RpUgEhy8NG/ku1CaUmHIsXoyIKJAyrzOFROkTo3xSSwOfeOVd6ASHwY\nhHjd5aZDka4i8mRmcwCPQ2bUSV0AACAASURBVOUUqQz9UN2TxyL2fIEYspyJXNYKdbBdjAGH\nF+n5iIY9zP/sH9RkMNHYsjwqE1ek+wMb9rE8AKFtJ0yWYOYSmMhOIIYsZ7arfIZaHmtiDUcX\nKdI3ZFBDzQazfZ2Cd99Z6rqKR22iinRRX2FQDd1hS9lHtFNuHS9dRZxQSIxADFkJcXSRWtWh\n3nkzfM0Ww//QQ4u851g6whqiilSJhLQcbHkM7x/ZkLqFwIHLrQIxZCXE0UWiJ+08Tz1kM/Yh\nvw92MUVKcCVR1y8hxkVcjDwWfTiVGRBDVkIcXaSiCzAZZy7Qil+ifiP5b6aSv1LHNpMRiCEr\nIY4u0rDcd/CHpiEC1SaqSJ1LPMGvq1iIiSYHydMHnEwDHkIMWXFwdJFi6mrzuwfzmIzDiKgi\nvS3nVNC1mISrZdpC3fQgzTGT6+D4QzhxSZMWa7iMNQaRWODoImH897Kdgl0tidv9bTiyZD/n\nmZUiwnRp16c6HpNn3Ng8qUOwWQNEYoHwIl1vX7jaavEnV/DCcQetbq5ZuNVFgetkEsn7Oc57\nD+MHjDEQLQAisUBwka67NVg4xH2snbWIhMOKNMel/6IWThHCVsokks8nXIC60ov15lAPiMQC\nwUVqSxYy2qZ5Z7OgHDiqSHH636i0g8AdFUwidWj3bNqMhKjujTnUAyKxQHCRCi2mklj1X7wr\nOBD+wx9iXRkKLtKrSV3GCtC9cA29xMK/05hEev+tczatTt2Qy4RjEIkFgotUbTQmizzetVnQ\nAkN0Tdt6NBJpII3QIt3wLdy5pPtZ+yqheIPIalszhOrlT4J59HfU8W3HuLkPIrFAcJGWeOxJ\neFC9DN/vlPPa4xjf9V5n51lYQGiRajZPwIbvBViQrFbZ24lH/afZX5EpMI1CQgQXyTBUq0Nh\n97gfeL93xdYH8Xx6xXxjbFrhEVikRDeyhmeEOtpk34tBlZv/ybmmp1WRTt1b4O9hEElCRHiO\n9PzIFR7fRzc9Ko/vqF26tAB50ay/reL8EFgkgzeZXXRKazKE7lmWUuN6uIyzeIhF/jv0xK5z\nYQBEkhCHeSDbgvT2LXW74rQa47+c+cwjZ4HQl3YtK7zDnxpUNdnTt2w8xts1L+yrVxhAJAmx\nW6T3vwxaKERfd27SARyF/l2kKxyqGShAhUwILdLzgt4V/HPdMdlTjkRLS9SzjfMeOW3IH5zG\nvXEBRJIQe0W6ky1nw1yZGcJocaXUTGwc5n1zwQz7I3paQPDu77hNE9eZLYLW4Ecqeadm+Wh1\ni0uJBt5lhVmzLy0gkoTYK1KtBl9wbDNe666YMz7LRfy6jojhNQniP5D91eM4/tA+mF0Qlo/e\nkzB+EZQ2yJgwgEgSYqdI8a5kuT4hJuHEt0eZtMXu2C5oD+KLZAhXBzgFsYzB8reW/N4mCPAx\nxAiIJCGCiHRSkNls1zadEHvstBRDhO5sPvzFdimak7RIEysKfxI0IJKE8BQpcdOwabfJRs1G\nsTiuhVifqUJjQaS/x45hCqknOh+8p2D8Mhgu7RQAP5G+VPasV8KZxDW9nSVn49yZWEX5cgCY\nRRquqVJNazFynpj8z6VkI+8w6GxQAPxEmpjzKcbTPEm3d/TCAfPfinBiosAo0t+6I1TiZHEd\nLTG5M2XQ79D9rQT4iVSTjEyNc5blvWcPjCJNLk82a4h1gSUfIJKE8BOJftfFuRwS4YREhVGk\nSRXIJv3ZoCxAJAnhJ9KEXM8xnunhmLP3rMAo0kndcYxPO6e7TwWbgEgSwrOzoYJXw1JOG2wX\ndDCYOxuGaKrX1Ar0pnMkQCQJ4dv9vf7HyRIGKBEKC93ff40eeVT6kxEdEElCHGb0tyQ46poN\n4gAiSQiIpFxAJAkBkZQLiCQhIJJyAZEkBERSLhD6UkJAJOUCoS8lBERSLhD6UkJAJOUCoS8l\nBERSLhD6UkJAJOUCoS8lBERSLskR+46bruAKoS/FAURSLskxZLUmXz9HqOu6JfWbclpbHURi\nAYikXJgu7Zwxnho4dmTmhRzqAZFYACIpFwsiFbiM8b8FOdQDIrEARFIuFkTKSf734lAPiMQC\nEEm5MInk9CC6zQmMDxfmUA+IxAIQSbkwieSlQqgLPqtfzaEeEIkFIJJyYRy0mhh19yF+cYZL\nPSASC0Ak5QLTKCQERFIuIJKEgEjKBUSSEBBJuYBIEgIiKRcQSUJAJOUCIkkIiKRcQCQJAZGU\nC4gkIbKL9PrEbekak0mkxBt/yRFCCkSSEJlFMgzVIVT1iVTNySPS7TIIuUyWoiVzQCQJkVmk\nRZ67426WryJVc7KIFF+izv3Yjc4bJWjKHBBJQmQWqeI4KrmGpPpKkkWky+gFlfZtIkFT5oBI\nEiKzSHlWUckndFai5mQRaa/eQKUzSkvQlDkgkoTILFKTNlTyp+6TRM3JItIT1THqZrDm9xI0\nZQ6IJCEyi3TRudXyEe7jpWpOns6GcJ+ff63veVeKpswAkSREFJFOzfvtBcuiF5vlrfCbQYA2\nWSGPSAkLw/K1ufH15c7Zm2OkaBdEkhARREpspyse6LXH7npEwBEeyL4OcS/lHXRHgpZAJAkR\nQaRFvldx4gg/Rwx57ggidQh9hT/UryxBSyCShIggUpNBVBLncsjuioTHEUTKtIlKzmg+iN8S\niCQhIohUaxSVGLx22F2R8DiASAaPXVR6Bb0WvykQSUJEEGlsvmiMNzg9s7si4XEAkXDt5okY\nh3NZoJEvIJKEiCDSx2KB3zfWzLG7HhFwBJFueBfvWc7luAQtgUgSIkb3d8z8Dn1O2l+NCDiC\nSPj5T+2GSfJQCWLISojs0ygkxSFEkgyIISshIJJygRiyEgIiKReIISshIJJygRiyEgIiKReI\nISshIJJyUYUOoxljOloLYsiKA4ikXHT5atLUfZg6h0t0JBCJFSCScsmyPu2+FjT6Fi041AMi\nsQBEUi5MIhUMmrlgwQLfBQs41AMisQBEUi5MIsX0LxaBcS5O9YBILACRlAuTSBgfCf4pLhen\nekAkFoBIyoVZJBzdJTQrp3pAJBaASMrFgkgYb2vDqR4QiQUgknKxKBJHQCQWgEjKBUSSEBBJ\nuYBIEgIiKRcQSUJAJOUCIkkIiKRcQCQJAZGUC4gkIRZEujE+fHW8DKcjMnKIFLOs3+QH4jfD\nAIgkIcwirXcKa+JXWqpgK9Ihg0iv82dtVkJ/QPR2GACRJIRRpPces6h3QPBoWc5ITGQQqUfo\nB2wYmjVR9IbSAiJJCKNIx3WxVDq+khwnJCoyiFRwCZU8QzdsFhQeEElCGEX6S0vi9/xcVY4T\nEhUZRCr8C5U8QbdEbygtIJKEMIr0wWc89cfPJVkgPcmQQaQ+xaJwYt+cksVSMwFEkhDmzoZt\n+iK1PCp/keOEREUGkd6V8K2Tz+uE6O0wACJJiIXu7/uzRv1PjvtjkZGj+zv+9xHzn4vfDAMg\nkoTAA1nlAiJJCIikXEAkCQGRlIujieS5VMG0TS1SqNxnJCahqUVqK/cZiYmnY4l0vnSokulr\n/tMul/t8xGW5+U/bV+7zEZXS54UxQCCRACBjAyIBgACASAAgACASAAgAiAQAAgAiAYAAgEgA\nIAAgEgAIAIgEAAIAIgGAAIBIACAAIBIACACIBAACACIBgAAIJNLD3j2UTKqJBcfkPh9xOWb+\n0y6X+3xEpfdDYQwQamKfSysFE5J6Yl8Ouc9ITHKkntgXIvcZiYmLY03sg6nmygGmmvMBRGIB\niKRcQCQJAZGUC4jEhfu7ztuzkiOIJAm3dl2WqCUTQCT2JPZQu6HS9/hXACJJQExL5Iaqv5ak\nLRNAJPZM9z+Jn1Yvx78CEEkCBuS5hO+UaiFJWyaASOwJm0IlN9Bj3hWASBKQYzWVHHaSOigB\niMSe3Kuo5D3iv4AZiCQ+iS77qfQ6knopfRCJPc2aUckaF/6fdSCSBIT1oZIpgZK0ZQKIxJ5r\n+tqzeznP4V8BiCQBJ7TN53TWbJSkLRNAJA7c7Fyq/jY7jgeRpOB8m5JNj0rTlAkgkoSASMoF\nRGLF02XTDttfC4hkBxdmL7xuVwXiAiKxYadH7jDnZgn2VgMi8WeoJqSIzoG/00Ck1Dy9n2ZX\ntO8YA74ZMNfeqkEk3hxwOorxOt01vscz/FWFBUQy50IIQkEHUu084hxHpUPq86vy4oKlkcYt\nEIk3QxuQtOjClB3x22ZuimF79PmS1F/1kB3N2wZEMuNNYJvrkQPcb5nv3eNGhqqOqcGryh81\nxYNdVtCbIBJvwpuTtPTM5Ncvi3t+4xMcye7g19naXr8b7n7bjvZtAiKZ8UeWWCotM95870vn\n1Ri/zTuWT407nY9jvNj5LtkGkXiz0YvS4JT2n+TXbcPe4A91q7E7eF1WckVReqId7dsERDJj\nMj0ktVPXVLt/0dTulKXEJz41htPDJ4PoryQQiTeGpu5tmzuFp7z23YqJWOz+JBMrkLTD93a0\nbxMQyYxtnm8wjs03K/X+Mz92+SWWV43fdyBp0QUkBZH4Y1jfo8+elFeJbnup9F9VFKtjt3hR\nf9Uvee0Yk2IbEMmM2NIl126unuONcDWu9H+E8V/aC2QbRBKM6q2o29beRdgVjg0NWbe5Wk52\n1vEERDLn5ffZ/FrdFbDChJo+XVo5DaK3QSTBuOZV/IcyridZln7RLatfa5Y9EzwBkcQmYeV3\nP+w2boJIwvHsp/Yj7glZoZ3IItLx7uVLVOh1jiFHgSKZACIpFzlEWujXe8nqRb2816TNApGU\nA4jEBy4iBV+h/ztVKG0WiKQcQCQ+cBHJz7ikVbxP2iwQSTmASHzgIlLZeSQ1TK2SNgtEUg4g\nEh+4iBSRPbBmoxrZgq+mzQKRlAOIxAdOvXZx++dNnn/YdHrPnUJBNL4aYU7HMQGRlIssIm0e\newrPrjvCZKDU5xVLaaqphDkd+7g3rtcCXgPrbAAiSU/ihvBhpyRoRw6RJgY2yTYibHKlvmmz\n+qmFOR272O9auk2OPC+ErxhEkpyEOp4ta2qmid+QHCIVeInvqF7iD/nSZjmCSIasw6mvyLJd\nhK8ZRJKcpQEPMN6ivSN6Q7KIRL1Zfan/g9NmOYJIt9ATKl0RJHzNIJLkdOhO0pwMz/4FRg6R\nyuwxrPQ5ji8UT5vlCCJFIupDDC8tIHzNIJLkdKEvLLL9IXpDcoh01FMVfNy3pOtvabNkEOnl\n8WvmMY8MQT3i8etivS2UtwMQSVxizp3+kGrXGq8rGC9zEShSshVk6bV7fzkOR65iGrQqvUgj\ndRoUZj7C/rRvrmreIe+EbwtEEpVDOZDaL9VaxYZvnSoW1y1nPkBIHGwaheQiLXffFf+gxjcG\ns52vF4/ZFC9CYyCSmDz2HvD+82TnK6l2H5kw66a4DdNkdJFqDaeS+0jUBWZSAJHEZEUe8nFY\nfrzNgqKQ0UUqQlZKi9Mcl6QxEElMJlYkaZue4rZiiYwuUvuGVLJT81aSxkAkMdnp/gTj6MCl\n4rZiiYwu0g23BotHeIySpjEQSUwSquaZPq9okc/itmKJjC4S/q9OQO7hibbLCQGIJCofx4SW\nGGBpAaj4DaMXiBkOM8OLNFUTVlnbx7j9enqv6WLGlQeRZON9KZ+aeb1MboWv/9T3V34rFTKT\n0UW6pN2G8T8uu8j2Vd8CbfP78g54YBsQSTbCi7zBif1ypFx6rNeVb5WpeOrHt3aQ0UWaT49T\nakyvO1exTQJOaFVJxMZAJLmg41g8Q8mhyj56zML4bcFhwjWQ0UWaE0LSZv2p5IsT+eY/5vQ1\navnZ9WcMFo7jBYgkG4UWU8krlDwpe53mQFzySu/CkNFFitAexviK2xZqM86FRLc85BKXlPW2\nmjqLurKQ69yCSLLxQynqMm5EZuOs7ISOKqQrfBNPqCxcAxldJDxSU6uhC73QPa5V9xP+VKdO\nck7H4vfxg5Lt2FQSx+6LC0SSjTcFsrYo6brP+GJKptP+gxqGPM41zsoRHHsiMrxI+MTwwbuM\nW5E5M1fPnOte0n6D13Yq3e1uO3Ls+co6tzZPWDQFIslHzLI+k5LDX4ZNxXvdcyN9lS+WSifO\nzo5yLOByXQ8imfBp1ZhVKWs1xGj+ptKzaps9Ow982h3ZGRbK4hMMRHIM8v6K8eOZaLZlUaZ7\nLTg5x30BhzozpEiRbbLm7mMzdEvxgVQy2HbkkLGlE6lLB/0+2+2CSJJxvm5AvnGWYsy2rUsp\ntMLV4vcRpcUyKpmXi0ODGVGk19mrb1hRuIKtiRJHtY3GN9bYDuHb9geSlmAR8xxEkor/3Npt\nnp+tk4Xcu17lxnfS/mL58HfoIpX+gzgMN8qIIk0vQF2GPadjvlnlUpeKnf+1Xd3o8lTy3mO3\n7ZIgklR0rUclEchSSKSHfSu1Th263gz/1VSyJAeHFjOiSJ2/I+k3MwSq7rbHDxdOVC9s8dPL\nsHf2ho/0FogkFWH0AlyeO/geP9Z/zbWVPlNN9nzaOHuPtSGZGVGkMWTiSmzAJtN9l76r8t1l\nnvWdKI40dS3Gg3tfXh/il52etwkiSUUrEnj5qWpQnQYLeE11TvjJA3lNNBHnag6/EH3Z95aP\nyIgiXXMd8eh2m+ymc5AOaxv93EB7jG+Nb61cTPcp/BR/bk2PRAKRpGK3btHzixU9Aof96N+Y\n3+AUw3Oz40JafsbPivSyXD4jioR3ZUeoxAXTPUV/pJIBDOuD2U++X6nkJnqKQSQJG1/qjVAR\nn+cY39HbvBdmwQv0H5WutLLWYYYUCSfcum/2+pP6Hyo9pRFjUljg71TyCJG1PkEk6Yi99rx/\nM7JRWYhFHO4h8obZYCVWSsYUKTWJ7qTPbaenGBP8WtWirtJ/ykouFEAkSfm5CknpVTnsxZBt\nNMbxdVpYLgEi0bQNeYgflPhWjKofZCr0QxUd3TkOIknKOd0KnDjdVZAVovY4Vf6hcMA9ywVA\nJJo3FTWBGtYjvf/XrvHkj+zrntBusHEeDIgkLYv1Pl6eX9/gBzs1GMN7MP+Nwe3GW5s9DSIZ\nMZxed5pt985g166DchdlDqB0r0fZJtstHQgiScyz/21/lfJitvbbwUWyv+RcSeKquhUG2TwM\nROLMDdVxjN8HTWbKu+1ZbUpPp1kWjgSRZCTKiXqrx5VmCMplgz6eP04qmdPW0EwQySKHZq56\nxbR/HT1yZEATprx29aivtXXOFsL9gUhiY9gzY42FRdsPO5NHs9O/4VrlTdVpjL8UG2mjGIhk\ngdi6LqUDfY8y5Ozw2jZy2o3vOjMdVYAsT/hJdYa5ThBJZD5W1Bd0d2eIckIRoY6m0lG1uNa5\nPitJh9exUQxEssCE7JE4ITwrwyyj5zpdrRCt02amoypMwOShg4XxQiCSyAzK10VbJTMay5QX\nm6trDL7gO49rnYdcyHugawcbxUAkC9DP8aLVEWlz5vn4+ORS6xhjzM7yO4Vf1ytlodsCRBKZ\nYr1czuAHSMPwV8P4n0DPPJpOnB8Vvg/s9hFvc95qo1iGFsmwNL+uwArmvDLTqSRGezJtTrMB\nUf9bfd2LcWRxYg+Vt7rYLQvtgUhC8qZngL7mRbNd+erWx/glKsLc2/NhxyoWs2LScCqXzlNn\nbXUHGllEOt69fIkKveQPNLbAferBSfpljHkDSnzEeKE7w+OiJmTmrMFnG3Odd7aesjjeGEQS\nkIQqRdfvaeVjNtarc2A96qLcv7RQM2SMxBzb8dhmITlEWujXe8nqRb28GSLkSiBS9IVnyZuB\nZPTIrNyMxd7my9GlpmY1Q86sbNSv9VeXZwxZNgCRBGSP9gr1eRY23HTfM39V40q68dqzgrbE\nCjlECjYGVTtVKG2W6CIZRjoh1Mz4UCAakRHgZhOK95bRB083fqN8mtvxxwsMNeC4ah6Nyml/\n5dE4iCQY8X3VSNXxIx5o/hQiuow6T1nNCH51nq3unnMI+xEr5sghkp/xhi/eJ22W6CLN9doW\nfbZYM+ML/3VUsiLb19xD2oG75/gPtVFH4sZB41IHWGQFiCQYo7NMdd0b3B3XHpgqY/+wkQz3\ntWz4z63jzuV5rIxLtYocIpWluyANU6ukzRJdpFAyffi0yvjQbmTmzfc3+HeonqtG0hJANcjf\nfodWrBA7IJJg5FoeU6TGbNehzpfMdkc0Ciq3iucy0z3Io6KrKcuDc0QOkSKyB9ZsVCNb8NW0\nWaKLRE8wT14DOm6IM3Jpquu7qpf2f/SObH9QyVt00fLxdgEiCUWC9gi+WwOhnOZLzkQ4tVs5\n0n0Cvzor0cf5/cnvaFl67eL2z5s8/7DpEqafVyylqaYS5nQsUo2EGF3vkvycNe5+XNAk6v+f\n89Mvy4+hklMqC4NM7AZEEoxio6lkun+qvQ3JY9ONTpbWs7NORzKL5pmK8b7YNnKIFH8IJy5p\n0mKNyVfwnUJBNF5ii3Rc2339WI9JX3d8UJGnd/+o6OFxq/QrHh0u2EasxkEkwdiqDV8/3GVJ\nqr05SUewsQ+JO0e10+7/UyHM9hLVjMghUp/qeEyecWPzTEybJX7397EamUN/NXm8bfAm3+Ub\nkj7bZnogdUfzL6Q95f1KLhcmuguIJBy7K2UOS/PeLUeuzi4hxkEntvk9M0L1HiW/iuqXJ7Dt\nPdYHyyGS93Oc9x7GD/KkzZJhiFDvoFOxJ3OFJ72Kv5Oq/3OXdsD/xrnPFKQpEElkFnjtiL0a\nxnlcajKJ976uLBVfvsiKP6rmsLmwdTJyiOTzCRegvhNivdNmySDSp29VSNXJ4mV1mSFUslKY\n1RxAJJExDNMhVIvHo/K07HF/jvGX/KzHSMghUod2z6bNSIjq3jhtliyDVp+cfGo5U7+HSu6j\ne0I0BCKJzpu/La7UyY0Z9MSlLp3ZlpdDpPffOmfT6tQNGT45HGf0dzIFyUOvg05WIhewB0RK\nP2zMRCI3VviJbXl5Rn9HHd92jHEcoOOJNM1v6+tj+boIUheIlH6ICmx358kI1//Yls/Q0yjY\nkDjMCak6Wln0mQMgUjrifHGEsu9iXTzDi3Ssgluen61euH28LFRAZhDJYbnWwCtrz1RddPdu\ncnimlNFFOqPruXtR1h7SNAYiOSpPAhpvXVukEs+HsYSMIdKLcR1GPWDMadGeSk4g7qud8QFE\nsgvLf0W7GRtCOfTU+Qj/GjKESNd9inUtrT/FlFWYBEBM0BwVo9k0gEj28J83+Suetq8SCxjP\ntagdy4RnCJFqtkjEhp5FmbLqkyEN/yG+H3TvRlauvYh1KCsQyR5qtKT+ij8IEnrnXo9yTXea\n7hhanUo+sQlfaomMIFIiHS72ouotQ94Wp0WP/gqpzbPmj4UKjh/q255tcRDJDhLcyKSx80IM\nzb/lUW1ydyfThbkuuwyPvNQgH9/psThjiGTwJWspndYwrn/6izdCLfjeIs3K/QHjq1q2lxsg\nkh0Yl5v5W4hZl60bUMlvLqbDwnblRKg8zzl9NBlBJNymbBT+WK8qc2bCnWjeFX/bnaSsL61B\nJLvqKxeFP9Stbl8lNHmXU8kHZL763T3G9alZkyFEelHUM8w36K7wFfcnS28kZt7IsjiIZA/U\nX7Gsb5AQQ+nKkgAId3nfGDOSEUSKjri7ZdpGftMmrXNUuw5/GeTLdv4LiGQX8Wn/ih/O3+Mx\nVWxawBn8um5pO0/HnAwg0ngXhGo+Eb5ewhxXD6csB9iWBpEEZo4bQhW5f0cldFX5aIoLEskv\nBeWLtFK/6eOVshZukOzm2a5DH1gXBpGEZYvT6g83qofyGI9w28p6uPxQvkjVyXKBN4S9IOYJ\niCQszXtRyVN0Weh6+aB8kfKTtb1j1RZXDYzqE+jdgGFlMBEAkYTlGxLowOBmx2PUr0QPzOFZ\n24512JQvUnPybt2ttvQcL6Fq4TVbG/vbXiVdAEAkYelKlnQ8iR7ZLGgbQ718q7a18uLfJ6h8\nkS46t103znu4pezjTk8wTiw1WvB2GQCRhOWWe5M1UwJ6ClFVhJpyyFAx9QLI7FG+SPhcw+yh\nv1i8IV1ckKThzYVvNy0gksBcaZYjZGacEDWtoQMDj7AV4NIyGUAk6+x1IwOsav0oRVuCitQZ\nMQWYEuDwbvZVnEJ6mo+ET+jISMym/L/dMrxInwrU+/feSGc+odw4I6hIM+tYCgyYwmqELPax\nWD7cKNLs83xPLJl0JdKX4tUj7o/X/cO7gnQrUsKNs3aM1TXhRkWEcjDGsRQcqS/twvzV33I/\nihbpvZpPACgzZBLJcOcfPoMn71ZHKCtjgG12pFeRLhZDyGu5MI2+5jPMhA8Si3QBDaji/Jrz\nYbRIR1A6FelOOYRcp/E58k2kPW+DdCrShzytH39YpD0uTKtSwUekhEWlfV2D+jzHgfTtcEc0\ngEoTfYoab3JSck22UuiGzv6KkpYKPVHZzbvZvS7oPrX3dmv3MUn3SK/75HTO1+8lxm0QHTqt\nAnpLi9QEUSw230sfhqMGBjt5VlzL4qeVRaSEkFp3Yn53tuOrhSfpVKQDejJ6sYUgPZ/SwUek\ncNRgyapw53yxXREZvh7oUYJKI9AQowkpuSZbybzVF8Ef3PPSH7NnnTxGLO+QvTp6hnuhDmUm\n7Tce/jbI5ftZ3bQF36UW6Z/uqM/We6Z7kw57m18fvmZ+GTTK9pnLItIVRD5K+jSVoClz0qlI\nK+kF+Ac3FKZVe9hXWOMSZvO23wgfkXyDiAnral/ZiFZifB31Vb3BeDo6YjQhJddkK5k5aC7G\n3yN6SG0jRGJujEGUSOGoBJnhSB8+CJE//zQ0JbVIeAF9aWeyN+mwQYjMNo4PU9+zeeayiLRX\nT34NMziO7N7TpuaPlobwX63nEdDd9lyldCpShPoG9ecsyeJzUWSOaVSV6ut011gV5iNSZvek\neVRvNJ2p97f2OtqCcV33OKMJKbkmW8kUcKGUO4PoJ2ReXiQKwAcXSqT+iL6DoA/P6kGer707\neMe2SEmHZcv5jDAJrbJ55rKI9Fh1AmNDrW6cDpqh6zImJDPzAvBPAprsWF+8vM0hrulUJNwi\ncPryKll4BsIRkHrOAs11XQAAIABJREFUszA+iNg9yOMj0jKVc+N59MK5ZXNj3LQczt0Px7s3\nSTLha+7XrSQOIrrHrrj2CcYxqBS9rwwtEpmyTR/+BqWcEAuRyGHvUDI/2zxzeTob+vqOX9nQ\ng9MUibe6jdTNVfkfGDPHlaQ+a1642pwqk15FipkQEtzpvjCNsift5MDs6DF5nzIEaGeAV6/d\nqfZ+CBXbh/FYdD/ReyTuUhSfREuSn6im5JpsGWmGWoylqITGUZ/TqBK9rw4t0lGySQ5/jFIu\ngViIRA57hIL2GrG9voE8IsXPK52npdUVu9P8EY/pyOCI2SGMpdvQ9+El5jFmmpBeRZKBtz08\n1SUOptpZiQzij0B5WdXAs/s78exId/V5fAqtPoMO4lWql+PR/a9DE5JyzbYoHmuTvztyJOAX\niA5SgsuaixSnTjnvJGW+YRTpmxSRolE2VqdMcMgHsonTs6LsqdbYuERuO/HoGowHjKhCJR+9\ndjJmmgAiscVQr9CfJ8OdzFfMwBvUhS4eyqsfyqoK/s+R1qMxOMGn6xSnTzgSba5eCJuN8SG5\nqbfGoKSHKa3RdpzoTIf2/OhqLhLO6UQGxryfsxV3QGfJXn9zkUz2Jh2WU3WH/PeWxQA3hxRp\nks/iU3PcfjHbF5e3/Ud81of59K7pB90+X8/2Ql0gEluuIXLh3Sx1gJdxGoRU9dgtCMFDpHPZ\nZ5H/NqDxGLcqUJtcoeXorh+EjSZ8zTUpF3eRurKJz+qctMbYEVQX4yroMLU5RpVKpHBy3YcX\nUekQRB4N7ULJIi1G5H1lsjfpsKGok4G6oajnY/rAihmHFMl/FZXMDjbfeSGPS6Cqm4WgjPuD\nEap8w2bFIBJbttL3QVPKpd4fu3452yjaPERKKK3+dt7SwV4+1MXccpWexL3q4I7IBSYx4Wuu\nSblHiHqfbEQpg4MKqiPxblXAhJXtClVPJdKrPKjTzK66fO/xFXXwrvMLg8KSRdqPCszaabo3\n6bDowqjhstll0RDbP60jivSavlY9qYo13/35wDor/a5P2EQjAZHYcoXcmOA2neyogs+l3YcR\nhTz0BbqSC6pHiH4z/4r0JAwNbcLX3K9btEhV0V/JNcxBw6mvquLOWb57URe9NBMJP++ZXZe5\nN7lF2BLi5tPkRif0wiiSobObx3jTvUmH4bdD8znpw1aw+GkdUSSDzzoqXcAQBtxeZBHpePfy\nJSr0Yhqs78AiJVYvuffSSB3jUvwskX0+UiGtIJN32OGIIuExAauvLPOaLXzFcoi00K/3ktWL\nenmvSZvlwCLhl+2dUN7t9tQgn0i/VybdTudUFaVqEDuoSPE/eSCfqSIMUpZDpGDjMJZThdJm\nObJIGMfZGbpPPpGueLgPXjLcS3tUqgaxg4pEXd2JEwtLDpH8jP0j8QxPMR1bJJ7EXf3PeEUl\n46Xd5bbZdb4N/pasPeyIIt2/wH4NQq7IIVJZ+jGxYWqVtFlKFGl/ToSCjpIt2e+RJMXRRLpf\nBSG3WWLVLodIEdkDazaqkS2YYTE5BYp012Pwy2e9fch6XyCSjCSWqXr9/WqnP0WqXpZeu7j9\n8ybPP2y6sM815+QBLcKcjn0k3L5tR1jeVMwiMeYS8y7BIJI855HEf+gxjr70fWORqpfvOVJh\n0xcJRw/SNHWEb6SjwdS1mB1xec0ZQE8yq0VmfIBIMrLfJX6gDql8RbpNkkOkFjT6Fi3SZjnC\npd1D7z6PH/fxfsiUd3fLsVim/VZYkfU9xm98N2AQSZ7zSOIEahSwK6qsx3fiVC+HSAWDZi5Y\nsMB3wYK0WY4g0sKCBowNBRn+7IZ+al9dvkvcqvtcJGTZkqKhxD8QSTYSOqtckOfM5m7LnMV5\nJi2HSDH9i0VgnIspyxFEGlqfpA0Gp81Z4vkXjm5VgGNAkBc9g/P1oxfzAZFkY3Km87Fava7J\npTuCLBWeFnnukY4E/xSXiynDEURanTka4+jMq9Pm1B1GJa9VFhaTjJ1Vq8Ykq6GCQSTZKDMN\n41KtUWibob7irL0mU2dDdJfQrEz7HUGkz0VLrVxVqiiDEqVnUkmC8yHGwwx1s4wYncPq5H4Q\nSTaCVmI8E6G6RVBXcRqQrdduWxumvY4gEn7eI3fu7kzzbX6omEiduJZ5zcVd7vepyzh/hgGE\nKYBIstGqIcYVi6oDSrdkP8WXEzCNgh1xk3Joiy0PKDOhp8sE5hLjqpC0WbiVSkAk2bjlUXmC\nVrsQ45uIebUgXhiW5tXmXUpvgkjs+DFg8aGR2rXhFZr+z0KJhfSDsYoWNKMBkeTjXs9yrqT/\n6C+t1dtYbix0m3ZkqtsisgkisSJGR6YhDKhspcht/eQEwyKdteiJIJKs9Au+jh+HCbmoaA7y\nI82j15IGkSyw+xuXPFNSHjlcQeTGaHOAtSM2+eg93FdaKwEiyce+Mi65C6IAdXnbi02w5iM9\nyzgCkcESIBIzh7Q/7pkfkBJ+7IOarNc/tqzVY6L27rI+1wVEko2j2oF7FmT6dtNZQTu/M/9G\nJasyk00QiZma5F2wS5OyClPHvLvvLHX9zb5KQSTZqNuDSvap+UROssJPARvurg8YSzZBJGYC\nf8dkOcSUsHUfumuR91w7KwWRZCMXeb7+CZ0Rttb4Ea7IdQQ9UwBEYqYCCXN+WmUytzz2oYWF\nz9gDIslGFRLW/hyyHVWCI/EPk57Ag0jMrHb99f7BAgK/0UEk2fjdZen9w4VEjF0PIllgjidS\nd34nbJ0gknzM80LqDm/Fqx9EskTCvU9CVwkiyYgIf09TQCQJAZGUC4gkISCScgGRJAREUi4g\nkoSASMoFRJIQEEm5gEgSAiIpl/QnUsKJjZeFaUxyQCTpubDhlN0jUtiQ7kS6W1ybGbXiuric\nYwAiSc3HeqosmjLPJGgp3YlUvtZrfCX7aO5VR524IslHkxVAJKnpnf82flouzVy+W8cEdyu9\nifQSkWCf84tyrnmyixqFXOd1UoIBIklNdhLp8oTOPFb2s+pIrekr8KdqehPpOiIzHNczruVl\njU3Om+OeNCwiYeRHBkAkiTHo9+Lk98xXaofdSjjsN13YptKbSAmeC6m0GeeYAi3IX/WNOoLX\nWQkFiCQ1FbtRybicZvveqEgU+ukhwraU3kTCqzTtx1d2/49rxeWmkNRzB5+TEgwQSWrOOtce\n31KzzWzfNUQWBNiQRdiW0p1I+GjbSr3uca64ZxUDdbGsYgwxIRkgkuRc/77it6mmxca5ktmy\nneoK21D6E4kfD3xq/jLGp59ItbMERHIIZrsOWtLK6ZywlWYUkfCdToUq/CJcHD5egEiOwcZq\nBZpfELjODCOSIwAiKRcQSUJAJOUCIkkIiKRcQCQJAZGUC4gkISCScpFFpOPdy5eo0Iup/xFE\nUg4gEh+4iLTQr/eS1Yt6eTMEtwORlAOIxAcuIgVfof87VShtFoikHEAkPnARyc84gj3eJ20W\niKQcQCQ+cBGp7DySGqZWSZslgkjMoZNlAUSSl3iFLVkckT2wZqMa2YKvps0SWqT4nz2RzzRB\ng0vZAYgkJ1HfOaE8f4pVuyy9dnH7502ef9h04NvbUcNoQlXCnE4yP/mvvrzMazarsjeWLLkh\nbOupAZHk4OnK+Wep/wz1i+z+d6z2qEityCLSnxNPk//afd3zqH5NmhwCi+RHegYX5GFTdJq2\nYAHtTGGbTwWIJAN/uucspumB8R1EFhro3EqkZuQQabR/o4Ax1P/OabMEvrR7g8jKXSdVLBYd\nOqP9H8abtAIPrjcHRJKeFx6TDPic+zq8z4W8nFtSpHbkECnwNn5Req4UImF/EmV8TrDF/IPV\nA8ttoLcmVSBpucnCtm8OiCQ923zIHXK3jjgSkacu37axXvxcg+yhvGbbyCES+dFeBO+XQqTJ\nPr+cnuu+yFL2bm2vtUNdlpDNUbVIWpPtOl+XZkzjvv4DiCQ9v2cjaXhzjJvl23RqsO5vpkJP\nF4/bSfdInXduv3ac9wge7cghUvlfqeTfwF0SiJQ4LQvKvsBiduhQKlnoTzZ36alL6Guue01y\nDatql+n9hPHACZrQbzScf98gkpTsbFi60w18R7MH49c5ZmEc3dtTVXQ3U8l9nsGV9FW/UFvN\n2lLJDg2P4OdyiHTaewWVng9iOEaE50ifLWcZnA9Q6U1Ey9LGvVNHt/am2QM9fpxeNvNzhgPP\nandhfFh3jOOpgEgSstCp58y6rlfwOG3z7zOX+ULvY34vxAQMM+DHOcdSm3mXk9eqU9ybk6XX\n7h0dXPrz5rQ5Eo9sCFpKJftc6NXuDH907brB9InTfRUlSvw3AxiOmxZG0hpjODYHIklHnJ58\nWrdshPGhnh1+sdrbdFb9kUonVqSSKqOo5D/0iHt7Sp5GcX7LJRslxmbe9+lU/i7Mmdu8STq+\nMkMW/UvHdYdzPCEQiSJq/14pBptcQaSV3wNZFP1bS76p6A/HFW6bPl4Kq86jPeWK9Loq8kP1\nPlgtE99Hg1Db98yZp7Tk4F4tGbKOOZ2h7vJcGS+4rQAiYbzRx1XvyTDuX2ieIzJwZiabZSA/\nesym7qAKDyHbP7sgVPspj/aUK1LrkAf4VoEeNkq9OWNxOfWY4LZvDdtdNjLl9XFq3NTFwjeZ\nZUAkfNN1amLiHKcr4jdfqepjfCoTq8cZ63UV2mUpavw8jT7Hb+1DxYoU70o6Ejb621HFhfxq\nve4n5ry9A8O5r9oKIuF5xclmmaniN/+gDHJXdWP3SOjaqB+WfLGvOcWK9Bb9S6XHdPYsmx97\nejefb3mLgEh4TA2y2ehHCdpPPL/jngTNJKFYkXDQWCoJDxWsPgEAkfBWz0fU/YuvQO86B0K5\nIu3QtJ7WVHtcsPoEAETCiTWyjf4pR8V4Wc5ITJQrEj7dpmyHi8JVJwAgEsZfptWoNsnKQ/L0\nioJFcjxAJOUCIkkIiKRcQCQJAZGUC4gkISCScgGRJAREUi4gkoSASMoFRJIQEEm5gEgSAiIp\nFxBJQkAk5QIiSQiIpFxAJBwzvkhgs2tStAQiyc2nMYWyt7wlRs0gEm4XOHdtI+97ErQEIsmM\noUmuBWvq+DOvDGUfINJ/ZDVWQ6V+EjQFIslMhJr6Nkr4ZqgIVYNImzKR9OeqEjQFIsnMb7lJ\nOrS+CFWDSKc1JGpOx04SNAUiycxhF7LwVoueIlQNIsUWrXvj7SLtQQmaApFk5lP+xrejZmv/\nEqFqEAnfKoeQ9zIpWgKR5OZaaYR8RVkMDESiuPdvjCTtgEiyY4i8ZOdyQRYAkSQERFIuIJKE\ngEjKBUSSEBBJuYBIEgIiKRcQSUJAJOUCIkkIiKRcQCQJAZGUi2OKdLJZ8eaMUXPTNyCS2Nzo\nEFJ3i/jNMOCQIu3UdJz7LQmiqzBAJJG54lpvbh/nOaK3w4BDilRgNJWMKCRMlQ4EiCQyTVtQ\nyWoXccYuWEcWkY53L1+iQq9zDDm0SB9VZ6j0H/UnQc7MgQCRRCbXaip5h+QInSCHSAv9ei9Z\nvaiXN8PgQVokg+c2Kt3ibUibn74BkUSGjgT4HxI0OhxL5BAp2BhB9JTptdu7KJoe9KVd10JX\n8ZUC3YU5MwcCRBKZGX7H8aOqlURvhwE5RPJLpP+L9/m66wpKQkVevW+I9Kix9YDk6REQSWQS\ne6r1KOyB6O0wIIdIZeeR1DC1ism++3dp5iYFT76x+4Yw5+VQgEii82DPRXnuCOQQKSJ7YM1G\nNbIFX02btT6LMKfjmIBIykWWXru4/fMmzz/MFLkdRFIOIBIfBHqOBCIpBxCJD0KJ5NJKwYSk\nFimH3GckJjlSixQi9xmJiYtjifSwdw8ls9z8pz0m9/mIyzHzn3a53OcjKr0fCmOAQCIBQMYG\nRAIAAQCRAEAAQCQAEAAQCQAEAEQCAAEAkQBAAEAkABAAEAkABABEAgABAJEAQABAJAAQABAJ\nAAQARAIAARBIpPOlQ5VMX/Ofdrnc5yMuqSaN9JX7fESl9HlhDBBqYp/nUgXTNvXEvlC5z0hM\nQlNP7Gsr9xmJiadjTeyDqebKAaaa8wFEYgGIpFxAJAkBkZQLiMSSF3OH/RZrZx3SiBS1cOjy\nz2JUzBEQiQ9KF+mkd756/oXf2FeJJCL965+nfuYgOdaRTwWIxAelixTUKxG/K/W9fZVIIlLI\nt/H4Y+WWItTMERCJDwoX6T66R6UrguyrRQqR3qpIdKA//YWvmSsgEh8ULlIkIiEOVuWxrxYp\nRHqjukSlW3zlDy4FIvFB4SIZcvY34I9hXeyrRZJLu+LfJeCYGs1EqJkjIBIfFC4SPuZeuGmW\nvC/tq0QSkSK88zfNkeORCDVzBETig9JFwo+nhS+LsbMOabq/X84MX+QIQdpAJD4oXiQhgAey\nygVEkhAQSbmASBICIikXEElCQCTlAiJJCIikXEAkCQGRlAuIJCEgknIBkSQERFIuIJKEgEjK\nBUSSEBBJuYBIEgIiKRcmkY5gbFhSv+k6LvWASCwAkZQLk0jOGE8NHDsy80IO9YBILACRlIsF\nkQpcxvjfghzqAZFYACIpFwsi5ST/e3GoB0SyiOHw/P8ZV/VJfyJdWbL6Md9jQSSnB9FtTmB8\nuDCHekAkS3ys4lLMO/c1spnuRBqqKZDd7Q+eB4NIXiqEuuCz+tUc6gGRLBFe4BH+1DyEbKY3\nkXY6H8GGWfoH/I7OWCJpAo2L6ZeNNNmZGHX3IX5xhks9IJIl8i+jkuvoGU5/IvVpRdIca/gd\nnbFEUpWfSjP7o8nOPyeeJv+141APiGSJbOTS6DG6jdOfSJ2/I2nhX/gdnbFEUvdLu2+0f6OA\nMZjudGANiJTE29OR5jua103AeHxmsjxW+hEp8fY/0RgvzvIc4781F/nVASIF3sYvSs8Fkfgw\nxhmhamYdXZF+RcNrabeRzXQj0s0yCLnNwXEVM/3wrfMAnpWASD7Up+eL4P0gEhtOVM9UdE58\n8qtf3bd8+a98FbMSL0c373eZ3pJTJMPykIAKe9iVjStWL/Lzb7odOG5Rm65b+bYIIpX/lUr+\nDdwFItnmtK77pmm+Q5JfVh2FSc/CQ+bCcoo0w33cn/21u1mVjVCTaAHft7GvRRDptPcKKj0f\nxEWOjCpSw85Uslv9PullPvIZFKM6zVxYRpESPVdR6eAyrApv8ybppAr2NQki4XevSPp5M4d6\nMqpIeVZRyWfVP0kvm5MO4+2a98yFZRTpHrpPpXv0rArfRWeoa8EqvW2XtAaIxIeMKlKVkVRy\niX5KRPjXpdWqMZ6jLRSWUaQvuoNUOq8Qu9LdAyaurOd9z74mQSQ+ZFSRVunXvToTUi/l9YXG\nucOWJVooLOc9Uuf8x15v8Z3GrnDcrNJBrW/a2SKIxIeMKhKeokeoCcvF9eUU6X0HFXIaZklx\nMQCR+KBgkeIfWI0dG3P5Fdua5H2OFHX5o5XcLw8SBG4PROKDYkUyTHJH2t7CBDd23Aey77tp\nkOcsYesEkfigWJHmea6J3JmzpyB1Oa5IHfLtj1yuXyVonSASHxQrUpGZVLLb2erV3eHx066w\nqcthRfqgPkGlP5Vlzn2/bNRKHl/JIBIfFCuSngyruY8irRTp5FQ1VLuARV0OK9IV9JpKN2Vi\nzLyeNXvtzLm5hwAEkfigWJFKkYdCv7tbuRPf4HEJ43W6O7brcliRYnQ7qLR/VcbMCs1i8afq\njTlXCiLxQbEibXYac3C293grJXq0Jyk9xMEGDisSHhKw4MAw7V6mrE8aMuBppyfnnnMQiQ+K\nFQlvKKoLmmOta7hbR5LSo+xs4LgixU3JrSu5jTHrg/osle619p3MDIjEB+WKZJPVPrcx3qG9\nbruk44pkjdIdE3Bcw7qcjwOR+JCBRUps4takhmYSi5LpU6R/fQq0DsrM4hYwFSASHzKwSNiw\nZeAICxMnzEmfIuGX0/vMecv9MBCJD+lUpMjwej0uSdaaXSKd7Fpv6HNBT0dkQCQ+pE+RLuor\nDaunZTkB237sEWmlptWQUn73hT0hUQGR+JA+RapKOtxG5ZGqOTtEinX/hbobq9Fe4DMSExCJ\nD+lSJIMb+TK6hl5I1J4dIl1E76h0ebCwJyQqIBIf0qVIOCtZvPFv7aeUHf99W7Ie72VzbGKH\nSJH0VPGZocKeUGr2NijR9l+hKgOR+JA+Repe5AF+XaVOyutLLg3m9naeJ1ZzdohkKNriA/4v\n8GeBz8ic5boec5vp/rFdkBUgEh/Sp0jRVXTBzsWORySPbW5EVqBapY8TqTl7OhuuBrvl0TQT\n5swe//OGabfBh4SW68Y84o47IBIf0qdI2PDXiiVFEPJda3yZnYT7fIMui9SaXd3fMXtWnhPk\nLKKaIqTtzzB0znj5uN1TkFZAJH6kU5EwPuriUnDiDJ3xgWrodEzmFIjV+eAYD2RbFjsfs9dv\nivGFYUWpTJUOGLc/qMlvYXF+gdoBkfiQXkW6qNOtme7fv0F/+tXUgBP4YWWhrm3S4BAifdL8\nRaVzk6LITXf/eWMfbZJJDcpE4n+yWVpMjCsgEh/Sq0itSxXE+JCqewv6VUIPtR6VYzOH7e3B\n/Un3GYnntt1g2Zg9Ir3adyiafWkGYo7vfEL+v4PIz7fDeAGX4E6iyfUvbyzyvArSqzoKdYcI\nIvEhvYpU+EftXRyvyTMu6fWDPf8aWBy22dfZ1Yu+sXpURuWF2rN789kh0nJ3vZP/DtbF03I6\nt9bdiUyrSnBfSaV9K9J779LLlO9IuS26vNvaVGBugEh8SK8i1R3UMNecySgz6yW1aG67TkpI\nnONEFmqoXvkZvhDI7nKIv0jndIsNcaM9eAahpPgQ2PUT3uZEphzN1g9f21V7lN79mf5/dlHe\n9VoBROJDehVpvcvyIfmcM3McwzaffueFTcY4SnWB2lrILm41f5F+qkYlhmAWkwctcMiVLN/S\nhQyJMqwrm7328aT97Qv9/W6b7wze9VoBROJDehUJz3BDqM4TjgeNqU7SJgMxvoXIsX/6szqM\nv0g96RAr5SezLZ+G9VlJOjzN9Lx3bRHSibMAK4jEh3QrEv586SnnY7Z6Psb4hd86jBO9FlGv\n27ObP8pfpGVZojCO1O/ncpJm3CChZmKLjUqb8+qihdgZ9gIi8SH9isSHxBqBP/2cqzwJ1LdC\n+930ui7sBqjxF+lLqeDxozI3YNMPYoHenoMmh+RkHNEgEiASHzKWSDhmarUqE4xjXQ80K9OZ\nxXoNBDt67T78VLnGTKurVNogcWWd8oNYLvYvDCASHzKYSPxwiAeykgEi8QFEYgGIpFxAJAkB\nkZQLiCQhIJJyAZEkBERSLiCSKZe3iTUViSZdixR9aD+3znMQiQ9KEOldHeSJ6tg3xtoq6Vmk\nLX7OLp6ruRwBIvFBCSJ1LnIb3yr8nXgNpGOR7rqNj0+c68RlMU0QiQ8KEMngtZ1Kt3qlDB+4\n3a9Bn5vWj4mZ1azdRtbjDRxNpH2dG41n9QX8fkJxL7JyWfkJHGoHkfjg+CKdX7bZ+gLWn9Rk\n/ZzT6uTFuU45VxtczfmktUNivwkM76bvba2IKSKIdHrpFmuxyq0ySddhYL5gFqt6v8ubt1xm\nHSVR83AO1YNIfHB0kRI7a/L7ZjputUzh4VQyrEjyy1ASgblPCWtHLMj2GuMzmvMsT0JwkeKa\naQt4ZY/gd/BT7TaMPxcZbrvkyCKfd7iv1Dx+FcDlJglE4oOji7TI5yKO65Ptk7UyezWtZ7XW\n7Et6FfP/9s47MIribcBzuZZKGhBSSEgCJCBSQxcDgiA1IEEEQcAQlCog6gdKryJKUZBeFBAR\nAaUrICC9lx+gNAERIRhCD6TcfDt7KVf2tt3cudm8zx+Ty867s3u399zuzk7RkbENDmr5fvC7\np5C00hyRO0FdpAmhv+PM7rGS5wBj2ehHrklHNxGObDoS574c5tm1XF0p3dBBJDkoXaTW72PS\nH5T3Qg0fei2h86H8f3L9NjHpNu9snhX6J5M0fIXInaAuEttB6TY6K2vlPfpMJh2cJBzZgbmi\nezrRo+oYSVeRIJIclC5SIzJcQa6PlIknOtW5hW/XfbVwwfUvxm6yrljYbNiCcyf43hBZInWR\nnidzqT/2EJyc6dHiUV9n2i0MHfAMH/YX0et2YYmDOGtgmYfSdg5EkoPSRRpWlfkirdZz9iMw\nXTnBdcl3J8EYZ6xVOMbdOu/4Rl6vWJ+gRurKlfL/QexOiBTpxtF7IgtMacjszjzvJwJhFyJC\nG5eKsRscaVdIYKw2VUSdo6mPNjaw9K8idyofEEkOShcpIyb23dd007iy/qiLkP9cjozc7fO3\nF3bCvhcwHuM/y9gMb3Bh6Xfih5MUJVJaG4QMH4urUv8ntPKQ9tqFQmGJbTPxoybt7Jbf/2GR\nyAdDpxf9IFbuAkAkOShdJPxgQlLKdq6Mp8+1vHh/rk6wF/dOI7nTth/1QAKiRGpZ88TDH/xE\n1l+kj2qXuk8oKFNPbg03+blkZAbHgEhyULxIDjmgI7+13btbLNo0ePBGu7ht3qRybGRTxyVt\nGzpoPe+mxIh0B5FhicbW5y1IiOPD+y7KmNFn9J/sf4+05AHZz7zVJi4ARJKDYkU6/dM5/oDV\npUk6xmKc4j7GpCRjqm3cv17zmCSGjCSZ+dsWjtlcBxnadfDqbr8cZ/yyw9x+QIxI5hnFlkdw\n7+zZn85wZ1gxX9ukc5Ahsmstz/FHyGko4c1cnN2+mYg1C+B+i5IAkfDu1AbVGvaVNPeBQkW6\n+zLyQ215a23PkcknTI0KP4ftnscwPmb8xTZwkfbFziVrMzf2+8rpvDyn2mb/ZjjAaOttPxrq\nigCjIZitkBAj0hM9Ce3RimtXH7Zm3k0LwZuVNM9FGHfyHJ2TgjQo4Sojp3/lrhVKCrR2smJv\nFPMWnRztDkT6Mrjf3GWz+wZ8LaEchYrUpeolfLZCX96YN8I++7pVYOEQkeZHlC+Nsgs8NaLv\nYuY+6V5o6iPTKr1tTfpk9mqMfV5lxf+M07KzxnlfwiLvkUaXGLOiB/dsX73jz+MLVbhOelZs\n9mVOQ+XaNp/QsJFPAAAceUlEQVRU+ke0v0lDZsmtyalTpfSBuBfah7zFrcKRPIBIsebLh/2V\nJJSjTJFyvLcw6apSPCGm5a89Fxbe0WIcoAnssNj1Etv0OWwbnDGmXcrOLb6k1qFrik3etASS\nNh9hu86UOiStTJ74iBIpd16t0BacFQimIHKy2ujL15DhVN82w1Z6ZeMHwaXLVvj0Crp2Dkkf\ntg9v9iNv8XWry9vsuZ1eXyqlvgJECjZ/XNmBEspRpkgZ6AST7tbzjGPV3S+1X6kmlt/N/XrG\nvmWo4tC2WpsmC3fKxg/ppO0WRV6/19amoGO6HzHeadhpu4GhbLVz05HY6QeyT7Wk9u2YhqfB\n9gbdK0Pr+PpNuBvr51EVdeoZx3wEMiaFXVqOpEMsGz3kNi/Zr0+JzhIKAZHqsZOomqYkSihH\nmSLhGDLp6uCajgN2G5nT79/BFo0xH6SP0dZK0MQyvyaf+1tXdA1MYIxcbiDDfWdWtpvOdbK2\nZm3th3ZbWF4yDeMbJcgUz862bHieXDd+zDcRGJlk1tSxuneQj6e/fwkUfAQv9pYxGt4pDfMD\nlFlpnMWiVQHXmftJz5+5VzDdtK8SBJGORoQ3a9s0LPZ/EspRqEjrtW98lqyzO0sUMpW98Co8\n5ucSEaq6ZOrU8KWYVEVb15HVJTUMWYZWgR9MqVbOvvvB6U8/4aigyapXbtyYiCbkLO+sSD9r\nO33WRWtfM1/ADXSRSdcHXKvQZGv2mr6o6rS3DV9I24aZt8hbjLas1jCfnhqN4wyfFoCMg2zb\nVxQvkTSla7E0sJyPIWvbzEmzdkhqU6xQkfDe5Fqd+boZzI0n6Sv5fQnuRbc5fLK3/5+4Kjkr\nm2cPKqQZGTr7nseRuS/XHSp+HphHYxolTmJbujnd1u7wa7U67efJv6chPTqWReJ2QzBpv94y\noS2PdjzkfNWsnvVbNFfBVOOc8X2u74Lf10baVukUM5EaTGGZZjmS+poJbDPILhLKUapIQlz0\nnGXCP+j25P37XSnmG2+qMREPj7qIH75a1Tp4eslT+GlKlOyRg13fQ7ZRiwx8Lb4fnhdwBD/r\nH8rba0QaB3SrMP7KwPlQrhqZkHaz4an10uIlEtel3ccl25Yi98ZGCeUUVZHwMp8yUfop5FXW\nufPZk9hJIN/shZ+20lX0i7Hpn5D7hrZ8QJhgW2uHOCvSs9MXBS4TrsT7xOkbP8SmFG35wJBd\n0orn5zND2TDvRZxZfhtw/mWlBSBS+EV8O2FGMREJ//3t0svk7/ZyCEWPDWTuC7IrkXuhffM3\n2PU8wMcWrJXYmcASJ0VaHYJQFYHeuFmb5+1mG7yeXLhGcjNTfq58vcLB7LoJZMLC771s6htA\npEDmSNyO3VZMRMrjaol3b/0z0D++/vqtbUpUC23O3wVQHs6JdNwwMf1ql7KU9ZBF+qAKMb3/\nKfh3tWHMrtnBtnMvgUgNSF+vk+EblSnS1bHvzJA93odjZlZmfj5M8eM7l/Aq7ztmRS+9YKNq\n6Tgn0gcvM8mzwHXWS7OX9Bt+wsn9ksqz2lXmLUyILzwKK+I9IqbYVoCDSAcCyKXwsRgpcrhN\npF+8anWJjHK2QaU9w9qQtNX7GD82fM+8eqs59U04KVKXt0la1breLLNuydcStfOd3DGJrAn8\nl0zvPM9iEce9G4iE77EVn0++l1COu0QyhX/AfHsaCrY3k8zSkPsYZ5T+BuNT6C7On3SVLs6J\nNLHSM4yvG3+1WjihHHOsFnq6bAYxzg6G5qrw5AH8q8oXqQeS1GAa440xutbS1hBNCtkXETtU\n1LpRmB/tLI2is7kCTHOikbHbgmrVMpkbAEQePE2oQ3kT2FmR/o1IXDI7tpl1c7dXhuP8cVro\nk9E32NCQ47nVgmiyEzU/4V9bvkjTWlzgy/4HPWe94GmgceR3jqI/L6yeWYdQfofJCwhxzKdr\nHc7CimTeIdssK4qaSNfQFSZdWJ7O5gqY5TttXT1Nyb7sL3vrGscfri3xJeVNYKdr7a52i4r7\n0Gbm5DbDMGmbK3+WZh5yW1T69pdePvaPjm4Gv30z7QOfixzrWOCySzs7kS4i+270+TzwKBzd\nZR3S5rcWG67lFskynCWl4GRkl2VFURMJV0jJxulV36GzuQIiiDYzI83/sKMmfMRc1Nz7YbGU\nwa4FcUKkB2sXc1YpfB5yGeNJ/ned2i8HHNeQ5i7NOAaS3VMeoQihEZncJ9IZ9IbD4J3IUqR6\nyPwp5oTX4BbJMpylUCS7LCuKnEiHgss2DqhOuQ74IXs1dwTl10P9fYRsYFdIYIyoUXbEIl+k\nvaEBsdqeHJ0Yslt7Nor3XuPsnnGyMoyko17iyMo+f0ZwrEhBkXJmJwR5xfS/hcPLkn+7o8FM\nmhtYxXxLUpBr8cqMWaRUdG1yBc+yqXdxa8TQEONjHUJ0fi9utMpLInlf5a24Do3T9GdfbUYj\nWJFuDYw2lGhA2lWmoIuv+Y7MDy8squAeyZz1Yl7zy5pam94pRU4knD5v1Grqow+UJp/lYuuN\nPyozMAsfKiFi3DexyBbpSfjbz/CxwNlceVvGzrrKtdx5DmrJlW4Hu073IhEUaRBqPXfJIGOF\nZ28h8kg83I8MD30UvW8WqSDX4pUZs0j9UcsOO44NQUn4wEyUuG4PPuvnP3Lx5GjNBsu8g6mo\n/7o/81Zch+Y2CWCfsicH7iIipUXp+y2aXhuNwLgv6lZn4ra8cIuiCkQyZ61kbWdusWx70RQ9\nkShwf8QLTT+3+kUdVWrlhRUlx1pF7WYbj4kZiVQsskU6oCWt5j5oSW9XxJBdp/5v5z7WvVin\nx+9yVhcUKSiGnO2XNz/zHVqM8Xk0QJOO8VS00yxSQa7FKzNmkd5FpEuyKUaXmXdpt6zeaiY9\njZpa5X1hdWn31TdoOfMi3dD/ABGpP1v5kFnB4ypjazXyGZvDLYoqrLVjs56WLEm+OGPRjzZv\npjiK9KRK3MQRpTtYLsoe4Y28P7Z+GPJTCbFjY4tFtkhb2RGMJjaktyui+KutBwrWpk59xUvO\nRIaCIoX4Xja/SNf2YL6nuvNoLcav+GaZv7cFuRavzOSLxI5F2BZdtbhHys58oou1yrMRKTOA\nHM+Z6BgrUhlP9vw0Fn3JrMJWQhaG5xVlIxIehsh1dKUythdFxVGkL8reZ07OBusmnTk3bJ8p\n/m2erWE4vQ3LFilNz/xCZlZ7j96uiOTxDT/ylews5ymNoEjzNcZ2M9k6wXrlMG5fH5cbiLN9\nk/K+t4W5ha/M5IvEdjLsiC7mi7SqaSC5j4myyrMRCffTXMK4enVMRMpAldnlq9EgZhV2KLW8\n8MKibEW6oGlJhnqym8OjOIrUqwdJa34uFDdJ33VwbHmK9RryKxum6V4fUqGctDlcqXAekXt8\nWYdFuNZuf9dghJ7fypz20dXcgBG4ZxW8l5xLzM8/C3ItXrHki/Qr+adQpImo/Jc7DhwwRFnl\n2Yp0grkhOoFmsSL9hWqzyzeilPxVzOEWRdmKhF/S3sAfIrsHXcVRpA9bMIkp4hvBwK092k14\nIBglHieqv3/p1Xbcf9Fc9V9EHgDMqCoYaI+Y6u/cwyN8PY7h/WjZIfQLXqJJG8dcjRU0JMjL\ntXqFHYmU7e9LKtIee0TxioRrhuUMNKbnnZHM4/usQkOsRLIsyk6k79BkU2Si3TspjiId0C3I\nzRwW8I9wpA1P5vQbe1k4zCFKm/pSDI1f/BsfLjNWODCPrIUDRpq7cYl8jvQtGolzAt+abHiM\nr6DvXyJfbYsWOSTX9hW3SP+geuT/TeZLu4I8O5HmoJ2lOmNWJBxqYLs+fozmW4lkWZSdSFml\nn9+J7H+Ei6xImfu2ih+93oa5Pp76MtIHbbtTPuK1BE8pM8PY8J+LdHXjUakDgP9VB/lp3hT9\nvOFh9dLJDfTs6EtCIh2J+Iz8WYXGYdwprnkj5nXZVO+h2Py9Lcy1iMs6QW6VHJyRdBHMXW5a\nDa8Qq7yvENmseUVWpHtejckdFCvSu4g0AX4YabydvwobbllUoUjmkpgLGpQYYD//R1EVaV+0\n1tOTc3IJMdzZulNGT4zU2szv10el5c2PR/iPRcrt6+GDEv6UutbRHy+Jjx4el4HxdD9yQSwk\nUk6Cxxsz5w3zJ2NzLtR4kwE5u/kiMsAt+d4W5lrE/YViscN7pC6o08ppZT99AX161iJvG4r7\nbEPeiqxIuDuKzM0TKT1WN2jptKpEp7xVzOEWRRWKZM7C+LIGcTT2KKIi3Qvr/TB3pZNDgUol\nnlRgpaGzBxoZS/YTMYexHf+xSNOCfsM3m9YTCruU5Fuio9xnvC9MZJKnBjJZr+Cl3cPhlfy8\n494imv6F2O/xAuRNnt2x39vC3MJXvCJlpIT61FqOfw7zXmCRZ+rh4zfOSqTdiDjLioTTBkTp\n/V/aUFicOdyiqEKRzFkMiYij9aoyRbo0uN1g3puRzexop6/3prFNZmNDODaWMbZ96h6rJVVI\ng7ybaItPr59XxreQ0XTIgUi7ercfzzPoIzXqky/5BZuRkSw40CdpVDrOiGr2TsOQUJk96huT\n4f6e6EivSLX2R3pUshHHUkWKtN/zxSEveHIOf52HeSjQobbtNOSwz5jIbOyQ7eK0snGDX9Va\nTVM0qPIdnNMvagCZ1uFPjdipzC3gFmmGLvldt1Rtx5D+mg8ddq1ZrE0aUjn05tzIBiH9umm4\nWtiJYFzkX9j0cTC5h1erSEMR122yIkWqQRp3pybwxJ3SnGSuIOxHO5VB9Z7Mya13bdvF/Ws/\nw3iJp2Xt94Na/k3KBe5tSob6wOHLpW+KU6R0A3Nrnll9sPTipNKxPZOsMDqYKDPTh/nVyH6h\n17s1Qm5hXNfDbuDzfG7zNVd92sQnsaIv2z1KlSJdmd8JdePKUKJIT7SkM9lenf0gPoX0CBr+\naY0oCr0HFiGk73H3N7uNJZCajKd6q4u7nO9HfpWGU0njojQt3wnTAZwibfckVWKTBW9dnOec\nT/Pp/R3W0BzRkKu5OZVm+jNflKzICAdf+6/DkL4Xzw2i6afRX5gnp1alSD9qAj/g/CFRokjm\nfmpbeGddyP7ypYRBFDpYb9bpF26unMTOhGJF49FMkqHh6AR0SD/y970Nagt2I7CHU6RDHuQL\nPMIFQ0TY8cebNVo6nDn6d0QerH1S92+vsqdOvBYWuYQzaqN+6rlNlTpw5tmgSpEcokSRcPsG\nd3BavY50iuSnbd+kBndOohrJthlTS58lo6py6bI+CmnaOhjijRdOkTIj3nmGTwXPkFEeVXIr\ndHuC/wgfi2dpEKoz1Ju73q416c9zHP0tokAQSQ5URbpVzauyVw3Zz1ulUGnOP8zGUAW7k1tO\nJ218YKiDUVX/kTceGHdlw28hgfHarm6eKZmDYxH+lXTtmF+OUdroUN+V3EFx5BFAtsduEeWB\nSHKgW/2ds/XLbfKfe0qhfU+cs2UYusGRdXDuGpoN7bDD6u973891eGfvTh798JV5ML/fF6xw\ndMpp9xaT7EdifuRAJDkUpbZ2luzRDdvzdRT90b04+c+bCDnPLt0He5ZF9hATCiLJoaiKhDdW\n1QYPc8HIrVyoQCS84Xlt8PuiZrkAkeRQZEXCWEb1m0zUIJL4zwtEkkMRFsl9qEMksYBIcgCR\nRAAiqRcQyY2ASOoFRHIjIJJ6AZHcCIikXkAkNwIiqZdiINKffeq1W0+/WBkoR6RLKfXau2Yq\nmEJAJDkoV6RLJRpPfscoe3gHmihGpHM+zSan6jmHEqcHiCQH5YrU9RUTxisN3I0XMk65c7A4\nxYjUgXTxW+T9jCsv/RSlFoYgkhyUKxI7ZMkTD6523JmpHkjbl/Pr5BIUI1LUMibJQCftcx50\n0yD9e1SaooNIclCuSC+QkV+uIa4hpd6N3J6xLewD6pt0hGJEqvUpJj35OJp496j4292fgifT\n2AiIJAflivR50H78b6vq+YP+PJ7df2LeODqmQDJ5xzelqW/SmnVD/8/cO0E5Ik0sfRjfbmbf\nu/3JLG2va8x+xkkrzrR26PB9dktBJDkoV6TcPpoA7fN/5P13K7pscjWfX9nX99nxyQ5qHIwG\nQgdTR++kZlrzkL+KESmnpybAo8YV28VpsaGosvd2vMVL0lhjpg4+zFscb7sYRJKDckXC+PK6\n/QVD7nZv8ASbBkeavyiRpC5vEu2Jna1Z4f8HGRmCnSRLMSJhfGHdQfuek73qPvJfMCzC9L7d\nmEq8fBNwAeONurM2i0EkOShZJEvKkdvsq8j8Y7zE+OGaYYYVLt3g211IWokdIE9BInFSfhGe\n7jMYvamT9ogplZ2diO2EbgmIJIeiIlLMYia5gq6Z//uuTql6DofVoYNZlrj5JFW6SBXnY9OS\n51HCFmmrvfM6SSsstFkMIsmhqIjUu2YGzu5dwcVbsWCNz3GMV+nZWViVLtI71e7inLdjpK62\n2vcExiv1tnNvgUhyKCoi3a0S/HJ0kIzBHWXzlj4xQTudfal0kTKqBjWLCdwveb2e+sa1dDNt\nl4JIcigqIuGsFR/N/tfVG7Hi13FT8ubjVrpIOGvlR7PljLq5c9wnZ+wWgkhyKDIi/ZcoXiSq\ngEhyAJFEACKpFxDJjYBI6gVEciMgknoBkdwIiKReiodI92cMmEphDhhnUZ5I+4a/96OrygaR\n5KBokS6HRifHBR53RdGSUJxIo7Uvt/HqLGM2XDGASDsxNs1t1V7S3I6KFqlVq2c4p3tNVxQt\nCaWJdFK3DeNzfqtcUzqIZMR4SvjoESFfSihHySLlliCNMI96yJ85/OF7YV6NpD/xt0VpIn1Z\nhaS2X3hZnG/jF9zjltUiEIkRKe4083sVL6EcJYtk8v+JSQ97yJzxnqFDzNLNvbz+5+yOKE2k\nOZVImkzh6v52mdY/ra5Vy6rXPojEiBRJ/vpLKEfJIuGklx7hZ8n1Za9/Hp1j0lYpzu6H0kQ6\nq1vDnKm91zlf0pTK2Rin+22wXAYiGa7d77wH4x2VJZSjaJFuRIe0iChj2/FMPGuDSDqpgbP7\noTSR8KfaOo31qRQK6tGTpHWmWi4Dkfw1CPXEh72XSShH0SLhJ4uHz5N/h4RPaG4y6RvdnN0N\nxYmET04eu4tGOWPqMklm8BrLZcVLJE3ZZiwtrlkszL17+Tq+fUhKOcoWyUlyGtTbd3myzumv\nnPJEosUF3wF/nGgXbfVjVbxE8m7xIcsojh/sDhLKUbVI+EZbhEK/dboY9YqEd1REqIF1bUzx\nEqkMz9fDKKEcdYuE8YPrFB5bqlgkjG+m2ywAkcbnoZNQjtpFooKqRbIDRPJPTGLxkFAOiCQC\nEEm9cIm0JNn8Fy7tKAMiqRfOe6SBh9k/IBJlQCT1wlfZIAUQSQQgknoBkdwIiKReQCQ3AiKp\nFxDJjYBI6gVEciMgknoBkdwIiKReQCQ3AiKpFxDJjYBI6gVEciMgknoBkdwIiKReQCQ3AiKp\nFxDJjYBI6gVEciMgknoBkdwIiKReQCQ3AiKpFxDJjYBI6gVEciMgknoBkdwIiKReQCQ3AiKp\nFxDJjYBI6gVEciMgknoBkdwIiKReQCQ3AiKpFxDJjYBI6gVEciMgknoBkdwIiKReQCQ3AiKp\nFxDJjYBI6gVEciMgknoBkdwIiKReQCQ3AiKpFxDJjYBI6gVEciMgknoBkdwIiKReQCQ3AiKp\nFxDJjYBI6gVEciMgknoBkdwIiKReQCQ3AiKpFxDJjYBI6gVEciMgknoBkdwIiKReQCQ3AiKp\nF1WL9IBmYRSQLdKjHOr74npAJDkoT6Sc8UGo1GcmauVRQKZIGyshz17pLtgf1wIiyUF5Io0J\nXnx8jt9MauVRQJ5I+/XDj2x4roWifhLEACLJQXkiBX3NJDNjqJVHAXkide/MJBfRORfskEsB\nkeSgOJHuoDNMulfzjFaBFJAnUt1PSBqwnv7+uBYQSQ6KEwkHLWOSGWo4I5Goi+i8C3bIpYBI\nclCeSOOC5h/9wk9RB0+eSAf17x9aX7kl3CMpGvWKlDOxJCozXVFfP5m1dpueQ94pd12wP64F\nRJKD8kRieEizMArIfo70OJf6vrgeEEkOihRJaUDLBvUCIrkREEm9gEhuBERSLwoTabVHoAP8\nkEYYETGUihEVo7N5D97VrN/tAIOjd6sGDAOs3201b6eKE/F5O3/E+Avw4dk9j9V0DKAk0qM1\nqx3wsWaIIHWihGPKvCAY0h91FYxpZxTeVPXqtm/imPW7ve7ozaqD69bv9phzpXl0FP7EedG3\nd7IAz8E8u7fmER0DKInkmB0ewjEjmgvH1J0iGPIAHRWMWRcgvKkBycIxgFh0vzhZgM9GJwsI\nXOtkAWIAkewBkWgCItEBRCrmgEh0AJGKOSASHUCkYg6IRAcQqZgDItFhj0E4ZlQr4ZiGnwmG\nPNacEozZWFJ4U4NfF44BxOK5y8kC/Lc5WUCpDU4WIAaXi5R7Vjjm3nXhmD9FtGQ9I9xmPFtE\n96B/bwrHAGI562zD3XPOjiBzPtvJAsTgcpEAoDgAIgEABUAkAKAAiAQAFACRAIACIBIAUABE\nAgAKgEgAQAEQCQAoACIBAAVcK1JmfEeMj9UPjp3jKKKEwWg07uSPedA9MHhADm/MWqYUoy6Z\nN2Z33bhKUwR2Z2/9oOhvBWIA0Sz1H48LjrEMDjUMDB/tzOHIK0D+HojGtSK9G90RZ5Wdnns6\neA93QK7mGvnDG4O7vf7o1kvb+WNIWfXX88U89N+E08K/5y3m34Alpl1e/xPcFCCKgcmJ4wuO\nsQzuB801nQ/+Qf7hyCtA/h6Ix6Ui7awyrSPeFs68GpzKHXEX3Sd/eGMyDDcFYwgz2vPGnPEw\nYZw0mreYDdFM8upHgpsCRHEYJ40vOMYyuLOISdpOkH848gqQvwficaVI92OPftERz2zGvPyq\nAXfIZdQ1qvJUE2/M7rBP4iqOyeWNYcgodYl3W1mxX+Or4ft5i9lQjkl6JwttChALESnvGMss\nIa3UAecOB1OAc3sgDleK1HMUZkSa1JZ5uawad8j1nrtMx8Pm8cas103JvVRuLm8Mw0dvY/5t\n7QkM9viIP+RuwIKcg6FthDYFiIWIlHeM5RWQVnck/yETU4BTeyASF4r0Y80sItKspszr2Q15\nAke34o3Zpc/BeEySQDk5IUcw77auBO9mPtXP+YvZXSekU5/uwrsMiIOIxDJaRN9NDk7GTuM/\nqqIKcGYPxOJCkTqHRkUFeVfeEcacU/v25Y65fZhJRrTnjflLc5f5GDryxmC8vSyT8MUsqcEk\nk1oIFMPw8gzhGEAcRKS8Yyxn9WNhmzD/URVVgBN7IBoXP0dizkjZsdNyDgcc4c4/6L0bny6z\nnDcGt3on63rMUv4YPKUlk/DFHPE6hR8n/h9vMY+jd+Z+G5gmsClANESkvGMsY+0nMexwDfIP\nR14B8vdAPK4XCZ95IaDiMkcBSyv6V5ghEHM3yT9ytIk/BvdLISlfzMLnypfv+5i/mO+ifWvs\nF9gdQCxGo4fO2CH/GEvne0QeD3aRfzjyC5C9B+KBlg0AQAEQCQAoACIBAAVAJACgAIgEABQA\nkQCAAiASAFAARAIACoBIAEABEAkAKAAiAQAFQCQAoACIBAAUAJEAgAIgEgBQAEQCAAqASABA\nARAJACgAIgEABUAkAKAAiAQAFACRAIACIBIAUABEAgAKgEgAQAEQCQAoACIBAAVAJACgAIgE\nABQAkQCAAiASAFAARAIACoBIAEABEAkAKAAiAQAFQCQAoACIBAAUAJEAgAIgEgBQAEQCAAqA\nSABAARAJACgAIgEABf4fEjzhl+WMyvEAAAAASUVORK5CYII=",
      "text/plain": [
       "plot without title"
      ]
     },
     "metadata": {},
     "output_type": "display_data"
    }
   ],
   "source": [
    "#crear data frame\n",
    "swiss2<-data.frame(swiss$Fertility,swiss$Agriculture,swiss$Infant.Mortality)\n",
    "str(swiss2)\n",
    "plot(swiss2)"
   ]
  },
  {
   "cell_type": "markdown",
   "metadata": {
    "button": false,
    "new_sheet": false,
    "run_control": {
     "read_only": false
    }
   },
   "source": [
    "## Funciones en R\n",
    "* Las funciones permiten realizar operaciones sobre objetos de una manera estructurada. La forma básica de definir una función (por ejemplo, llamada *function.name*) en R es la siguiente:\n",
    "\n",
    "```{r}\n",
    "function.name <- function(arg1, arg2, ..., argN) {\n",
    "# statements\n",
    "}\n",
    "```\n",
    " \n",
    "*arg1, ..., argN* son las variables y/o argumentos de entrada que necesita la función\n",
    "    \n",
    "    \n",
    "* La forma de llamar a esta función sería tal que así:\n",
    "\n",
    "```{r}\n",
    "res <- function.name(arg1, arg2, ..., argN)\n",
    "```\n",
    "     \n",
    "*res* es la variable de salida que devuelve la función como resultado de las operaciones hechas sobre las variables de entrada."
   ]
  },
  {
   "cell_type": "code",
   "execution_count": null,
   "metadata": {},
   "outputs": [],
   "source": [
    "# Es posible definir una función sin ninguna variable de entrada (aunque no tiene mucho sentido)\n",
    "# Función \"sin función\"\n",
    "hello <- function() {\n",
    " print(\"Hello world\")\n",
    "}\n",
    "hello()"
   ]
  },
  {
   "cell_type": "code",
   "execution_count": null,
   "metadata": {},
   "outputs": [],
   "source": [
    "# Ejemplo de función con dos variables de entrada\n",
    "# Calcula la suma de dos números\n",
    "fun.sum <- function(x, y) {\n",
    " return(x + y)\n",
    "}\n",
    "fun.sum(5, 7)"
   ]
  },
  {
   "cell_type": "code",
   "execution_count": null,
   "metadata": {},
   "outputs": [],
   "source": [
    "# Cálculo del máximo y el mínimo de un vector\n",
    "max.min <- function(x) {\n",
    " return(c(min(x), max(x)))\n",
    "}\n",
    "vec <- 1:100\n",
    "max.min(vec)"
   ]
  },
  {
   "cell_type": "markdown",
   "metadata": {},
   "source": [
    "### Ejercicio\n",
    "Construye una función llamada *IMC* que calcule el *Indice de Masa Corporal* a partir del peso (en kg) y la altura (en m). \n",
    "IMC = peso/altura^2."
   ]
  },
  {
   "cell_type": "code",
   "execution_count": 76,
   "metadata": {},
   "outputs": [
    {
     "data": {
      "text/html": [
       "<ol class=list-inline>\n",
       "\t<li>21.484375</li>\n",
       "\t<li>21.0498179023689</li>\n",
       "\t<li>26.3328887520947</li>\n",
       "\t<li>26.7755102040816</li>\n",
       "\t<li>24.4351866688031</li>\n",
       "\t<li>25.3515413737155</li>\n",
       "\t<li>28.0821708739049</li>\n",
       "</ol>\n"
      ],
      "text/latex": [
       "\\begin{enumerate*}\n",
       "\\item 21.484375\n",
       "\\item 21.0498179023689\n",
       "\\item 26.3328887520947\n",
       "\\item 26.7755102040816\n",
       "\\item 24.4351866688031\n",
       "\\item 25.3515413737155\n",
       "\\item 28.0821708739049\n",
       "\\end{enumerate*}\n"
      ],
      "text/markdown": [
       "1. 21.484375\n",
       "2. 21.0498179023689\n",
       "3. 26.3328887520947\n",
       "4. 26.7755102040816\n",
       "5. 24.4351866688031\n",
       "6. 25.3515413737155\n",
       "7. 28.0821708739049\n",
       "\n",
       "\n"
      ],
      "text/plain": [
       "[1] 21.48437 21.04982 26.33289 26.77551 24.43519 25.35154 28.08217"
      ]
     },
     "metadata": {},
     "output_type": "display_data"
    }
   ],
   "source": [
    "peso = c(55, 63, 77, 82, 61, 75, 92)\n",
    "altura = c(1.60, 1.73, 1.71, 1.75, 1.58, 1.72, 1.81)\n",
    "# crea la función IMC"
   ]
  },
  {
   "cell_type": "markdown",
   "metadata": {},
   "source": [
    "* Hay variables de entrada que son obligatorias y otras que son opcionales. Por ejemplo, la función *log* tiene una variable de entrada obligatoria (el número del cual se desea calcular el logaritmo) y otra opcional (si no se especifica lo contrario, se calcular el logaritmo natural, es decir, en base *e*)."
   ]
  },
  {
   "cell_type": "code",
   "execution_count": null,
   "metadata": {},
   "outputs": [],
   "source": [
    "log(exp(1))\n",
    "log(exp(1), base = 2)"
   ]
  },
  {
   "cell_type": "code",
   "execution_count": 77,
   "metadata": {},
   "outputs": [
    {
     "data": {
      "text/html": [
       "<ol class=list-inline>\n",
       "\t<li>10</li>\n",
       "\t<li>2</li>\n",
       "</ol>\n"
      ],
      "text/latex": [
       "\\begin{enumerate*}\n",
       "\\item 10\n",
       "\\item 2\n",
       "\\end{enumerate*}\n"
      ],
      "text/markdown": [
       "1. 10\n",
       "2. 2\n",
       "\n",
       "\n"
      ],
      "text/plain": [
       "[1] 10  2"
      ]
     },
     "metadata": {},
     "output_type": "display_data"
    },
    {
     "data": {
      "text/html": [
       "100"
      ],
      "text/latex": [
       "100"
      ],
      "text/markdown": [
       "100"
      ],
      "text/plain": [
       "[1] 100"
      ]
     },
     "metadata": {},
     "output_type": "display_data"
    },
    {
     "data": {
      "text/html": [
       "5"
      ],
      "text/latex": [
       "5"
      ],
      "text/markdown": [
       "5"
      ],
      "text/plain": [
       "[1] 5"
      ]
     },
     "metadata": {},
     "output_type": "display_data"
    }
   ],
   "source": [
    "# Esta función, por ejemplo, admite un argumento de entrada opcional (\"operator\"), que puede tomar los valores \"power\" o \"divide\".\n",
    "# Función para realizar operaciones (elevar al cuadrado o dividir) sobre dos números\n",
    "operate.2num = function(x, y, operator = NULL) {\n",
    "    if (is.null(operator)) {\n",
    "        return(c(x, y))\n",
    "    } else if (operator == \"power\") {\n",
    "        return(x^y)\n",
    "    } else if (operator == \"divide\") {\n",
    "        return(x/y)\n",
    "    }\n",
    "}\n",
    "operate.2num(10, 2)\n",
    "operate.2num(10, 2, \"power\")\n",
    "operate.2num(10, 2, \"divide\")"
   ]
  },
  {
   "cell_type": "markdown",
   "metadata": {},
   "source": [
    "### Ejercicio\n",
    "Modifica la función anterior (*operate.2num*) para que:\n",
    "1. permita también calcular el logaritmo de \"x\" en base \"y\"\n",
    "2. en el caso de la operación \"power\" sea el mayor de los dos números el que se eleve al menor"
   ]
  },
  {
   "cell_type": "code",
   "execution_count": null,
   "metadata": {},
   "outputs": [],
   "source": [
    "# Modificación de la función \"operate.2num\""
   ]
  },
  {
   "cell_type": "markdown",
   "metadata": {},
   "source": [
    "* La ayuda de una función en R se puede obtener mediante los comandos `?` y `help()`, y se estructura en varias secciones:\n",
    "   +  **Description**: breve descripción de lo que hace la función.  \n",
    "   +  **Usage**: sintaxis de la función.\n",
    "   +  **Arguments**: explicación de los argumentos que recibe la función.\n",
    "   +  **Value**: explicación del objeto que devuelve la función. El objeto devuelto puede ser un valor, una lista, una matriz, …\n",
    "   +  **References**: bibliografía relacionada con los métodos implementados en la función.\n",
    "   +  **See Also**: funciones relacionadas.\n",
    "   +  **Examples**: esta es sin duda la sección más importante ya que muestra ejemplos efectivos del uso de la función."
   ]
  },
  {
   "cell_type": "code",
   "execution_count": null,
   "metadata": {},
   "outputs": [],
   "source": [
    "?mean()\n",
    "help(mean)"
   ]
  },
  {
   "cell_type": "markdown",
   "metadata": {},
   "source": [
    "* Si queremos utilizar una función que no recordamos (o no conocemos), pero de la que sabemos (o sospechamos) que su nombre contiene el término *mean*, podemos utilizar *apropos(\"mean\")*, que nos devuelve un listado de funciones que contienen dicho témino en su nombre."
   ]
  },
  {
   "cell_type": "code",
   "execution_count": 78,
   "metadata": {},
   "outputs": [
    {
     "data": {
      "text/html": [
       "<ol class=list-inline>\n",
       "\t<li>'colMeans'</li>\n",
       "\t<li>'.colMeans'</li>\n",
       "\t<li>'kmeans'</li>\n",
       "\t<li>'mean'</li>\n",
       "\t<li>'mean.Date'</li>\n",
       "\t<li>'mean.default'</li>\n",
       "\t<li>'mean.difftime'</li>\n",
       "\t<li>'mean.POSIXct'</li>\n",
       "\t<li>'mean.POSIXlt'</li>\n",
       "\t<li>'rowMeans'</li>\n",
       "\t<li>'.rowMeans'</li>\n",
       "\t<li>'weighted.mean'</li>\n",
       "</ol>\n"
      ],
      "text/latex": [
       "\\begin{enumerate*}\n",
       "\\item 'colMeans'\n",
       "\\item '.colMeans'\n",
       "\\item 'kmeans'\n",
       "\\item 'mean'\n",
       "\\item 'mean.Date'\n",
       "\\item 'mean.default'\n",
       "\\item 'mean.difftime'\n",
       "\\item 'mean.POSIXct'\n",
       "\\item 'mean.POSIXlt'\n",
       "\\item 'rowMeans'\n",
       "\\item '.rowMeans'\n",
       "\\item 'weighted.mean'\n",
       "\\end{enumerate*}\n"
      ],
      "text/markdown": [
       "1. 'colMeans'\n",
       "2. '.colMeans'\n",
       "3. 'kmeans'\n",
       "4. 'mean'\n",
       "5. 'mean.Date'\n",
       "6. 'mean.default'\n",
       "7. 'mean.difftime'\n",
       "8. 'mean.POSIXct'\n",
       "9. 'mean.POSIXlt'\n",
       "10. 'rowMeans'\n",
       "11. '.rowMeans'\n",
       "12. 'weighted.mean'\n",
       "\n",
       "\n"
      ],
      "text/plain": [
       " [1] \"colMeans\"      \".colMeans\"     \"kmeans\"        \"mean\"         \n",
       " [5] \"mean.Date\"     \"mean.default\"  \"mean.difftime\" \"mean.POSIXct\" \n",
       " [9] \"mean.POSIXlt\"  \"rowMeans\"      \".rowMeans\"     \"weighted.mean\""
      ]
     },
     "metadata": {},
     "output_type": "display_data"
    }
   ],
   "source": [
    "apropos(\"mean\")"
   ]
  },
  {
   "cell_type": "markdown",
   "metadata": {
    "button": false,
    "new_sheet": false,
    "run_control": {
     "read_only": false
    }
   },
   "source": [
    "## Librerías en R\n",
    "\n",
    "* La instalación básica de R viene equipada con múltiples funciones para análisis estadístico, importación de datos, gráficos, etc. Sin embargo, puede ocurrir que necesitemos llevar a cabo un análisis muy específico para el cual no encontremos las funciones adecuadas. En ese caso, la gran ventaja de R radica en que, en la práctica, casi siempre será posible encontrar un paquete (ó librería) que ya haya sido diseñado para el fin que perseguimos.\n",
    "* Un paquete es una colección de funciones y/o datos con un propósito concreto (normalmente bastante específico) que se almacenan en una carpeta conforme a una estructura bien definida, fácilmente entendible por R.\n",
    "* En la web de R se puede consultar la lista de paquetes disponibles (actualmente, más de 13000): https://cran.r-project.org/web/packages/. En la sección Task Views (https://cran.r-project.org/web/views/) se puede consultar una lista de paquetes ordenada según áreas de aplicación.\n",
    "* El comando *library()* abre una ventana con información sobre los paquetes instalados en R. "
   ]
  },
  {
   "cell_type": "code",
   "execution_count": 79,
   "metadata": {},
   "outputs": [
    {
     "name": "stderr",
     "output_type": "stream",
     "text": [
      "Warning message in library():\n",
      "“libraries ‘/usr/local/lib/R/site-library’, ‘/usr/lib/R/site-library’ contain no packages”"
     ]
    },
    {
     "data": {},
     "metadata": {},
     "output_type": "display_data"
    }
   ],
   "source": [
    "library()"
   ]
  },
  {
   "cell_type": "markdown",
   "metadata": {},
   "source": [
    "* Podemos ver un listado completo de los paquetes actualmente cargados en memoria con el comando `search()`. "
   ]
  },
  {
   "cell_type": "code",
   "execution_count": 80,
   "metadata": {},
   "outputs": [
    {
     "data": {
      "text/html": [
       "<ol class=list-inline>\n",
       "\t<li>'.GlobalEnv'</li>\n",
       "\t<li>'jupyter:irkernel'</li>\n",
       "\t<li>'package:stats'</li>\n",
       "\t<li>'package:graphics'</li>\n",
       "\t<li>'package:grDevices'</li>\n",
       "\t<li>'package:utils'</li>\n",
       "\t<li>'package:datasets'</li>\n",
       "\t<li>'package:methods'</li>\n",
       "\t<li>'Autoloads'</li>\n",
       "\t<li>'package:base'</li>\n",
       "</ol>\n"
      ],
      "text/latex": [
       "\\begin{enumerate*}\n",
       "\\item '.GlobalEnv'\n",
       "\\item 'jupyter:irkernel'\n",
       "\\item 'package:stats'\n",
       "\\item 'package:graphics'\n",
       "\\item 'package:grDevices'\n",
       "\\item 'package:utils'\n",
       "\\item 'package:datasets'\n",
       "\\item 'package:methods'\n",
       "\\item 'Autoloads'\n",
       "\\item 'package:base'\n",
       "\\end{enumerate*}\n"
      ],
      "text/markdown": [
       "1. '.GlobalEnv'\n",
       "2. 'jupyter:irkernel'\n",
       "3. 'package:stats'\n",
       "4. 'package:graphics'\n",
       "5. 'package:grDevices'\n",
       "6. 'package:utils'\n",
       "7. 'package:datasets'\n",
       "8. 'package:methods'\n",
       "9. 'Autoloads'\n",
       "10. 'package:base'\n",
       "\n",
       "\n"
      ],
      "text/plain": [
       " [1] \".GlobalEnv\"        \"jupyter:irkernel\"  \"package:stats\"    \n",
       " [4] \"package:graphics\"  \"package:grDevices\" \"package:utils\"    \n",
       " [7] \"package:datasets\"  \"package:methods\"   \"Autoloads\"        \n",
       "[10] \"package:base\"     "
      ]
     },
     "metadata": {},
     "output_type": "display_data"
    }
   ],
   "source": [
    "search()"
   ]
  },
  {
   "cell_type": "markdown",
   "metadata": {},
   "source": [
    "* Para poder usar un paquete es necesario instalarlo y después cargarlo en memoria (comando `library`).\n",
    "  \n",
    " + Instalación de librerías:\n",
    "     + CRAN \n",
    "     + GitHub (hay que instalar antes el paquete \"devtools\")\n",
    "     + local"
   ]
  },
  {
   "cell_type": "code",
   "execution_count": null,
   "metadata": {},
   "outputs": [],
   "source": [
    "## installing from CRAN ##\n",
    "# R.matlab package (https://cran.r-project.org/web/packages/R.matlab/index.html). \n",
    "# R.matlab provides methods for controlling MATLAB via R and sending and retrieving data between R and MATLAB.\n",
    "install.packages(\"R.matlab\")\n",
    "\n",
    "# La primera vez que se instale un paquete, R  preguntará el país desde dónde se desea descargar\n",
    "# (es aconsejable hacerlo desde un mirror español). \n",
    "\n",
    "# Una vez instalado no se necesitará instalarlo más, pero hay que cargarlo en memoria para poder usarlo\n",
    "library(R.matlab)\n",
    "existsFunction(\"writeMat\")"
   ]
  },
  {
   "cell_type": "code",
   "execution_count": null,
   "metadata": {},
   "outputs": [],
   "source": [
    "# https://cran.r-project.org/web/packages/devtools/index.html\n",
    "install.packages(\"devtools\")\n",
    "library(devtools)\n",
    "\n",
    "## installing from GitHub ##\n",
    "install_github(\"HenrikBengtsson/R.matlab@develop\")\n",
    "library(R.matlab)"
   ]
  },
  {
   "cell_type": "code",
   "execution_count": null,
   "metadata": {},
   "outputs": [],
   "source": [
    "## instalación local de un paquete comprimido\n",
    "install.packages(\"./pathLocal/paquete.tar.gz\", repos = NULL, type = \"source\")\n",
    "library(paquete)"
   ]
  },
  {
   "cell_type": "markdown",
   "metadata": {},
   "source": [
    "* En ocasiones se hace necesario eliminar de la memoria algún paquete que hemos cargado previamente (por ejemplo, porque deseamos cargar una versión que acabamos de actualizar). Para ello basta con ejecutar el comando *detach*"
   ]
  },
  {
   "cell_type": "code",
   "execution_count": null,
   "metadata": {},
   "outputs": [],
   "source": [
    "detach(\"package:R.matlab\")\n",
    "# comprueba si existe la función especificada\n",
    "existsFunction(\"writeMat\") "
   ]
  },
  {
   "cell_type": "markdown",
   "metadata": {},
   "source": [
    "* Si queremos eliminar físicamente del disco duro un paquete que tengamos instalado, basta ejecutar la función *remove.packages*"
   ]
  },
  {
   "cell_type": "code",
   "execution_count": null,
   "metadata": {},
   "outputs": [],
   "source": [
    "remove.packages(\"R.matlab\")"
   ]
  },
  {
   "cell_type": "markdown",
   "metadata": {},
   "source": [
    "* Para ver un listado de todos los paquetes que tenemos en nuestro ordenador que pueden ser actualizados"
   ]
  },
  {
   "cell_type": "code",
   "execution_count": null,
   "metadata": {},
   "outputs": [],
   "source": [
    "old.packages()"
   ]
  },
  {
   "cell_type": "markdown",
   "metadata": {},
   "source": [
    "* Para actualizar dichos paquetes"
   ]
  },
  {
   "cell_type": "code",
   "execution_count": null,
   "metadata": {},
   "outputs": [],
   "source": [
    "update.packages()"
   ]
  },
  {
   "cell_type": "markdown",
   "metadata": {},
   "source": [
    "* Finalmente, podemos querer cargar una función que hayamos creado nosotros mismos o nos hayamos descargado en local, pero que no sea una librería. Para ello tenemos que usar el comando `source`. El problema de este comando es que hay que volver a aplicarlo siempre que hagamos un cambio en la funcion que queramos utilizar."
   ]
  },
  {
   "cell_type": "code",
   "execution_count": 90,
   "metadata": {},
   "outputs": [
    {
     "name": "stdout",
     "output_type": "stream",
     "text": [
      "[1] \"Mi nombre es Rodrigo\"\n"
     ]
    }
   ],
   "source": [
    "source(\"/home/jovyan/R/show.name.R\")\n",
    "show.name(\"Rodrigo\")"
   ]
  },
  {
   "cell_type": "markdown",
   "metadata": {
    "button": false,
    "new_sheet": false,
    "run_control": {
     "read_only": false
    }
   },
   "source": [
    "## RStudio\n",
    "* RStudio es un IDE (*Integrated Development Environment*, o Entorno de Desarrollo Integrado) de código abierto que permite interactuar con R de manera muy simple. Por decirlo de una manera gráfica, R será nuestro motor para el análisis de datos y Rstudio la carrocería que nos va a permitir manejar cómodamente toda la potencia del motor.\n",
    "* Entre otras ventajas, Rstudio utiliza diferentes colores para las distintas clases de objetos de R, permite autocompletar código (tecla tabulador), incluye un sistema de menús de ayuda muy completo, cuenta con un potente sistema para la gestión, descarga y construcción de librerías, dispone de un depurador de código que detecta posibles errores de sintaxis, es multiplataforma (existen versiones para Windows, Linux y Mac)...\n",
    "* Instalación: \n",
    "http://www.rstudio.com/\n",
    "* Por defecto, RStudio tiene cuatro paneles principales (la interfaz puede modificarse en *Tools → Options → PaneLayout*). \n",
    "   + El panel inferior izquierdo es una consola de R. En ella se puede escribir y ejecutar código. \n",
    "   + El panel superior izquierdo es un editor de código. Los ficheros que se abran y se editen irán apareciendo en distintas pestañas.\n",
    "   + Los paneles de la derecha son menos importantes. \n",
    "      + El superior contiene un listado de las variables en el entorno y un histórico de comandos ejecutados. \n",
    "      + De entre todas las pestañas que aparecen en el inferior, las más usadas generalmente son:\n",
    "        + Files: da acceso al sistema de ficheros del disco duro.\n",
    "        + Plots: aloja los gráficos que cree R.\n",
    "        + Help: muestra la página de ayuda de las funciones cuando la solicite el usuario.             \n",
    "* Permite la creación de proyectos e integra funcionalidades git.\n"
   ]
  }
 ],
 "metadata": {
  "kernelspec": {
   "display_name": "R",
   "language": "R",
   "name": "ir"
  },
  "language_info": {
   "codemirror_mode": "r",
   "file_extension": ".r",
   "mimetype": "text/x-r-source",
   "name": "R",
   "pygments_lexer": "r",
   "version": "3.4.4"
  }
 },
 "nbformat": 4,
 "nbformat_minor": 2
}
